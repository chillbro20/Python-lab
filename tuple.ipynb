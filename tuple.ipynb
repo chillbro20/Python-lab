{
 "cells": [
  {
   "cell_type": "markdown",
   "metadata": {},
   "source": [
    "## Tuple\n",
    "\n",
    "1. Tuple can hold multiple values\n",
    "2. Tuple is immutable (add, remove item)\n",
    "3. Tuple is indexed (indexing and slicing)\n",
    "4. Tuple can have duplicate item\n",
    "5. Tuple is represented by ( ) with comma seperated values\n",
    "6. Tuple can have mixed values inside it\n",
    "7. Tuple can be nested inside list\n",
    "8. Tuple has function  called  tuple() used for typecasting other sequence to tuple"
   ]
  },
  {
   "cell_type": "markdown",
   "metadata": {},
   "source": [
    "#### what u need to learn\n",
    "- Creation \n",
    "- Slicing and indexing\n",
    "- Traversal\n",
    "- functions\n"
   ]
  },
  {
   "cell_type": "code",
   "execution_count": 2,
   "metadata": {},
   "outputs": [
    {
     "name": "stdout",
     "output_type": "stream",
     "text": [
      "(1, 2, 3, 4, 5)\n",
      "<class 'tuple'>\n"
     ]
    }
   ],
   "source": [
    "t=1,2,3,4,5\n",
    "print(t)\n",
    "print(type(t))"
   ]
  },
  {
   "cell_type": "code",
   "execution_count": 3,
   "metadata": {},
   "outputs": [
    {
     "name": "stdout",
     "output_type": "stream",
     "text": [
      "(2, 2, 3, 1, 'alex', 'elex')\n"
     ]
    }
   ],
   "source": [
    "t2=(2,2,3,1,'alex','elex')\n",
    "print(t2)"
   ]
  },
  {
   "cell_type": "code",
   "execution_count": 4,
   "metadata": {},
   "outputs": [
    {
     "name": "stdout",
     "output_type": "stream",
     "text": [
      "[1, 2, 3, 4, 6] (1, 2, 3, 4, 6)\n"
     ]
    }
   ],
   "source": [
    "x =[1,2,3,4,6]\n",
    "xt = tuple(x)\n",
    "print(x,xt)"
   ]
  },
  {
   "cell_type": "code",
   "execution_count": 5,
   "metadata": {},
   "outputs": [
    {
     "name": "stdout",
     "output_type": "stream",
     "text": [
      "(10, 12, 13, 10)\n"
     ]
    }
   ],
   "source": [
    "a=10\n",
    "b=12\n",
    "c=13\n",
    "x=(a,b,c,a)\n",
    "print(x)\n"
   ]
  },
  {
   "cell_type": "code",
   "execution_count": 6,
   "metadata": {},
   "outputs": [
    {
     "data": {
      "text/plain": [
       "(1, 1, 1, 2, 2, 2, 3, 3, 4, 4, 3, 3, 56, 7, 7, 7, 7, 7, 8, 9, 3, 4)"
      ]
     },
     "execution_count": 6,
     "metadata": {},
     "output_type": "execute_result"
    }
   ],
   "source": [
    "x = (1,1,1,2,2,2,3,3,4,4,3,3,56,7,7,7,7,7,8,9,3,4,)\n",
    "x\n"
   ]
  },
  {
   "cell_type": "code",
   "execution_count": 18,
   "metadata": {},
   "outputs": [
    {
     "name": "stdout",
     "output_type": "stream",
     "text": [
      "1\n",
      "1\n",
      "4\n",
      "2\n"
     ]
    }
   ],
   "source": [
    "print(x[0]) # first value\n",
    "print(x[1]) # second value\n",
    "print(x[-1]) # last value\n",
    "print(x[4]) # third value "
   ]
  },
  {
   "cell_type": "code",
   "execution_count": 17,
   "metadata": {},
   "outputs": [
    {
     "name": "stdout",
     "output_type": "stream",
     "text": [
      "(1, 1, 1)\n",
      "9\n",
      "(2, 3, 3, 4, 4, 3, 3, 56, 7, 7)\n",
      "(4, 3, 9, 8, 7, 7, 7, 7, 7, 56, 3, 3, 4, 4, 3, 3, 2, 2, 2, 1, 1, 1)\n"
     ]
    }
   ],
   "source": [
    "print(x[:3]) # first 3\n",
    "print(x [ -3]) #last 3\n",
    "print(x[5 : 15]) # from 5 index to 14 index \n",
    "print(x[:: -1]) # reverse tuple\n",
    "# all odd indexes\n",
    "# all even indexes "
   ]
  },
  {
   "cell_type": "code",
   "execution_count": 11,
   "metadata": {},
   "outputs": [
    {
     "data": {
      "text/plain": [
       "3"
      ]
     },
     "execution_count": 11,
     "metadata": {},
     "output_type": "execute_result"
    }
   ],
   "source": [
    "x.count(2)"
   ]
  },
  {
   "cell_type": "code",
   "execution_count": 12,
   "metadata": {},
   "outputs": [
    {
     "data": {
      "text/plain": [
       "3"
      ]
     },
     "execution_count": 12,
     "metadata": {},
     "output_type": "execute_result"
    }
   ],
   "source": [
    "x.count(1)"
   ]
  },
  {
   "cell_type": "code",
   "execution_count": 14,
   "metadata": {},
   "outputs": [],
   "source": [
    "p = ['sit','sat', 'sitting']\n"
   ]
  },
  {
   "cell_type": "code",
   "execution_count": 15,
   "metadata": {},
   "outputs": [
    {
     "data": {
      "text/plain": [
       "1"
      ]
     },
     "execution_count": 15,
     "metadata": {},
     "output_type": "execute_result"
    }
   ],
   "source": [
    "p.index('sat')"
   ]
  },
  {
   "cell_type": "code",
   "execution_count": null,
   "metadata": {},
   "outputs": [],
   "source": []
  }
 ],
 "metadata": {
  "interpreter": {
   "hash": "3c2a4be17033db99e330745b79299328aef13830ff12594a5e1dd606863de531"
  },
  "kernelspec": {
   "display_name": "Python 3.9.9 ('base')",
   "language": "python",
   "name": "python3"
  },
  "language_info": {
   "codemirror_mode": {
    "name": "ipython",
    "version": 3
   },
   "file_extension": ".py",
   "mimetype": "text/x-python",
   "name": "python",
   "nbconvert_exporter": "python",
   "pygments_lexer": "ipython3",
   "version": "3.9.9"
  },
  "orig_nbformat": 4
 },
 "nbformat": 4,
 "nbformat_minor": 2
}
