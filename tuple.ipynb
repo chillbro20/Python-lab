{
 "cells": [
  {
   "cell_type": "markdown",
   "metadata": {},
   "source": [
    "## Tuple\n",
    "\n",
    "1. Tuple can hold multiple values\n",
    "2. Tuple is immutable (add, remove item)\n",
    "3. Tuple is indexed (indexing and slicing)\n",
    "4. Tuple can have duplicate item\n",
    "5. Tuple is represented by ( ) with comma seperated values\n",
    "6. Tuple can have mixed values inside it\n",
    "7. Tuple can be nested inside list"
   ]
  },
  {
   "cell_type": "markdown",
   "metadata": {},
   "source": []
  }
 ],
 "metadata": {
  "language_info": {
   "name": "python"
  },
  "orig_nbformat": 4
 },
 "nbformat": 4,
 "nbformat_minor": 2
}
