{
 "cells": [
  {
   "cell_type": "markdown",
   "metadata": {},
   "source": [
    "\n",
    "##### Comprehension\n",
    "##### Lambda, Map, Reduce"
   ]
  },
  {
   "cell_type": "code",
   "execution_count": 2,
   "metadata": {},
   "outputs": [
    {
     "name": "stdout",
     "output_type": "stream",
     "text": [
      "[11, 12, 13, 14, 15, 16, 17, 18, 19, 20]\n"
     ]
    }
   ],
   "source": [
    "# normal code\n",
    "x = [1,2,3,4,5,6,7,8,9,10]\n",
    "x10= []\n",
    "for i in x:\n",
    "    out = i+10\n",
    "    x10.append(out)\n",
    "print(x10)"
   ]
  },
  {
   "cell_type": "markdown",
   "metadata": {},
   "source": [
    "comprehension syntax\n",
    " --"
   ]
  },
  {
   "cell_type": "markdown",
   "metadata": {},
   "source": [
    "- simple\n",
    "###### newlist = [operation loop]\n",
    "\n",
    "- conditional\n",
    "###### newlist = [operation loop condition]"
   ]
  },
  {
   "cell_type": "code",
   "execution_count": null,
   "metadata": {},
   "outputs": [],
   "source": [
    "# pythonic\n",
    "xinv10 = [i-10 for i in x]\n",
    "print(xinv10)"
   ]
  },
  {
   "cell_type": "code",
   "execution_count": null,
   "metadata": {},
   "outputs": [],
   "source": [
    "y =[1,2,3,4,5,6]\n",
    "ysqr_even =[]\n",
    "for i in y:\n",
    "    if i % 2 == 0:\n",
    "        sqr =i ** 2\n",
    "        ysqr_even.append(sqr)\n",
    "print(ysqr_even)"
   ]
  },
  {
   "cell_type": "code",
   "execution_count": null,
   "metadata": {},
   "outputs": [],
   "source": [
    "ycube_odd= [i**3 for i in y if i%2 !=0]\n",
    "ycube_odd"
   ]
  },
  {
   "cell_type": "code",
   "execution_count": null,
   "metadata": {},
   "outputs": [],
   "source": [
    "names =['Kaladin stormblessed','Adolin Kholin', 'Shalan Dawar']\n",
    "surnames =[]\n",
    "for name in names:\n",
    "    sn = name.split()[-2] # select last word\n",
    "    surnames.append(sn)\n",
    "print(surnames)\n"
   ]
  },
  {
   "cell_type": "code",
   "execution_count": null,
   "metadata": {},
   "outputs": [],
   "source": [
    "firstname = [name.split()[-1] for name in names]\n",
    "print(firstname)"
   ]
  },
  {
   "cell_type": "code",
   "execution_count": null,
   "metadata": {},
   "outputs": [],
   "source": [
    "firstname = [name.split()[-2] for name in names]\n",
    "print(firstname)"
   ]
  },
  {
   "cell_type": "code",
   "execution_count": null,
   "metadata": {},
   "outputs": [],
   "source": [
    "emps = [' Suraj','Ali','Mohan','Rohan', ' Kajal', ' Shubhangi', 'Saurabh','Manju']\n",
    "# emps that contain n in their name\n"
   ]
  },
  {
   "cell_type": "code",
   "execution_count": null,
   "metadata": {},
   "outputs": [],
   "source": [
    "emps_n=[]\n",
    "for name in emps:\n",
    "    if 'n' in name:\n",
    "        emps_n.append(name)\n",
    "print(emps_n)"
   ]
  },
  {
   "cell_type": "code",
   "execution_count": null,
   "metadata": {},
   "outputs": [],
   "source": [
    "emps_u=[name for name in emps if 'u' in name]\n",
    "print(emps_u)\n"
   ]
  },
  {
   "cell_type": "code",
   "execution_count": null,
   "metadata": {},
   "outputs": [],
   "source": [
    "x= [1,2,3,4,5,6]\n",
    "y= [2,3,5,1,2,5]\n",
    "# add x and y elements and put in z\n",
    "z = []\n",
    "for i,j in zip(x,y):\n",
    "    z.append(i +j)\n",
    "print(z)\n"
   ]
  },
  {
   "cell_type": "code",
   "execution_count": null,
   "metadata": {},
   "outputs": [],
   "source": [
    "a = [i*j for i,j in zip (x,y)]\n",
    "print(a)"
   ]
  },
  {
   "cell_type": "code",
   "execution_count": null,
   "metadata": {},
   "outputs": [],
   "source": []
  }
 ],
 "metadata": {
  "interpreter": {
   "hash": "3c2a4be17033db99e330745b79299328aef13830ff12594a5e1dd606863de531"
  },
  "kernelspec": {
   "display_name": "Python 3.9.9 ('base')",
   "language": "python",
   "name": "python3"
  },
  "language_info": {
   "codemirror_mode": {
    "name": "ipython",
    "version": 3
   },
   "file_extension": ".py",
   "mimetype": "text/x-python",
   "name": "python",
   "nbconvert_exporter": "python",
   "pygments_lexer": "ipython3",
   "version": "3.9.9"
  },
  "orig_nbformat": 4
 },
 "nbformat": 4,
 "nbformat_minor": 2
}
