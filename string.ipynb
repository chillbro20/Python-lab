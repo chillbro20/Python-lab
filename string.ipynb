{
 "cells": [
  {
   "cell_type": "code",
   "execution_count": 1,
   "metadata": {},
   "outputs": [],
   "source": [
    "x= 29032\n",
    "a='laptop'\n",
    "c= 'cosumener id'"
   ]
  },
  {
   "cell_type": "code",
   "execution_count": 2,
   "metadata": {},
   "outputs": [
    {
     "name": "stdout",
     "output_type": "stream",
     "text": [
      "the laptop was purchase via cosumener id = 29032\n"
     ]
    }
   ],
   "source": [
    "print(\"the {} was purchase via {} = {}\".format(a,c,x))\n"
   ]
  },
  {
   "cell_type": "code",
   "execution_count": 3,
   "metadata": {},
   "outputs": [
    {
     "name": "stdout",
     "output_type": "stream",
     "text": [
      "the laptop was purchased via cosumener id = 29032\n"
     ]
    }
   ],
   "source": [
    "print(f'the {a} was purchased via {c} = {x}')"
   ]
  },
  {
   "cell_type": "code",
   "execution_count": 4,
   "metadata": {},
   "outputs": [],
   "source": [
    "quote = \"life before Death,  \""
   ]
  },
  {
   "cell_type": "code",
   "execution_count": 7,
   "metadata": {},
   "outputs": [],
   "source": [
    "message  = \"this is a place, where we have written a message. this is a place where we\""
   ]
  },
  {
   "cell_type": "code",
   "execution_count": 8,
   "metadata": {},
   "outputs": [
    {
     "data": {
      "text/plain": [
       "7"
      ]
     },
     "execution_count": 8,
     "metadata": {},
     "output_type": "execute_result"
    }
   ],
   "source": [
    "message.count(\"a\")"
   ]
  },
  {
   "cell_type": "code",
   "execution_count": 9,
   "metadata": {},
   "outputs": [
    {
     "data": {
      "text/plain": [
       "2"
      ]
     },
     "execution_count": 9,
     "metadata": {},
     "output_type": "execute_result"
    }
   ],
   "source": [
    "message.count(\"place\")"
   ]
  },
  {
   "cell_type": "code",
   "execution_count": 10,
   "metadata": {},
   "outputs": [
    {
     "data": {
      "text/plain": [
       "2"
      ]
     },
     "execution_count": 10,
     "metadata": {},
     "output_type": "execute_result"
    }
   ],
   "source": [
    "message.count(\"where\")"
   ]
  },
  {
   "cell_type": "markdown",
   "metadata": {},
   "source": [
    "Alphabate Counter"
   ]
  },
  {
   "cell_type": "code",
   "execution_count": 12,
   "metadata": {},
   "outputs": [
    {
     "name": "stdout",
     "output_type": "stream",
     "text": [
      "a : 7\n",
      "s : 6\n",
      "h : 5\n",
      "f : 0\n",
      "s : 6\n",
      "d : 0\n",
      "g : 1\n",
      "y : 0\n",
      "w : 5\n",
      "t : 4\n",
      "t : 4\n",
      "n : 1\n",
      "n : 1\n",
      "g : 1\n",
      "m : 1\n",
      "v : 1\n",
      "n : 1\n",
      "k : 0\n",
      "f : 0\n",
      "g : 1\n",
      "y : 0\n",
      "t : 4\n",
      "o : 0\n",
      "w : 5\n",
      "r : 3\n",
      "g : 1\n",
      "e : 12\n",
      "g : 1\n",
      "d : 0\n",
      "s : 6\n",
      "h : 5\n",
      "j : 0\n"
     ]
    }
   ],
   "source": [
    "for char in 'ashfsdgywttnngmvnkfgytowrgegdshj':\n",
    "    print(f\"{char} : {message.count(char)}\")"
   ]
  },
  {
   "cell_type": "code",
   "execution_count": null,
   "metadata": {},
   "outputs": [],
   "source": [
    "for char in 'ashfsdgywttnngmvnkfgytowrgegdshj':\n",
    "    count = message.count(char)\n",
    "    if count>0:\n",
    "        print(f\"{char} : {count}\")"
   ]
  },
  {
   "cell_type": "code",
   "execution_count": 13,
   "metadata": {},
   "outputs": [
    {
     "data": {
      "text/plain": [
       "16"
      ]
     },
     "execution_count": 13,
     "metadata": {},
     "output_type": "execute_result"
    }
   ],
   "source": [
    "len (message.split())"
   ]
  },
  {
   "cell_type": "markdown",
   "metadata": {},
   "source": [
    "# word counter"
   ]
  },
  {
   "cell_type": "code",
   "execution_count": 14,
   "metadata": {},
   "outputs": [
    {
     "name": "stdout",
     "output_type": "stream",
     "text": [
      "{'place', 'we', 'message.', 'this', 'is', 'where', 'have', 'place,', 'a', 'written'}\n"
     ]
    }
   ],
   "source": [
    "unique_words = set(message.split()) #set is used to get only unique values\n",
    "print (unique_words)"
   ]
  },
  {
   "cell_type": "code",
   "execution_count": 16,
   "metadata": {},
   "outputs": [
    {
     "name": "stdout",
     "output_type": "stream",
     "text": [
      "place -> 1\n",
      "we -> 2\n",
      "message. -> 1\n",
      "this -> 2\n",
      "is -> 2\n",
      "where -> 2\n",
      "have -> 1\n",
      "place, -> 1\n",
      "a -> 3\n",
      "written -> 1\n"
     ]
    }
   ],
   "source": [
    "for word in unique_words:\n",
    "    word_list = message.split()\n",
    "    WC = word_list.count(word)\n",
    "    print(f\"{word} -> {WC}\")"
   ]
  },
  {
   "cell_type": "code",
   "execution_count": 17,
   "metadata": {},
   "outputs": [
    {
     "data": {
      "text/plain": [
       "['it', 'is', 'laptop']"
      ]
     },
     "execution_count": 17,
     "metadata": {},
     "output_type": "execute_result"
    }
   ],
   "source": [
    "\"it is laptop\".split()"
   ]
  },
  {
   "cell_type": "code",
   "execution_count": 18,
   "metadata": {},
   "outputs": [],
   "source": [
    "q = \"the only step a person can take is, the next step\""
   ]
  },
  {
   "cell_type": "code",
   "execution_count": 19,
   "metadata": {},
   "outputs": [
    {
     "data": {
      "text/plain": [
       "23"
      ]
     },
     "execution_count": 19,
     "metadata": {},
     "output_type": "execute_result"
    }
   ],
   "source": [
    "q.find('can')"
   ]
  },
  {
   "cell_type": "code",
   "execution_count": 21,
   "metadata": {},
   "outputs": [
    {
     "data": {
      "text/plain": [
       "9"
      ]
     },
     "execution_count": 21,
     "metadata": {},
     "output_type": "execute_result"
    }
   ],
   "source": [
    "q.find('step')"
   ]
  },
  {
   "cell_type": "code",
   "execution_count": 22,
   "metadata": {},
   "outputs": [
    {
     "data": {
      "text/plain": [
       "16"
      ]
     },
     "execution_count": 22,
     "metadata": {},
     "output_type": "execute_result"
    }
   ],
   "source": [
    "q.find('person')"
   ]
  },
  {
   "cell_type": "code",
   "execution_count": 20,
   "metadata": {},
   "outputs": [
    {
     "data": {
      "text/plain": [
       "16"
      ]
     },
     "execution_count": 20,
     "metadata": {},
     "output_type": "execute_result"
    }
   ],
   "source": [
    "q.rfind(\"person\")"
   ]
  },
  {
   "cell_type": "markdown",
   "metadata": {},
   "source": [
    "Program to check if the data provided by the user is numeric or not , if its numeric , convert it to int else check if it contains any number and extract that number"
   ]
  },
  {
   "cell_type": "code",
   "execution_count": 27,
   "metadata": {},
   "outputs": [
    {
     "name": "stdout",
     "output_type": "stream",
     "text": [
      "extracted number: 2\n",
      "extracted number: 24\n",
      "extracted number: 245\n",
      "extracted number: 2455\n",
      "extracted number: 24556\n",
      "extracted number: 245567\n",
      "extracted number: 245567\n",
      "extracted number: 245567\n",
      "extracted number: 245567\n",
      "extracted number: 245567\n",
      "extracted number: 245567\n",
      "extracted number: 2455672\n"
     ]
    }
   ],
   "source": [
    "data = input(\"Enter a data: \")\n",
    "if data.isnumeric():\n",
    "    num = int (data)\n",
    "    print(\"number:\", num)\n",
    "else:\n",
    "\n",
    "    temp = \" \" # no space\n",
    "    for c in data:\n",
    "        if c.isnumeric():\n",
    "            temp+=c\n",
    "        num = int(temp)\n",
    "        print(\"extracted number:\",num)\n",
    "\n"
   ]
  },
  {
   "cell_type": "markdown",
   "metadata": {},
   "source": [
    " remove all the punctuations from the following string\n",
    " \n",
    "  \n",
    "  @@Hello#! ^%%!@^Wo*(*(){}rld!!!\n"
   ]
  },
  {
   "cell_type": "code",
   "execution_count": 28,
   "metadata": {},
   "outputs": [],
   "source": [
    "from string import punctuation"
   ]
  },
  {
   "cell_type": "code",
   "execution_count": 30,
   "metadata": {},
   "outputs": [
    {
     "name": "stdout",
     "output_type": "stream",
     "text": [
      "Hello World\n"
     ]
    }
   ],
   "source": [
    "value = \"@@Hello#! ^%%!@^Wo*(*(){}rld!!!\"\n",
    "for p in punctuation:\n",
    "    value = value.replace(p,\"\")\n",
    "print(value)"
   ]
  },
  {
   "cell_type": "code",
   "execution_count": 1,
   "metadata": {},
   "outputs": [],
   "source": [
    "name = \"Harry Potter\""
   ]
  },
  {
   "cell_type": "code",
   "execution_count": 2,
   "metadata": {},
   "outputs": [
    {
     "data": {
      "text/plain": [
       "'H'"
      ]
     },
     "execution_count": 2,
     "metadata": {},
     "output_type": "execute_result"
    }
   ],
   "source": [
    "name[0]"
   ]
  },
  {
   "cell_type": "code",
   "execution_count": null,
   "metadata": {},
   "outputs": [],
   "source": []
  }
 ],
 "metadata": {
  "interpreter": {
   "hash": "3c2a4be17033db99e330745b79299328aef13830ff12594a5e1dd606863de531"
  },
  "kernelspec": {
   "display_name": "Python 3.9.9 ('base')",
   "language": "python",
   "name": "python3"
  },
  "language_info": {
   "codemirror_mode": {
    "name": "ipython",
    "version": 3
   },
   "file_extension": ".py",
   "mimetype": "text/x-python",
   "name": "python",
   "nbconvert_exporter": "python",
   "pygments_lexer": "ipython3",
   "version": "3.9.9"
  },
  "orig_nbformat": 4
 },
 "nbformat": 4,
 "nbformat_minor": 2
}
