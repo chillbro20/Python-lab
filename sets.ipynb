{
 "cells": [
  {
   "cell_type": "markdown",
   "metadata": {},
   "source": [
    "A= 1,2,3,3,3,3,2,2,1\n",
    "B= 2,2,1,2,2,3,3,1,2,4,6\n",
    "A U B = 1,2,3,4,6\n"
   ]
  },
  {
   "cell_type": "markdown",
   "metadata": {},
   "source": [
    "# Set \n",
    "1. Set can hold multiple values\n",
    "2. Set is mutable (add, remove item)\n",
    "3. Set is **unindexed**\n",
    "4. Set can have only **unique value**\n",
    "5. Set is represented by { } with comma seperated values\n",
    "6. Set can have mixed values inside \n",
    "7. Set can only hold ***immutable values**\n",
    "8. set **cannot be nested**"
   ]
  },
  {
   "cell_type": "markdown",
   "metadata": {},
   "source": [
    "What u nees to learn\n",
    "- creation\n",
    "- looping\n",
    "- conversion\n",
    "- functions"
   ]
  },
  {
   "cell_type": "code",
   "execution_count": 2,
   "metadata": {},
   "outputs": [
    {
     "name": "stdout",
     "output_type": "stream",
     "text": [
      "{1, 2, 3, 4, 5} <class 'set'>\n"
     ]
    }
   ],
   "source": [
    "x = { 1,2,3,4,5}\n",
    "print(x, type(x))"
   ]
  },
  {
   "cell_type": "code",
   "execution_count": 4,
   "metadata": {},
   "outputs": [
    {
     "name": "stdout",
     "output_type": "stream",
     "text": [
      "{2, 3, 4, 6, 7, 8} <class 'set'>\n"
     ]
    }
   ],
   "source": [
    "y = { 8,3,4,6,7,2,2,6}\n",
    "print(y,type(y))"
   ]
  },
  {
   "cell_type": "code",
   "execution_count": 5,
   "metadata": {},
   "outputs": [
    {
     "name": "stdout",
     "output_type": "stream",
     "text": [
      "{10, 'Hamon', 20}\n"
     ]
    }
   ],
   "source": [
    "a= 10\n",
    "b= 20\n",
    "c= 'Hamon'\n",
    "d= {a,b,c}\n",
    "print(d)"
   ]
  },
  {
   "cell_type": "code",
   "execution_count": 7,
   "metadata": {},
   "outputs": [
    {
     "name": "stdout",
     "output_type": "stream",
     "text": [
      "<class 'dict'> <class 'set'>\n"
     ]
    }
   ],
   "source": [
    "x ={} # empty dictionary\n",
    "xs = set() # empty set\n",
    "print(type(x) , type(xs))"
   ]
  },
  {
   "cell_type": "code",
   "execution_count": 17,
   "metadata": {},
   "outputs": [
    {
     "name": "stdout",
     "output_type": "stream",
     "text": [
      "{1, 2}\n"
     ]
    }
   ],
   "source": [
    "z = {1,1,1,1,1,1,2,2,2,2,2}\n",
    "print(z)"
   ]
  },
  {
   "cell_type": "code",
   "execution_count": 12,
   "metadata": {},
   "outputs": [
    {
     "data": {
      "text/plain": [
       "{'Alex', 'Jhon', 'Mary', 'Steve', 'alex'}"
      ]
     },
     "execution_count": 12,
     "metadata": {},
     "output_type": "execute_result"
    }
   ],
   "source": [
    "names = {'Alex','Jhon','Mary','Steve','Alex','alex','Jhon','Mary','Steve'}\n",
    "names"
   ]
  },
  {
   "cell_type": "code",
   "execution_count": 16,
   "metadata": {},
   "outputs": [
    {
     "name": "stdout",
     "output_type": "stream",
     "text": [
      "{'t', 'p', 'n', 'c', 'l', 'i', 'a', 'e', 'o', 's', 'u'}\n"
     ]
    }
   ],
   "source": [
    "x = set('encapsulation')\n",
    "print(x)"
   ]
  },
  {
   "cell_type": "code",
   "execution_count": 18,
   "metadata": {},
   "outputs": [
    {
     "data": {
      "text/plain": [
       "True"
      ]
     },
     "execution_count": 18,
     "metadata": {},
     "output_type": "execute_result"
    }
   ],
   "source": [
    "# cheakin if all the characters in a string are unique in one line of code\n",
    "len (set('zaid')) == len('zaid')"
   ]
  },
  {
   "cell_type": "code",
   "execution_count": 20,
   "metadata": {},
   "outputs": [
    {
     "name": "stdout",
     "output_type": "stream",
     "text": [
      "{1, 2, 3, 4, 5, 6, 7, 8, 9, 10, 21}\n"
     ]
    }
   ],
   "source": [
    "nums = set([1,2,3,4,5,6,7,8,9,10,1,21,2,2,2,1,1,1])\n",
    "print(nums)"
   ]
  },
  {
   "cell_type": "code",
   "execution_count": 23,
   "metadata": {},
   "outputs": [
    {
     "name": "stdout",
     "output_type": "stream",
     "text": [
      "{'Mary', 'Jhon', 'alex', 'Alex', 'Steve'} {'Mary', 'Jhon', 'alex', 'Alex', 'Steve'} {'Mary', 'Jhon', 'alex', 'Alex', 'Steve'} {'Mary', 'Jhon', 'alex', 'Alex', 'Steve'} {'Mary', 'Jhon', 'alex', 'Alex', 'Steve'} "
     ]
    }
   ],
   "source": [
    "for name in names:\n",
    "    print (names, end=' ')\n"
   ]
  },
  {
   "cell_type": "code",
   "execution_count": 24,
   "metadata": {},
   "outputs": [
    {
     "name": "stdout",
     "output_type": "stream",
     "text": [
      "t p n c l i a e o s u "
     ]
    }
   ],
   "source": [
    "for char in x:\n",
    "    print(char, end = \" \")"
   ]
  },
  {
   "cell_type": "code",
   "execution_count": 25,
   "metadata": {},
   "outputs": [
    {
     "data": {
      "text/plain": [
       "{(1, 2, 3), 1, 2, 'Hello'}"
      ]
     },
     "execution_count": 25,
     "metadata": {},
     "output_type": "execute_result"
    }
   ],
   "source": [
    "x = { 1,2,\"Hello\" , (1,2,3)}\n",
    "x"
   ]
  },
  {
   "cell_type": "code",
   "execution_count": 27,
   "metadata": {},
   "outputs": [
    {
     "data": {
      "text/plain": [
       "{' Surabh', 1, 2}"
      ]
     },
     "execution_count": 27,
     "metadata": {},
     "output_type": "execute_result"
    }
   ],
   "source": [
    "x = {1,2,\" Surabh\"}\n",
    "x"
   ]
  },
  {
   "cell_type": "markdown",
   "metadata": {},
   "source": [
    "list<-> set <-> tuple <-> list"
   ]
  },
  {
   "cell_type": "code",
   "execution_count": 28,
   "metadata": {},
   "outputs": [
    {
     "name": "stdout",
     "output_type": "stream",
     "text": [
      "[1, 2, 3, 2, 3, 1] (1, 2, 3, 2, 3, 1) {1, 2, 3}\n"
     ]
    }
   ],
   "source": [
    "x = [1,2,3,2,3,1]\n",
    "xt = tuple(x)\n",
    "xs = set(x)\n",
    "print(x,xt,xs)"
   ]
  },
  {
   "cell_type": "code",
   "execution_count": 29,
   "metadata": {},
   "outputs": [
    {
     "name": "stdout",
     "output_type": "stream",
     "text": [
      "{1, 2, 3} [1, 2, 3]\n"
     ]
    }
   ],
   "source": [
    "xl = list(xs)\n",
    "print(xs,xl)"
   ]
  },
  {
   "cell_type": "markdown",
   "metadata": {},
   "source": [
    "#### FUNCTION\n",
    "- Adding values\n",
    "    - add\n",
    "    - updates\n",
    "- remeoving values\n",
    "    - pop\n",
    "    - remove\n",
    "    - discard\n",
    "    - clear\n",
    "- set implementation\n",
    "    - union\n",
    "    - intersection\n",
    "    - difference\n",
    "    - symmetric difference\n",
    "    - is_superset\n",
    "    - is_subset\n",
    "    - is-disjoint"
   ]
  },
  {
   "cell_type": "code",
   "execution_count": 30,
   "metadata": {},
   "outputs": [
    {
     "data": {
      "text/plain": [
       "{' the great Gatsby', 'A Song of Ice and Fire', 'Snowcrash'}"
      ]
     },
     "execution_count": 30,
     "metadata": {},
     "output_type": "execute_result"
    }
   ],
   "source": [
    "books = set()\n",
    "books.add('Snowcrash')\n",
    "books.add('A Song of Ice and Fire')\n",
    "books.add(' the great Gatsby')\n",
    "books"
   ]
  },
  {
   "cell_type": "code",
   "execution_count": 34,
   "metadata": {},
   "outputs": [
    {
     "data": {
      "text/plain": [
       "{' the great Gatsby',\n",
       " 'A Song of Ice and Fire',\n",
       " 'Snowcrash',\n",
       " 'Stromlight Archive',\n",
       " 'The Finale Empire',\n",
       " 'The Name of the Wind',\n",
       " 'The Name of tje Wind',\n",
       " 'The Well of Ascension'}"
      ]
     },
     "execution_count": 34,
     "metadata": {},
     "output_type": "execute_result"
    }
   ],
   "source": [
    "books.update(['Stromlight Archive', 'The Name of the Wind'])\n",
    "books.update(['The Finale Empire', 'The Well of Ascension'])\n",
    "books"
   ]
  },
  {
   "cell_type": "code",
   "execution_count": 35,
   "metadata": {},
   "outputs": [
    {
     "data": {
      "text/plain": [
       "{' the great Gatsby',\n",
       " 'A Song of Ice and Fire',\n",
       " 'Snowcrash',\n",
       " 'Stromlight Archive',\n",
       " 'The Finale Empire',\n",
       " 'The Name of tje Wind',\n",
       " 'The Well of Ascension'}"
      ]
     },
     "execution_count": 35,
     "metadata": {},
     "output_type": "execute_result"
    }
   ],
   "source": [
    "books.remove('The Name of the Wind')\n",
    "books"
   ]
  },
  {
   "cell_type": "code",
   "execution_count": 36,
   "metadata": {},
   "outputs": [],
   "source": [
    "books.discard('The fine of the Wind') # does not raise and error if the "
   ]
  },
  {
   "cell_type": "code",
   "execution_count": null,
   "metadata": {},
   "outputs": [],
   "source": []
  }
 ],
 "metadata": {
  "interpreter": {
   "hash": "3c2a4be17033db99e330745b79299328aef13830ff12594a5e1dd606863de531"
  },
  "kernelspec": {
   "display_name": "Python 3.9.9 ('base')",
   "language": "python",
   "name": "python3"
  },
  "language_info": {
   "codemirror_mode": {
    "name": "ipython",
    "version": 3
   },
   "file_extension": ".py",
   "mimetype": "text/x-python",
   "name": "python",
   "nbconvert_exporter": "python",
   "pygments_lexer": "ipython3",
   "version": "3.9.9"
  },
  "orig_nbformat": 4
 },
 "nbformat": 4,
 "nbformat_minor": 2
}
