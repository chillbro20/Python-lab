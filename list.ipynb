{
 "cells": [
  {
   "cell_type": "markdown",
   "metadata": {},
   "source": [
    "# List \n",
    "1. List can hold multiple values\n",
    "2. List is mutable (add, remove item)\n",
    "3. List is indexed (indexiing and  slicing)\n",
    "4. List can have duplicate item\n",
    "6. List  can have mixed values inside it \n",
    "7. List can be nested inside list\n"
   ]
  },
  {
   "cell_type": "markdown",
   "metadata": {},
   "source": [
    "4. Comprehension\n",
    "5. Lambda, Map, Reduce\n"
   ]
  },
  {
   "cell_type": "code",
   "execution_count": 8,
   "metadata": {},
   "outputs": [],
   "source": [
    "# list of string\n",
    "shards = ['honour', 'cultivation','odium','presentationb','ruin']\n",
    "#list of number\n",
    "primes=[2,3,5,7,11,13,17]\n",
    "\n",
    "# mixed content\n",
    "info = ['Raju', 'Singh' , 90, 50, 69,89,55,67,\"A\", True,89.5,\"Perfect\"]\n"
   ]
  },
  {
   "cell_type": "code",
   "execution_count": 9,
   "metadata": {},
   "outputs": [],
   "source": [
    "# nested list\n",
    "x2 = [[1,2,3],[1,2,3,4],[2,3]]\n",
    "filter= [True,False,True, True,False]"
   ]
  },
  {
   "cell_type": "code",
   "execution_count": 10,
   "metadata": {},
   "outputs": [],
   "source": [
    "# functions that generate list\n",
    "fact ='ice cube sits in its own blood'\n",
    "words = fact.split()"
   ]
  },
  {
   "cell_type": "code",
   "execution_count": 11,
   "metadata": {},
   "outputs": [
    {
     "data": {
      "text/plain": [
       "[1, 2, 3, 1, 2, 3, 1, 2, 3, 1, 2, 3, 1, 2, 3]"
      ]
     },
     "execution_count": 11,
     "metadata": {},
     "output_type": "execute_result"
    }
   ],
   "source": [
    "# quick hack for generating list of duplicating values\n",
    "ones =[1,2,3] *5\n",
    "ones"
   ]
  },
  {
   "cell_type": "code",
   "execution_count": 12,
   "metadata": {},
   "outputs": [
    {
     "data": {
      "text/plain": [
       "[10, 'cup', 20, 'dog']"
      ]
     },
     "execution_count": 12,
     "metadata": {},
     "output_type": "execute_result"
    }
   ],
   "source": [
    "a=10\n",
    "b=20\n",
    "c ='cup'\n",
    "d ='dog'\n",
    "items =[a,c,b,d]\n",
    "items"
   ]
  },
  {
   "cell_type": "code",
   "execution_count": 3,
   "metadata": {},
   "outputs": [],
   "source": [
    "games=[]"
   ]
  },
  {
   "cell_type": "code",
   "execution_count": 4,
   "metadata": {},
   "outputs": [
    {
     "data": {
      "text/plain": [
       "['God of war']"
      ]
     },
     "execution_count": 4,
     "metadata": {},
     "output_type": "execute_result"
    }
   ],
   "source": [
    "games.append(\"God of war\")\n",
    "games"
   ]
  },
  {
   "cell_type": "code",
   "execution_count": 6,
   "metadata": {},
   "outputs": [],
   "source": [
    "games.append(\"Assasins Creed\")\n",
    "games.append(\"Gears 5\")\n",
    "games.append(\"Valorant\")\n",
    "games.append(\"GTA V\")"
   ]
  },
  {
   "cell_type": "code",
   "execution_count": 7,
   "metadata": {},
   "outputs": [
    {
     "name": "stdout",
     "output_type": "stream",
     "text": [
      "['maggie', 'pizza ', 'burger', 'menchuriyan']\n"
     ]
    }
   ],
   "source": [
    "fav_food = []\n",
    "for i in range(4):\n",
    "    food = input(\"Enter your Fav Food: \")\n",
    "    fav_food.append(food)\n",
    "print(fav_food)"
   ]
  },
  {
   "cell_type": "markdown",
   "metadata": {},
   "source": [
    "# indexing slicing and value modification"
   ]
  },
  {
   "cell_type": "code",
   "execution_count": 13,
   "metadata": {},
   "outputs": [
    {
     "data": {
      "text/plain": [
       "'honour'"
      ]
     },
     "execution_count": 13,
     "metadata": {},
     "output_type": "execute_result"
    }
   ],
   "source": [
    "shards[0]"
   ]
  },
  {
   "cell_type": "code",
   "execution_count": 14,
   "metadata": {},
   "outputs": [
    {
     "data": {
      "text/plain": [
       "'ruin'"
      ]
     },
     "execution_count": 14,
     "metadata": {},
     "output_type": "execute_result"
    }
   ],
   "source": [
    "shards[-1]"
   ]
  },
  {
   "cell_type": "code",
   "execution_count": 15,
   "metadata": {},
   "outputs": [
    {
     "name": "stdout",
     "output_type": "stream",
     "text": [
      "['honour', 'cultivation', 'odium', 'presentationb', 'ruin']\n"
     ]
    }
   ],
   "source": [
    "print(shards)"
   ]
  },
  {
   "cell_type": "code",
   "execution_count": 1,
   "metadata": {},
   "outputs": [
    {
     "ename": "NameError",
     "evalue": "name 'shards' is not defined",
     "output_type": "error",
     "traceback": [
      "\u001b[1;31m---------------------------------------------------------------------------\u001b[0m",
      "\u001b[1;31mNameError\u001b[0m                                 Traceback (most recent call last)",
      "\u001b[1;32md:\\Python lab\\list.ipynb Cell 16'\u001b[0m in \u001b[0;36m<module>\u001b[1;34m\u001b[0m\n\u001b[1;32m----> <a href='vscode-notebook-cell:/d%3A/Python%20lab/list.ipynb#ch0000015?line=0'>1</a>\u001b[0m shards[\u001b[39m3\u001b[39m]\u001b[39m=\u001b[39m\u001b[39m'\u001b[39m\u001b[39mKalyan\u001b[39m\u001b[39m'\u001b[39m\n",
      "\u001b[1;31mNameError\u001b[0m: name 'shards' is not defined"
     ]
    }
   ],
   "source": [
    "shards[3]='Kalyan'"
   ]
  },
  {
   "cell_type": "code",
   "execution_count": 17,
   "metadata": {},
   "outputs": [
    {
     "data": {
      "text/plain": [
       "['honour', 'cultivation', 'odium', 'Kalyan', 'ruin']"
      ]
     },
     "execution_count": 17,
     "metadata": {},
     "output_type": "execute_result"
    }
   ],
   "source": [
    "shards"
   ]
  },
  {
   "cell_type": "markdown",
   "metadata": {},
   "source": [
    "17 feb 2022"
   ]
  },
  {
   "cell_type": "markdown",
   "metadata": {},
   "source": [
    "# "
   ]
  },
  {
   "cell_type": "code",
   "execution_count": 18,
   "metadata": {},
   "outputs": [
    {
     "data": {
      "text/plain": [
       "['Apple', 'Cherry', 'fig', 'guava']"
      ]
     },
     "execution_count": 18,
     "metadata": {},
     "output_type": "execute_result"
    }
   ],
   "source": [
    "fruits=[] # empty list\n",
    "fruits.append(\"Apple\")\n",
    "fruits.append(\"Cherry\")\n",
    "fruits.append('fig')\n",
    "fruits.append(\"guava\")\n",
    "fruits"
   ]
  },
  {
   "cell_type": "code",
   "execution_count": 19,
   "metadata": {},
   "outputs": [
    {
     "data": {
      "text/plain": [
       "['Apple', 'banana', 'Cherry', 'fig', 'guava']"
      ]
     },
     "execution_count": 19,
     "metadata": {},
     "output_type": "execute_result"
    }
   ],
   "source": [
    "fruits.insert(1,'banana')\n",
    "fruits"
   ]
  },
  {
   "cell_type": "code",
   "execution_count": 20,
   "metadata": {},
   "outputs": [
    {
     "data": {
      "text/plain": [
       "['Apple', 'banana', 'Cherry', 'Dragonfruit', 'fig', 'guava']"
      ]
     },
     "execution_count": 20,
     "metadata": {},
     "output_type": "execute_result"
    }
   ],
   "source": [
    "fruits.insert(3,\"Dragonfruit\")\n",
    "fruits"
   ]
  },
  {
   "cell_type": "code",
   "execution_count": 21,
   "metadata": {},
   "outputs": [],
   "source": [
    "dry_fruits=('almonds', 'Cashew', 'Walnut', 'Raisins')"
   ]
  },
  {
   "cell_type": "code",
   "execution_count": 28,
   "metadata": {},
   "outputs": [
    {
     "data": {
      "text/plain": [
       "['Apple',\n",
       " 'banana',\n",
       " 'Cherry',\n",
       " 'Dragonfruit',\n",
       " 'fig',\n",
       " 'guava',\n",
       " 'almonds',\n",
       " 'Cashew',\n",
       " 'Walnut',\n",
       " 'Raisins',\n",
       " 'almonds',\n",
       " 'Cashew',\n",
       " 'Walnut',\n",
       " 'Raisins',\n",
       " 'almonds',\n",
       " 'Cashew',\n",
       " 'Walnut',\n",
       " 'Raisins',\n",
       " 'almonds',\n",
       " 'Cashew',\n",
       " 'Walnut',\n",
       " 'Raisins',\n",
       " 'almonds',\n",
       " 'Cashew',\n",
       " 'Walnut',\n",
       " 'Raisins',\n",
       " 'almonds',\n",
       " 'Cashew',\n",
       " 'Walnut',\n",
       " 'Raisins',\n",
       " 'almonds',\n",
       " 'Cashew',\n",
       " 'Walnut',\n",
       " 'Raisins']"
      ]
     },
     "execution_count": 28,
     "metadata": {},
     "output_type": "execute_result"
    }
   ],
   "source": [
    "fruits.extend(dry_fruits)\n",
    "fruits"
   ]
  },
  {
   "cell_type": "code",
   "execution_count": 30,
   "metadata": {},
   "outputs": [
    {
     "data": {
      "text/plain": [
       "True"
      ]
     },
     "execution_count": 30,
     "metadata": {},
     "output_type": "execute_result"
    }
   ],
   "source": [
    "\"fig\" in fruits"
   ]
  },
  {
   "cell_type": "code",
   "execution_count": 31,
   "metadata": {},
   "outputs": [
    {
     "data": {
      "text/plain": [
       "False"
      ]
     },
     "execution_count": 31,
     "metadata": {},
     "output_type": "execute_result"
    }
   ],
   "source": [
    "\"Fig\" in fruits"
   ]
  },
  {
   "cell_type": "code",
   "execution_count": 32,
   "metadata": {},
   "outputs": [
    {
     "data": {
      "text/plain": [
       "'not found'"
      ]
     },
     "execution_count": 32,
     "metadata": {},
     "output_type": "execute_result"
    }
   ],
   "source": [
    "fruits.remove('casdew') if 'cashew' in fruits else \"not found\""
   ]
  },
  {
   "cell_type": "code",
   "execution_count": 34,
   "metadata": {},
   "outputs": [
    {
     "name": "stdout",
     "output_type": "stream",
     "text": [
      "no fig found\n"
     ]
    }
   ],
   "source": [
    "if \"Fig\" in fruits:\n",
    "    fruits.remove('fig')\n",
    "else:\n",
    "\n",
    "    print('no fig found')"
   ]
  },
  {
   "cell_type": "code",
   "execution_count": 35,
   "metadata": {},
   "outputs": [
    {
     "data": {
      "text/plain": [
       "['Apple',\n",
       " 'banana',\n",
       " 'Cherry',\n",
       " 'Dragonfruit',\n",
       " 'fig',\n",
       " 'guava',\n",
       " 'almonds',\n",
       " 'Cashew',\n",
       " 'Walnut',\n",
       " 'Raisins',\n",
       " 'almonds',\n",
       " 'Cashew',\n",
       " 'Walnut',\n",
       " 'Raisins',\n",
       " 'almonds',\n",
       " 'Cashew',\n",
       " 'Walnut',\n",
       " 'Raisins',\n",
       " 'almonds',\n",
       " 'Cashew',\n",
       " 'Walnut',\n",
       " 'Raisins',\n",
       " 'almonds',\n",
       " 'Cashew',\n",
       " 'Walnut',\n",
       " 'Raisins',\n",
       " 'almonds',\n",
       " 'Cashew',\n",
       " 'Walnut',\n",
       " 'Raisins',\n",
       " 'almonds',\n",
       " 'Cashew',\n",
       " 'Walnut',\n",
       " 'Raisins']"
      ]
     },
     "execution_count": 35,
     "metadata": {},
     "output_type": "execute_result"
    }
   ],
   "source": [
    "fruits"
   ]
  },
  {
   "cell_type": "markdown",
   "metadata": {},
   "source": [
    "pop work in 2 ways\n",
    " - list.pop(idx) => remove the item from given index, and returns the removed value\n",
    " - list.pop => removes the item from bottom and returns the value removed"
   ]
  },
  {
   "cell_type": "code",
   "execution_count": 36,
   "metadata": {},
   "outputs": [
    {
     "data": {
      "text/plain": [
       "'Dragonfruit'"
      ]
     },
     "execution_count": 36,
     "metadata": {},
     "output_type": "execute_result"
    }
   ],
   "source": [
    "fruits.pop(3)"
   ]
  },
  {
   "cell_type": "code",
   "execution_count": 37,
   "metadata": {},
   "outputs": [
    {
     "data": {
      "text/plain": [
       "'Raisins'"
      ]
     },
     "execution_count": 37,
     "metadata": {},
     "output_type": "execute_result"
    }
   ],
   "source": [
    "fruits.pop() # list item will be removed"
   ]
  },
  {
   "cell_type": "code",
   "execution_count": 38,
   "metadata": {},
   "outputs": [
    {
     "data": {
      "text/plain": [
       "['Apple',\n",
       " 'banana',\n",
       " 'Cherry',\n",
       " 'fig',\n",
       " 'guava',\n",
       " 'almonds',\n",
       " 'Cashew',\n",
       " 'Walnut',\n",
       " 'Raisins',\n",
       " 'almonds',\n",
       " 'Cashew',\n",
       " 'Walnut',\n",
       " 'Raisins',\n",
       " 'almonds',\n",
       " 'Cashew',\n",
       " 'Walnut',\n",
       " 'Raisins',\n",
       " 'almonds',\n",
       " 'Cashew',\n",
       " 'Walnut',\n",
       " 'Raisins',\n",
       " 'almonds',\n",
       " 'Cashew',\n",
       " 'Walnut',\n",
       " 'Raisins',\n",
       " 'almonds',\n",
       " 'Cashew',\n",
       " 'Walnut',\n",
       " 'Raisins',\n",
       " 'almonds',\n",
       " 'Cashew',\n",
       " 'Walnut']"
      ]
     },
     "execution_count": 38,
     "metadata": {},
     "output_type": "execute_result"
    }
   ],
   "source": [
    "fruits"
   ]
  },
  {
   "cell_type": "code",
   "execution_count": 39,
   "metadata": {},
   "outputs": [
    {
     "data": {
      "text/plain": [
       "[]"
      ]
     },
     "execution_count": 39,
     "metadata": {},
     "output_type": "execute_result"
    }
   ],
   "source": [
    "fruits.clear()\n",
    "fruits"
   ]
  },
  {
   "cell_type": "code",
   "execution_count": 42,
   "metadata": {},
   "outputs": [],
   "source": [
    "movies = [\n",
    "    \"Pushpa: The Rise\",\n",
    "    \"Atarangi Re\",\n",
    "    \"Diary of a wimpy kid\",\n",
    "    \"Justice Society : World war II\",\n",
    "    \"Boss Baby\",\n",
    "    \"Venom: Let there be carnage\",\n",
    "]"
   ]
  },
  {
   "cell_type": "code",
   "execution_count": 45,
   "metadata": {},
   "outputs": [
    {
     "data": {
      "text/plain": [
       "['Pushpa: The Rise',\n",
       " 'Atarangi Re',\n",
       " 'Diary of a wimpy kid',\n",
       " 'Justice Society : World war II',\n",
       " 'Boss Baby',\n",
       " 'Venom: Let there be carnage']"
      ]
     },
     "execution_count": 45,
     "metadata": {},
     "output_type": "execute_result"
    }
   ],
   "source": [
    "movies.reverse\n",
    "movies"
   ]
  },
  {
   "cell_type": "code",
   "execution_count": 44,
   "metadata": {},
   "outputs": [
    {
     "data": {
      "text/plain": [
       "['Pushpa: The Rise',\n",
       " 'Atarangi Re',\n",
       " 'Diary of a wimpy kid',\n",
       " 'Justice Society : World war II',\n",
       " 'Boss Baby',\n",
       " 'Venom: Let there be carnage']"
      ]
     },
     "execution_count": 44,
     "metadata": {},
     "output_type": "execute_result"
    }
   ],
   "source": [
    "movies.sort\n",
    "movies"
   ]
  },
  {
   "cell_type": "code",
   "execution_count": 46,
   "metadata": {},
   "outputs": [
    {
     "data": {
      "text/plain": [
       "['Venom: Let there be carnage',\n",
       " 'Pushpa: The Rise',\n",
       " 'Justice Society : World war II',\n",
       " 'Diary of a wimpy kid',\n",
       " 'Boss Baby',\n",
       " 'Atarangi Re']"
      ]
     },
     "execution_count": 46,
     "metadata": {},
     "output_type": "execute_result"
    }
   ],
   "source": [
    "movies.sort(reverse=True)\n",
    "movies"
   ]
  },
  {
   "cell_type": "code",
   "execution_count": 47,
   "metadata": {},
   "outputs": [],
   "source": [
    "movies_temp = movies.copy() #duplicate item"
   ]
  },
  {
   "cell_type": "code",
   "execution_count": 48,
   "metadata": {},
   "outputs": [
    {
     "data": {
      "text/plain": [
       "['Venom: Let there be carnage',\n",
       " 'Pushpa: The Rise',\n",
       " 'Justice Society : World war II',\n",
       " 'Diary of a wimpy kid',\n",
       " 'Boss Baby',\n",
       " 'Atarangi Re']"
      ]
     },
     "execution_count": 48,
     "metadata": {},
     "output_type": "execute_result"
    }
   ],
   "source": [
    "movies_temp"
   ]
  },
  {
   "cell_type": "code",
   "execution_count": 49,
   "metadata": {},
   "outputs": [],
   "source": [
    "x= [1,2,3,1,2,3,1,2,1,2,12,2,1,3,]\n"
   ]
  },
  {
   "cell_type": "code",
   "execution_count": 51,
   "metadata": {},
   "outputs": [
    {
     "data": {
      "text/plain": [
       "5"
      ]
     },
     "execution_count": 51,
     "metadata": {},
     "output_type": "execute_result"
    }
   ],
   "source": [
    "x.count(1)"
   ]
  },
  {
   "cell_type": "code",
   "execution_count": 52,
   "metadata": {},
   "outputs": [
    {
     "data": {
      "text/plain": [
       "5"
      ]
     },
     "execution_count": 52,
     "metadata": {},
     "output_type": "execute_result"
    }
   ],
   "source": [
    "x.count(2)"
   ]
  },
  {
   "cell_type": "code",
   "execution_count": 54,
   "metadata": {},
   "outputs": [
    {
     "data": {
      "text/plain": [
       "['Venom: Let there be carnage',\n",
       " 'Pushpa: The Rise',\n",
       " 'Justice Society : World war II',\n",
       " 'Diary of a wimpy kid',\n",
       " 'Boss Baby',\n",
       " 'Atarangi Re']"
      ]
     },
     "execution_count": 54,
     "metadata": {},
     "output_type": "execute_result"
    }
   ],
   "source": [
    "movies"
   ]
  },
  {
   "cell_type": "code",
   "execution_count": 56,
   "metadata": {},
   "outputs": [
    {
     "data": {
      "text/plain": [
       "4"
      ]
     },
     "execution_count": 56,
     "metadata": {},
     "output_type": "execute_result"
    }
   ],
   "source": [
    "movies.index('Boss Baby')"
   ]
  },
  {
   "cell_type": "markdown",
   "metadata": {},
   "source": [
    "## Wap to add 10 number in a list from user input and then display sum,mean,max,min from the list \n",
    " never create variable called sum"
   ]
  },
  {
   "cell_type": "code",
   "execution_count": 63,
   "metadata": {},
   "outputs": [
    {
     "name": "stdout",
     "output_type": "stream",
     "text": [
      "sum of numbers => 1195\n",
      "mean of numbers => 119.5\n"
     ]
    },
    {
     "ename": "TypeError",
     "evalue": "'int' object is not callable",
     "output_type": "error",
     "traceback": [
      "\u001b[1;31m---------------------------------------------------------------------------\u001b[0m",
      "\u001b[1;31mTypeError\u001b[0m                                 Traceback (most recent call last)",
      "\u001b[1;32md:\\Python lab\\list.ipynb Cell 47'\u001b[0m in \u001b[0;36m<module>\u001b[1;34m\u001b[0m\n\u001b[0;32m      <a href='vscode-notebook-cell:/d%3A/Python%20lab/list.ipynb#ch0000049?line=4'>5</a>\u001b[0m \u001b[39mprint\u001b[39m(\u001b[39m'\u001b[39m\u001b[39msum of numbers =>\u001b[39m\u001b[39m'\u001b[39m, \u001b[39msum\u001b[39m(numbers))\n\u001b[0;32m      <a href='vscode-notebook-cell:/d%3A/Python%20lab/list.ipynb#ch0000049?line=5'>6</a>\u001b[0m \u001b[39mprint\u001b[39m(\u001b[39m'\u001b[39m\u001b[39mmean of numbers =>\u001b[39m\u001b[39m'\u001b[39m, \u001b[39msum\u001b[39m(numbers)\u001b[39m/\u001b[39m\u001b[39mlen\u001b[39m(numbers))\n\u001b[1;32m----> <a href='vscode-notebook-cell:/d%3A/Python%20lab/list.ipynb#ch0000049?line=6'>7</a>\u001b[0m \u001b[39mprint\u001b[39m(\u001b[39m'\u001b[39m\u001b[39mmax value=>\u001b[39m\u001b[39m'\u001b[39m, \u001b[39mmax\u001b[39;49m(numbers))\n\u001b[0;32m      <a href='vscode-notebook-cell:/d%3A/Python%20lab/list.ipynb#ch0000049?line=7'>8</a>\u001b[0m \u001b[39mprint\u001b[39m(\u001b[39m'\u001b[39m\u001b[39mmin value=>\u001b[39m\u001b[39m'\u001b[39m, \u001b[39mmin\u001b[39m(numbers))\n",
      "\u001b[1;31mTypeError\u001b[0m: 'int' object is not callable"
     ]
    }
   ],
   "source": [
    "numbers =[]\n",
    "for i in range(10):\n",
    "    val = int(input(f\"Enter the number{i+1} \"))\n",
    "    numbers.append(val)\n",
    "print('sum of numbers =>', sum(numbers))\n",
    "print('mean of numbers =>', sum(numbers)/len(numbers))\n",
    "print('max value=>', max(numbers))\n",
    "print('min value=>', min(numbers))   "
   ]
  },
  {
   "cell_type": "code",
   "execution_count": null,
   "metadata": {},
   "outputs": [],
   "source": []
  }
 ],
 "metadata": {
  "interpreter": {
   "hash": "3c2a4be17033db99e330745b79299328aef13830ff12594a5e1dd606863de531"
  },
  "kernelspec": {
   "display_name": "Python 3.9.9 ('base')",
   "language": "python",
   "name": "python3"
  },
  "language_info": {
   "codemirror_mode": {
    "name": "ipython",
    "version": 3
   },
   "file_extension": ".py",
   "mimetype": "text/x-python",
   "name": "python",
   "nbconvert_exporter": "python",
   "pygments_lexer": "ipython3",
   "version": "3.9.9"
  },
  "orig_nbformat": 4
 },
 "nbformat": 4,
 "nbformat_minor": 2
}
