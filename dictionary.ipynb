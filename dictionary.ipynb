{
 "cells": [
  {
   "cell_type": "markdown",
   "metadata": {},
   "source": [
    "# dictionary\n",
    "- dictionary is ondered and unindexed\n",
    "- dictionary is 'key:value' pair System\n",
    "- the keys are always unique for a dict\n",
    "- the keys are only of immutable type (number, string , tuple)\n",
    "- the values can be of any type\n",
    "- represented by { }\n",
    "- dictionary is mutable "
   ]
  },
  {
   "cell_type": "code",
   "execution_count": 1,
   "metadata": {},
   "outputs": [],
   "source": [
    "x = ['Alex','Mason',22,'3929019284',True,False] # unexplain info\n",
    "std_mark_list = ['Ravi',90,'Kavi',30,'Janhvi',50,'Tanvi',20] # unlinked info"
   ]
  },
  {
   "cell_type": "code",
   "execution_count": 2,
   "metadata": {},
   "outputs": [
    {
     "name": "stdout",
     "output_type": "stream",
     "text": [
      "{'firstname': 'Alex', 'lastname': 'Mason', 'age': 22, 'phone': '3929019284', 'working': True, 'married': False}\n"
     ]
    }
   ],
   "source": [
    "dict_x = {\n",
    "    'firstname':'Alex',\n",
    "    'lastname':'Mason',\n",
    "    'age':22,\n",
    "    'phone':'3929019284',\n",
    "    'working':True,\n",
    "    'married':False\n",
    "}\n",
    "print(dict_x)"
   ]
  },
  {
   "cell_type": "code",
   "execution_count": 3,
   "metadata": {},
   "outputs": [
    {
     "data": {
      "text/plain": [
       "{'Ravi': 90, 'Kavi': 30, 'Janhvi': 50, 'Tanvi': 20}"
      ]
     },
     "execution_count": 3,
     "metadata": {},
     "output_type": "execute_result"
    }
   ],
   "source": [
    "std_marks_dict = {'Ravi':90,'Kavi':30,'Janhvi':50,'Tanvi':20}\n",
    "std_marks_dict"
   ]
  },
  {
   "cell_type": "code",
   "execution_count": 4,
   "metadata": {},
   "outputs": [
    {
     "data": {
      "text/plain": [
       "'Alex'"
      ]
     },
     "execution_count": 4,
     "metadata": {},
     "output_type": "execute_result"
    }
   ],
   "source": [
    "dict_x['firstname']"
   ]
  },
  {
   "cell_type": "code",
   "execution_count": 6,
   "metadata": {},
   "outputs": [],
   "source": [
    "report = {\n",
    "    'tanya':{\n",
    "        'eng':60,\n",
    "        'math':90,\n",
    "        'sci':90,\n",
    "    },\n",
    "    'saif':{\n",
    "        'eng':80,\n",
    "        'math':96,\n",
    "        'sci':70\n",
    "    },\n",
    "    'bilal':{\n",
    "        'eng':96,\n",
    "        'math':70,\n",
    "        'sci':'absent'\n",
    "    }\n",
    "}"
   ]
  },
  {
   "cell_type": "code",
   "execution_count": 7,
   "metadata": {},
   "outputs": [
    {
     "data": {
      "text/plain": [
       "{'tanya': {'eng': 60, 'math': 90, 'sci': 90},\n",
       " 'saif': {'eng': 80, 'math': 96, 'sci': 70},\n",
       " 'bilal': {'eng': 96, 'math': 70, 'sci': 'absent'}}"
      ]
     },
     "execution_count": 7,
     "metadata": {},
     "output_type": "execute_result"
    }
   ],
   "source": [
    "report"
   ]
  },
  {
   "cell_type": "code",
   "execution_count": 8,
   "metadata": {},
   "outputs": [
    {
     "data": {
      "text/plain": [
       "{'firstname': 'Alex',\n",
       " 'lastname': 'Mason',\n",
       " 'age': 22,\n",
       " 'phone': '3929019284',\n",
       " 'working': True,\n",
       " 'married': False}"
      ]
     },
     "execution_count": 8,
     "metadata": {},
     "output_type": "execute_result"
    }
   ],
   "source": [
    "dict_x"
   ]
  },
  {
   "cell_type": "markdown",
   "metadata": {},
   "source": [
    "adding data"
   ]
  },
  {
   "cell_type": "code",
   "execution_count": 9,
   "metadata": {},
   "outputs": [
    {
     "data": {
      "text/plain": [
       "{'firstname': 'Alex',\n",
       " 'lastname': 'Mason',\n",
       " 'age': 22,\n",
       " 'phone': '3929019284',\n",
       " 'working': True,\n",
       " 'married': False,\n",
       " 'city': 'Los Angeles',\n",
       " 'state': 'California'}"
      ]
     },
     "execution_count": 9,
     "metadata": {},
     "output_type": "execute_result"
    }
   ],
   "source": [
    "dict_x['city'] = 'Los Angeles' # add a new key city and value los angeles in dict x\n",
    "dict_x['state'] = 'California'\n",
    "dict_x"
   ]
  },
  {
   "cell_type": "markdown",
   "metadata": {},
   "source": [
    "Updating data"
   ]
  },
  {
   "cell_type": "code",
   "execution_count": 10,
   "metadata": {},
   "outputs": [
    {
     "data": {
      "text/plain": [
       "{'firstname': 'Alex',\n",
       " 'lastname': 'Mason',\n",
       " 'age': 23,\n",
       " 'phone': '3929019284',\n",
       " 'working': True,\n",
       " 'married': False,\n",
       " 'city': 'Los Angeles',\n",
       " 'state': 'California'}"
      ]
     },
     "execution_count": 10,
     "metadata": {},
     "output_type": "execute_result"
    }
   ],
   "source": [
    "dict_x['age'] = 23 # update value for exising key\n",
    "dict_x"
   ]
  },
  {
   "cell_type": "markdown",
   "metadata": {},
   "source": [
    "Removing data"
   ]
  },
  {
   "cell_type": "code",
   "execution_count": 11,
   "metadata": {},
   "outputs": [
    {
     "data": {
      "text/plain": [
       "{'firstname': 'Alex',\n",
       " 'lastname': 'Mason',\n",
       " 'age': 23,\n",
       " 'phone': '3929019284',\n",
       " 'working': True,\n",
       " 'city': 'Los Angeles',\n",
       " 'state': 'California'}"
      ]
     },
     "execution_count": 11,
     "metadata": {},
     "output_type": "execute_result"
    }
   ],
   "source": [
    "dict_x.pop('married')\n",
    "dict_x"
   ]
  },
  {
   "cell_type": "code",
   "execution_count": 12,
   "metadata": {},
   "outputs": [
    {
     "data": {
      "text/plain": [
       "('state', 'California')"
      ]
     },
     "execution_count": 12,
     "metadata": {},
     "output_type": "execute_result"
    }
   ],
   "source": [
    "dict_x.popitem() # remove last added items"
   ]
  },
  {
   "cell_type": "code",
   "execution_count": 14,
   "metadata": {},
   "outputs": [],
   "source": [
    "x = {'a':'apple','b':'ball','c':'cat'}\n",
    "y = {'d':'dog','e':'elephant','f':'fish'}\n"
   ]
  },
  {
   "cell_type": "code",
   "execution_count": 15,
   "metadata": {},
   "outputs": [
    {
     "name": "stdout",
     "output_type": "stream",
     "text": [
      "{'a': 'apple', 'b': 'ball', 'c': 'cat', 'd': 'dog', 'e': 'elephant', 'f': 'fish'}\n"
     ]
    }
   ],
   "source": [
    "x.update(y)\n",
    "print(x)"
   ]
  },
  {
   "cell_type": "markdown",
   "metadata": {},
   "source": [
    "List with dict"
   ]
  },
  {
   "cell_type": "code",
   "execution_count": 16,
   "metadata": {},
   "outputs": [
    {
     "name": "stdout",
     "output_type": "stream",
     "text": [
      "[{'a': 'apple', 'b': 'ball', 'c': 'cat'}, {'d': 'dog', 'e': 'elephant', 'f': 'fish'}, {'g': 'goat', 'h': 'horse', 'i': 'icecream'}]\n"
     ]
    }
   ],
   "source": [
    "x = {'a':'apple','b':'ball','c':'cat'}\n",
    "y = {'d':'dog','e':'elephant','f':'fish'}\n",
    "z = {'g':'goat','h':'horse','i':'icecream'}\n",
    "abc = [x,y,z]\n",
    "print(abc)"
   ]
  },
  {
   "cell_type": "code",
   "execution_count": 17,
   "metadata": {},
   "outputs": [
    {
     "data": {
      "text/plain": [
       "[{'name': 'Ravi', 'Age': 22}, {'name': 'Kavi', 'Age': 30}]"
      ]
     },
     "execution_count": 17,
     "metadata": {},
     "output_type": "execute_result"
    }
   ],
   "source": [
    "data = [\n",
    "    \n",
    "    {'name':'Ravi','Age':22},\n",
    "    {'name':'Kavi','Age':30},\n",
    "]\n",
    "data"
   ]
  },
  {
   "cell_type": "code",
   "execution_count": 18,
   "metadata": {},
   "outputs": [
    {
     "data": {
      "text/plain": [
       "'ball'"
      ]
     },
     "execution_count": 18,
     "metadata": {},
     "output_type": "execute_result"
    }
   ],
   "source": [
    "abc[0]['b']"
   ]
  },
  {
   "cell_type": "code",
   "execution_count": 20,
   "metadata": {},
   "outputs": [
    {
     "ename": "KeyError",
     "evalue": "'age'",
     "output_type": "error",
     "traceback": [
      "\u001b[1;31m---------------------------------------------------------------------------\u001b[0m",
      "\u001b[1;31mKeyError\u001b[0m                                  Traceback (most recent call last)",
      "\u001b[1;32md:\\Python lab\\dictionary.ipynb Cell 22'\u001b[0m in \u001b[0;36m<module>\u001b[1;34m\u001b[0m\n\u001b[1;32m----> <a href='vscode-notebook-cell:/d%3A/Python%20lab/dictionary.ipynb#ch0000023?line=0'>1</a>\u001b[0m data[\u001b[39m-\u001b[39;49m\u001b[39m1\u001b[39;49m][\u001b[39m'\u001b[39;49m\u001b[39mage\u001b[39;49m\u001b[39m'\u001b[39;49m]\n",
      "\u001b[1;31mKeyError\u001b[0m: 'age'"
     ]
    }
   ],
   "source": [
    "data[-1]['age']"
   ]
  },
  {
   "cell_type": "code",
   "execution_count": 21,
   "metadata": {},
   "outputs": [
    {
     "data": {
      "text/plain": [
       "70"
      ]
     },
     "execution_count": 21,
     "metadata": {},
     "output_type": "execute_result"
    }
   ],
   "source": [
    "report['saif']['sci']"
   ]
  },
  {
   "cell_type": "markdown",
   "metadata": {},
   "source": [
    "traversal or looping"
   ]
  },
  {
   "cell_type": "code",
   "execution_count": 22,
   "metadata": {},
   "outputs": [
    {
     "data": {
      "text/plain": [
       "['firstname', 'lastname', 'age', 'phone', 'working', 'city']"
      ]
     },
     "execution_count": 22,
     "metadata": {},
     "output_type": "execute_result"
    }
   ],
   "source": [
    "list(dict_x.keys())"
   ]
  },
  {
   "cell_type": "code",
   "execution_count": 23,
   "metadata": {},
   "outputs": [
    {
     "data": {
      "text/plain": [
       "['Alex', 'Mason', 23, '3929019284', True, 'Los Angeles']"
      ]
     },
     "execution_count": 23,
     "metadata": {},
     "output_type": "execute_result"
    }
   ],
   "source": [
    "list(dict_x.values())"
   ]
  },
  {
   "cell_type": "code",
   "execution_count": 24,
   "metadata": {},
   "outputs": [
    {
     "data": {
      "text/plain": [
       "[('firstname', 'Alex'),\n",
       " ('lastname', 'Mason'),\n",
       " ('age', 23),\n",
       " ('phone', '3929019284'),\n",
       " ('working', True),\n",
       " ('city', 'Los Angeles')]"
      ]
     },
     "execution_count": 24,
     "metadata": {},
     "output_type": "execute_result"
    }
   ],
   "source": [
    "list(dict_x.items())"
   ]
  },
  {
   "cell_type": "code",
   "execution_count": 25,
   "metadata": {},
   "outputs": [
    {
     "name": "stdout",
     "output_type": "stream",
     "text": [
      "firstname Alex\n",
      "lastname Mason\n",
      "age 23\n",
      "phone 3929019284\n",
      "working True\n",
      "city Los Angeles\n"
     ]
    }
   ],
   "source": [
    "# most useful\n",
    "for k,v in dict_x.items():\n",
    "    print(k,v)"
   ]
  },
  {
   "cell_type": "code",
   "execution_count": 26,
   "metadata": {},
   "outputs": [
    {
     "name": "stdout",
     "output_type": "stream",
     "text": [
      "firstname Alex\n",
      "lastname Mason\n",
      "age 23\n",
      "phone 3929019284\n",
      "working True\n",
      "city Los Angeles\n"
     ]
    }
   ],
   "source": [
    "for k in dict_x:\n",
    "    print(k, dict_x[k])"
   ]
  },
  {
   "cell_type": "markdown",
   "metadata": {},
   "source": [
    "WAP to add details of 5 employees in a dict. The details are as follows\n",
    "\n",
    "- firstname\n",
    "- lastname\n",
    "- empid\n",
    "- desingnation\n",
    "- doj\n",
    "- basic_salary\n",
    "- department\n",
    "#### then display their details after incrementing their salary by 9%"
   ]
  },
  {
   "cell_type": "code",
   "execution_count": null,
   "metadata": {},
   "outputs": [],
   "source": []
  }
 ],
 "metadata": {
  "interpreter": {
   "hash": "3c2a4be17033db99e330745b79299328aef13830ff12594a5e1dd606863de531"
  },
  "kernelspec": {
   "display_name": "Python 3.9.9 ('base')",
   "language": "python",
   "name": "python3"
  },
  "language_info": {
   "codemirror_mode": {
    "name": "ipython",
    "version": 3
   },
   "file_extension": ".py",
   "mimetype": "text/x-python",
   "name": "python",
   "nbconvert_exporter": "python",
   "pygments_lexer": "ipython3",
   "version": "3.9.9"
  },
  "orig_nbformat": 4
 },
 "nbformat": 4,
 "nbformat_minor": 2
}
