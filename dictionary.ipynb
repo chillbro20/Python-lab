{
 "cells": [
  {
   "cell_type": "markdown",
   "metadata": {},
   "source": [
    "# dictionary\n",
    "- dictionary is ondered and unindexed\n",
    "- dictionary is 'key:value' pair System\n",
    "- the keys are always unique for a dict\n",
    "- the keys are only of immutable type (number, string , tuple)\n",
    "- the values can be of any type\n",
    "- represented by { }\n",
    "- dictionary is mutable "
   ]
  },
  {
   "cell_type": "code",
   "execution_count": 2,
   "metadata": {},
   "outputs": [],
   "source": [
    "x = ['Alex','Mason',22,'3929019284',True,False] # unexplain info\n",
    "std_mark_list = ['Ravi',90,'Kavi',30,'Janhvi',50,'Tanvi',20] # unlinked info"
   ]
  },
  {
   "cell_type": "code",
   "execution_count": 3,
   "metadata": {},
   "outputs": [
    {
     "name": "stdout",
     "output_type": "stream",
     "text": [
      "{'firstname': 'Alex', 'lastname': 'Mason', 'age': 22, 'phone': '3929019284', 'working': True, 'married': False}\n"
     ]
    }
   ],
   "source": [
    "dict_x = {\n",
    "    'firstname':'Alex',\n",
    "    'lastname':'Mason',\n",
    "    'age':22,\n",
    "    'phone':'3929019284',\n",
    "    'working':True,\n",
    "    'married':False\n",
    "}\n",
    "print(dict_x)"
   ]
  },
  {
   "cell_type": "code",
   "execution_count": 4,
   "metadata": {},
   "outputs": [
    {
     "data": {
      "text/plain": [
       "{'Ravi': 90, 'Kavi': 30, 'Janhvi': 50, 'Tanvi': 20}"
      ]
     },
     "execution_count": 4,
     "metadata": {},
     "output_type": "execute_result"
    }
   ],
   "source": [
    "std_marks_dict = {'Ravi':90,'Kavi':30,'Janhvi':50,'Tanvi':20}\n",
    "std_marks_dict"
   ]
  },
  {
   "cell_type": "code",
   "execution_count": 5,
   "metadata": {},
   "outputs": [
    {
     "data": {
      "text/plain": [
       "'Alex'"
      ]
     },
     "execution_count": 5,
     "metadata": {},
     "output_type": "execute_result"
    }
   ],
   "source": [
    "dict_x['firstname']"
   ]
  },
  {
   "cell_type": "code",
   "execution_count": 9,
   "metadata": {},
   "outputs": [],
   "source": [
    "report = {\n",
    "    'tanya':{\n",
    "        'eng':60,\n",
    "        'math':90,\n",
    "        'sci':90,\n",
    "    },\n",
    "    'saif':{\n",
    "        'eng':80,\n",
    "        'math':96,\n",
    "        'sci':70\n",
    "    },\n",
    "    'bilal':{\n",
    "        'eng':96,\n",
    "        'math':70,\n",
    "        'sci':'absent'\n",
    "    },\n",
    "    'saurabh':{\n",
    "        'eng':80,\n",
    "        'math':90,\n",
    "        'sci':85,\n",
    "    }\n",
    "}"
   ]
  },
  {
   "cell_type": "code",
   "execution_count": null,
   "metadata": {},
   "outputs": [],
   "source": []
  }
 ],
 "metadata": {
  "interpreter": {
   "hash": "3c2a4be17033db99e330745b79299328aef13830ff12594a5e1dd606863de531"
  },
  "kernelspec": {
   "display_name": "Python 3.9.9 ('base')",
   "language": "python",
   "name": "python3"
  },
  "language_info": {
   "codemirror_mode": {
    "name": "ipython",
    "version": 3
   },
   "file_extension": ".py",
   "mimetype": "text/x-python",
   "name": "python",
   "nbconvert_exporter": "python",
   "pygments_lexer": "ipython3",
   "version": "3.9.9"
  },
  "orig_nbformat": 4
 },
 "nbformat": 4,
 "nbformat_minor": 2
}
