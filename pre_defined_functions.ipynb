{
 "cells": [
  {
   "cell_type": "code",
   "execution_count": 1,
   "metadata": {},
   "outputs": [],
   "source": [
    "import os\n"
   ]
  },
  {
   "cell_type": "code",
   "execution_count": 2,
   "metadata": {},
   "outputs": [
    {
     "data": {
      "text/plain": [
       "'d:\\\\Python lab'"
      ]
     },
     "execution_count": 2,
     "metadata": {},
     "output_type": "execute_result"
    }
   ],
   "source": [
    "os.getcwd() #display the current directory"
   ]
  },
  {
   "cell_type": "code",
   "execution_count": 3,
   "metadata": {},
   "outputs": [
    {
     "ename": "FileExistsError",
     "evalue": "[WinError 183] Cannot create a file when that file already exists: 'codes'",
     "output_type": "error",
     "traceback": [
      "\u001b[1;31m---------------------------------------------------------------------------\u001b[0m",
      "\u001b[1;31mFileExistsError\u001b[0m                           Traceback (most recent call last)",
      "\u001b[1;32md:\\Python lab\\pre_defined_functions.ipynb Cell 3'\u001b[0m in \u001b[0;36m<module>\u001b[1;34m\u001b[0m\n\u001b[1;32m----> <a href='vscode-notebook-cell:/d%3A/Python%20lab/pre_defined_functions.ipynb#ch0000002?line=0'>1</a>\u001b[0m os\u001b[39m.\u001b[39;49mmkdir(\u001b[39m'\u001b[39;49m\u001b[39mcodes\u001b[39;49m\u001b[39m'\u001b[39;49m)\n",
      "\u001b[1;31mFileExistsError\u001b[0m: [WinError 183] Cannot create a file when that file already exists: 'codes'"
     ]
    }
   ],
   "source": [
    "os.mkdir('codes') # create a directory"
   ]
  },
  {
   "cell_type": "code",
   "execution_count": 4,
   "metadata": {},
   "outputs": [
    {
     "name": "stdout",
     "output_type": "stream",
     "text": [
      "This directory exits\n"
     ]
    }
   ],
   "source": [
    "if os.path.exists('codes'):\n",
    "    print('This directory exits')\n",
    "else:\n",
    "    os.mkdir('codes')"
   ]
  },
  {
   "cell_type": "code",
   "execution_count": 10,
   "metadata": {},
   "outputs": [
    {
     "data": {
      "text/plain": [
       "['.git',\n",
       " '.gitattributes',\n",
       " '.gitignore',\n",
       " 'basics.ipynb',\n",
       " 'codes',\n",
       " 'dictionary.ipynb',\n",
       " 'hello.py',\n",
       " 'list.adv.ipynb',\n",
       " 'list.ipynb',\n",
       " 'list.py',\n",
       " 'loops.ipynb',\n",
       " 'mahashivratri.py',\n",
       " 'numberprint.py',\n",
       " 'pre_defined_functions.ipynb',\n",
       " 'Python school',\n",
       " 'sets.ipynb',\n",
       " 'string.ipynb',\n",
       " 'tuple.ipynb']"
      ]
     },
     "execution_count": 10,
     "metadata": {},
     "output_type": "execute_result"
    }
   ],
   "source": [
    "os.listdir() # list all the files and directories in the current working directory"
   ]
  },
  {
   "cell_type": "code",
   "execution_count": 8,
   "metadata": {},
   "outputs": [
    {
     "data": {
      "text/plain": [
       "['addins',\n",
       " 'All_In_The_Box.dll',\n",
       " 'appcompat',\n",
       " 'apppatch',\n",
       " 'AppReadiness',\n",
       " 'assembly',\n",
       " 'bcastdvr',\n",
       " 'bfsvc.exe',\n",
       " 'Boot',\n",
       " 'bootstat.dat',\n",
       " 'Branding',\n",
       " 'BrowserCore',\n",
       " 'BUSY32.DLL',\n",
       " 'busy5.dll',\n",
       " 'Busy6.DLL',\n",
       " 'CbsTemp',\n",
       " 'comsetup.log',\n",
       " 'Containers',\n",
       " 'Core.xml',\n",
       " 'CoreSingleLanguage.xml',\n",
       " 'CSUP.txt',\n",
       " 'Cursors',\n",
       " 'debug',\n",
       " 'diagerr.xml',\n",
       " 'diagnostics',\n",
       " 'DiagTrack',\n",
       " 'diagwrn.xml',\n",
       " 'DigitalLocker',\n",
       " 'Downloaded Program Files',\n",
       " 'DtcInstall.log',\n",
       " 'ELAMBKUP',\n",
       " 'en-GB',\n",
       " 'en-US',\n",
       " 'explorer.exe',\n",
       " 'Firmware',\n",
       " 'Fonts',\n",
       " 'GameBarPresenceWriter',\n",
       " 'GetDiskSerial.dll',\n",
       " 'Globalization',\n",
       " 'HardwareIDExtractorC.dll',\n",
       " 'Help',\n",
       " 'HelpPane.exe',\n",
       " 'hh.exe',\n",
       " 'HoloShell',\n",
       " 'HP',\n",
       " 'HPCUST1.exe',\n",
       " 'HPCUST2.exe',\n",
       " 'IdentityCRL',\n",
       " 'IME',\n",
       " 'ImmersiveControlPanel',\n",
       " 'INF',\n",
       " 'InputMethod',\n",
       " 'Installer',\n",
       " 'INSTDRV.EXE',\n",
       " 'INSTSEN.DLL',\n",
       " 'IsUninst.exe',\n",
       " 'L2Schemas',\n",
       " 'LanguageOverlayCache',\n",
       " 'LiveKernelReports',\n",
       " 'Logs',\n",
       " 'Media',\n",
       " 'MEMORY.DMP',\n",
       " 'mib.bin',\n",
       " 'Microsoft.NET',\n",
       " 'Migration',\n",
       " 'ModemLogs',\n",
       " 'msldbusr.dll',\n",
       " 'notepad.exe',\n",
       " 'NvContainerRecovery.bat',\n",
       " 'NvTelemetryContainerRecovery.bat',\n",
       " 'OCR',\n",
       " 'Offline Web Pages',\n",
       " 'Panther',\n",
       " 'Performance',\n",
       " 'PFRO.log',\n",
       " 'PLA',\n",
       " 'PolicyDefinitions',\n",
       " 'Prefetch',\n",
       " 'PrintDialog',\n",
       " 'Provisioning',\n",
       " 'quricol32.dll',\n",
       " 'regedit.exe',\n",
       " 'Registration',\n",
       " 'rescache',\n",
       " 'Resources',\n",
       " 'SchCache',\n",
       " 'schemas',\n",
       " 'security',\n",
       " 'SEE16.DLL',\n",
       " 'SEE32.DLL',\n",
       " 'ServiceProfiles',\n",
       " 'ServiceState',\n",
       " 'servicing',\n",
       " 'Setup',\n",
       " 'setupact.log',\n",
       " 'setuperr.log',\n",
       " 'ShellComponents',\n",
       " 'ShellExperiences',\n",
       " 'SKB',\n",
       " 'SoftwareDistribution',\n",
       " 'Speech',\n",
       " 'Speech_OneCore',\n",
       " 'splwow64.exe',\n",
       " 'System',\n",
       " 'system.ini',\n",
       " 'System32',\n",
       " 'SystemApps',\n",
       " 'SystemResources',\n",
       " 'SystemTemp',\n",
       " 'SysWOW64',\n",
       " 'TAPI',\n",
       " 'Tasks',\n",
       " 'Temp',\n",
       " 'TextInput',\n",
       " 'tracing',\n",
       " 'twain_32',\n",
       " 'twain_32.dll',\n",
       " 'UUS',\n",
       " 'Vss',\n",
       " 'WaaS',\n",
       " 'Web',\n",
       " 'win.ini',\n",
       " 'WindowsShell.Manifest',\n",
       " 'WindowsUpdate.log',\n",
       " 'winhlp32.exe',\n",
       " 'WinSxS',\n",
       " 'WMSysPr9.prx',\n",
       " 'write.exe',\n",
       " 'WUModels']"
      ]
     },
     "execution_count": 8,
     "metadata": {},
     "output_type": "execute_result"
    }
   ],
   "source": [
    "os.listdir(\"C:/windows\")"
   ]
  },
  {
   "cell_type": "code",
   "execution_count": 11,
   "metadata": {},
   "outputs": [
    {
     "name": "stdout",
     "output_type": "stream",
     "text": [
      "129 items in the directory\n",
      "['addins', 'All_In_The_Box.dll', 'appcompat', 'apppatch', 'AppReadiness', 'assembly', 'bcastdvr', 'bfsvc.exe', 'Boot', 'bootstat.dat', 'Branding', 'BrowserCore', 'BUSY32.DLL', 'busy5.dll', 'Busy6.DLL', 'CbsTemp', 'comsetup.log', 'Containers', 'Core.xml', 'CoreSingleLanguage.xml', 'CSUP.txt', 'Cursors', 'debug', 'diagerr.xml', 'diagnostics', 'DiagTrack', 'diagwrn.xml', 'DigitalLocker', 'Downloaded Program Files', 'DtcInstall.log', 'ELAMBKUP', 'en-GB', 'en-US', 'explorer.exe', 'Firmware', 'Fonts', 'GameBarPresenceWriter', 'GetDiskSerial.dll', 'Globalization', 'HardwareIDExtractorC.dll', 'Help', 'HelpPane.exe', 'hh.exe', 'HoloShell', 'HP', 'HPCUST1.exe', 'HPCUST2.exe', 'IdentityCRL', 'IME', 'ImmersiveControlPanel', 'INF', 'InputMethod', 'Installer', 'INSTDRV.EXE', 'INSTSEN.DLL', 'IsUninst.exe', 'L2Schemas', 'LanguageOverlayCache', 'LiveKernelReports', 'Logs', 'Media', 'MEMORY.DMP', 'mib.bin', 'Microsoft.NET', 'Migration', 'ModemLogs', 'msldbusr.dll', 'notepad.exe', 'NvContainerRecovery.bat', 'NvTelemetryContainerRecovery.bat', 'OCR', 'Offline Web Pages', 'Panther', 'Performance', 'PFRO.log', 'PLA', 'PolicyDefinitions', 'Prefetch', 'PrintDialog', 'Provisioning', 'quricol32.dll', 'regedit.exe', 'Registration', 'rescache', 'Resources', 'SchCache', 'schemas', 'security', 'SEE16.DLL', 'SEE32.DLL', 'ServiceProfiles', 'ServiceState', 'servicing', 'Setup', 'setupact.log', 'setuperr.log', 'ShellComponents', 'ShellExperiences', 'SKB', 'SoftwareDistribution', 'Speech', 'Speech_OneCore', 'splwow64.exe', 'System', 'system.ini', 'System32', 'SystemApps', 'SystemResources', 'SystemTemp', 'SysWOW64', 'TAPI', 'Tasks', 'Temp', 'TextInput', 'tracing', 'twain_32', 'twain_32.dll', 'UUS', 'Vss', 'WaaS', 'Web', 'win.ini', 'WindowsShell.Manifest', 'WindowsUpdate.log', 'winhlp32.exe', 'WinSxS', 'WMSysPr9.prx', 'write.exe', 'WUModels']\n"
     ]
    }
   ],
   "source": [
    "window_content = os.listdir('c:\\windows')\n",
    "print(f'{len(window_content)} items in the directory')\n",
    "print(window_content)"
   ]
  },
  {
   "cell_type": "code",
   "execution_count": 12,
   "metadata": {},
   "outputs": [],
   "source": [
    "images = os.listdir(\"E:/saurabh\")"
   ]
  },
  {
   "cell_type": "code",
   "execution_count": 13,
   "metadata": {},
   "outputs": [
    {
     "data": {
      "text/plain": [
       "('CamScanner', '')"
      ]
     },
     "execution_count": 13,
     "metadata": {},
     "output_type": "execute_result"
    }
   ],
   "source": [
    "os.path.splitext(images[0])"
   ]
  },
  {
   "cell_type": "code",
   "execution_count": 14,
   "metadata": {},
   "outputs": [
    {
     "name": "stdout",
     "output_type": "stream",
     "text": [
      "[]\n"
     ]
    }
   ],
   "source": [
    "png_images = [file for file in images if file.endswith('.png')]\n",
    "print(png_images)"
   ]
  },
  {
   "cell_type": "code",
   "execution_count": 15,
   "metadata": {},
   "outputs": [],
   "source": [
    "import requests"
   ]
  },
  {
   "cell_type": "code",
   "execution_count": 17,
   "metadata": {},
   "outputs": [
    {
     "data": {
      "text/plain": [
       "<Response [200]>"
      ]
     },
     "execution_count": 17,
     "metadata": {},
     "output_type": "execute_result"
    }
   ],
   "source": [
    "page = requests.get('https://en.wikipedia.org/wiki/Catatos')\n",
    "page\n"
   ]
  },
  {
   "cell_type": "code",
   "execution_count": 18,
   "metadata": {},
   "outputs": [
    {
     "data": {
      "text/plain": [
       "'<!DOCTYPE html>\\n<html class=\"client-nojs\" lang=\"en\" dir=\"ltr\">\\n<head>\\n<meta charset=\"UTF-8\"/>\\n<title>Catatos - Wikipedia</title>\\n<script>document.documentElement.className=\"client-js\";RLCONF={\"wgBreakFrames\":false,\"wgSeparatorTransformTable\":[\"\",\"\"],\"wgDigitTransformTable\":[\"\",\"\"],\"wgDefaultDateFormat\":\"dmy\",\"wgMonthNames\":[\"\",\"January\",\"February\",\"March\",\"April\",\"May\",\"June\",\"July\",\"August\",\"September\",\"October\",\"November\",\"December\"],\"wgRequestId\":\"a7d77646-cc4e-4e79-ac30-49d73dc71ce2\",\"wgCSPNonce\":false,\"wgCanonicalNamespace\":\"\",\"wgCanonicalSpecialPageName\":false,\"wgNamespaceNumber\":0,\"wgPageName\":\"Catatos\",\"wgTitle\":\"Catatos\",\"wgCurRevisionId\":1075293430,\"wgRevisionId\":1075293430,\"wgArticleId\":70137643,\"wgIsArticle\":true,\"wgIsRedirect\":false,\"wgAction\":\"view\",\"wgUserName\":null,\"wgUserGroups\":[\"*\"],\"wgCategories\":[\"Articles with short description\",\"Short description matches Wikidata\",\"Angolan cuisine\",\"Insects as food\"],\"wgPageContentLanguage\":\"en\",\"wgPageContentModel\":\"wikitext\",\"wgRelevantPageName\":\"Catatos\",\"wgRelevantArticleId\":70137643,\"wgIsProbablyEditable\":true,\"wgRelevantPageIsProbablyEditable\":true,\\n\"wgRestrictionEdit\":[],\"wgRestrictionMove\":[],\"wgFlaggedRevsParams\":{\"tags\":{\"status\":{\"levels\":-1}}},\"wgVisualEditor\":{\"pageLanguageCode\":\"en\",\"pageLanguageDir\":\"ltr\",\"pageVariantFallbacks\":\"en\"},\"wgMFDisplayWikibaseDescriptions\":{\"search\":true,\"nearby\":true,\"watchlist\":true,\"tagline\":false},\"wgWMESchemaEditAttemptStepOversample\":false,\"wgWMEPageLength\":7000,\"wgNoticeProject\":\"wikipedia\",\"wgMediaViewerOnClick\":true,\"wgMediaViewerEnabledByDefault\":true,\"wgPopupsFlags\":10,\"wgULSCurrentAutonym\":\"English\",\"wgEditSubmitButtonLabelPublish\":true,\"wgCentralAuthMobileDomain\":false,\"wgULSPosition\":\"interlanguage\",\"wgULSisCompactLinksEnabled\":true,\"wgWikibaseItemId\":\"Q111084204\",\"wgGENewcomerTasksGuidanceEnabled\":true,\"wgGEAskQuestionEnabled\":false,\"wgGELinkRecommendationsFrontendEnabled\":false};RLSTATE={\"ext.globalCssJs.user.styles\":\"ready\",\"site.styles\":\"ready\",\"user.styles\":\"ready\",\"ext.globalCssJs.user\":\"ready\",\"user\":\"ready\",\"user.options\":\"loading\",\"ext.cite.styles\":\"ready\",\\n\"skins.vector.styles.legacy\":\"ready\",\"ext.visualEditor.desktopArticleTarget.noscript\":\"ready\",\"ext.wikimediaBadges\":\"ready\",\"ext.uls.interlanguage\":\"ready\",\"wikibase.client.init\":\"ready\"};RLPAGEMODULES=[\"ext.cite.ux-enhancements\",\"site\",\"mediawiki.page.ready\",\"mediawiki.toc\",\"skins.vector.legacy.js\",\"ext.gadget.ReferenceTooltips\",\"ext.gadget.charinsert\",\"ext.gadget.extra-toolbar-buttons\",\"ext.gadget.refToolbar\",\"ext.gadget.switcher\",\"mmv.head\",\"mmv.bootstrap.autostart\",\"ext.visualEditor.desktopArticleTarget.init\",\"ext.visualEditor.targetLoader\",\"ext.eventLogging\",\"ext.wikimediaEvents\",\"ext.navigationTiming\",\"ext.cx.eventlogging.campaigns\",\"ext.centralNotice.geoIP\",\"ext.centralNotice.startUp\",\"ext.centralauth.centralautologin\",\"ext.popups\",\"ext.uls.compactlinks\",\"ext.uls.interface\",\"ext.growthExperiments.SuggestedEditSession\"];</script>\\n<script>(RLQ=window.RLQ||[]).push(function(){mw.loader.implement(\"user.options@1i9g4\",function($,jQuery,require,module){mw.user.tokens.set({\"patrolToken\":\"+\\\\\\\\\",\"watchToken\":\"+\\\\\\\\\",\"csrfToken\":\"+\\\\\\\\\"});});});</script>\\n<link rel=\"stylesheet\" href=\"/w/load.php?lang=en&amp;modules=ext.cite.styles%7Cext.uls.interlanguage%7Cext.visualEditor.desktopArticleTarget.noscript%7Cext.wikimediaBadges%7Cskins.vector.styles.legacy%7Cwikibase.client.init&amp;only=styles&amp;skin=vector\"/>\\n<script async=\"\" src=\"/w/load.php?lang=en&amp;modules=startup&amp;only=scripts&amp;raw=1&amp;skin=vector\"></script>\\n<meta name=\"ResourceLoaderDynamicStyles\" content=\"\"/>\\n<link rel=\"stylesheet\" href=\"/w/load.php?lang=en&amp;modules=site.styles&amp;only=styles&amp;skin=vector\"/>\\n<meta name=\"generator\" content=\"MediaWiki 1.38.0-wmf.24\"/>\\n<meta name=\"referrer\" content=\"origin\"/>\\n<meta name=\"referrer\" content=\"origin-when-crossorigin\"/>\\n<meta name=\"referrer\" content=\"origin-when-cross-origin\"/>\\n<meta name=\"format-detection\" content=\"telephone=no\"/>\\n<meta property=\"og:image\" content=\"https://upload.wikimedia.org/wikipedia/commons/thumb/a/a9/Edible_insects_of_Northern_Angola_%2810.3897-afrinvertebr.58.21083%29_Figure_2.jpg/1200px-Edible_insects_of_Northern_Angola_%2810.3897-afrinvertebr.58.21083%29_Figure_2.jpg\"/>\\n<meta property=\"og:image:width\" content=\"1200\"/>\\n<meta property=\"og:image:height\" content=\"1817\"/>\\n<meta property=\"og:image\" content=\"https://upload.wikimedia.org/wikipedia/commons/thumb/a/a9/Edible_insects_of_Northern_Angola_%2810.3897-afrinvertebr.58.21083%29_Figure_2.jpg/800px-Edible_insects_of_Northern_Angola_%2810.3897-afrinvertebr.58.21083%29_Figure_2.jpg\"/>\\n<meta property=\"og:image:width\" content=\"800\"/>\\n<meta property=\"og:image:height\" content=\"1211\"/>\\n<meta property=\"og:image\" content=\"https://upload.wikimedia.org/wikipedia/commons/thumb/a/a9/Edible_insects_of_Northern_Angola_%2810.3897-afrinvertebr.58.21083%29_Figure_2.jpg/640px-Edible_insects_of_Northern_Angola_%2810.3897-afrinvertebr.58.21083%29_Figure_2.jpg\"/>\\n<meta property=\"og:image:width\" content=\"640\"/>\\n<meta property=\"og:image:height\" content=\"969\"/>\\n<meta property=\"og:title\" content=\"Catatos - Wikipedia\"/>\\n<meta property=\"og:type\" content=\"website\"/>\\n<link rel=\"preconnect\" href=\"//upload.wikimedia.org\"/>\\n<link rel=\"alternate\" media=\"only screen and (max-width: 720px)\" href=\"//en.m.wikipedia.org/wiki/Catatos\"/>\\n<link rel=\"alternate\" type=\"application/x-wiki\" title=\"Edit this page\" href=\"/w/index.php?title=Catatos&amp;action=edit\"/>\\n<link rel=\"apple-touch-icon\" href=\"/static/apple-touch/wikipedia.png\"/>\\n<link rel=\"shortcut icon\" href=\"/static/favicon/wikipedia.ico\"/>\\n<link rel=\"search\" type=\"application/opensearchdescription+xml\" href=\"/w/opensearch_desc.php\" title=\"Wikipedia (en)\"/>\\n<link rel=\"EditURI\" type=\"application/rsd+xml\" href=\"//en.wikipedia.org/w/api.php?action=rsd\"/>\\n<link rel=\"license\" href=\"https://creativecommons.org/licenses/by-sa/3.0/\"/>\\n<link rel=\"canonical\" href=\"https://en.wikipedia.org/wiki/Catatos\"/>\\n<link rel=\"dns-prefetch\" href=\"//meta.wikimedia.org\" />\\n<link rel=\"dns-prefetch\" href=\"//login.wikimedia.org\"/>\\n</head>\\n<body class=\"mediawiki ltr sitedir-ltr mw-hide-empty-elt ns-0 ns-subject mw-editable page-Catatos rootpage-Catatos skin-vector action-view skin-vector-legacy\"><div id=\"mw-page-base\" class=\"noprint\"></div>\\n<div id=\"mw-head-base\" class=\"noprint\"></div>\\n<div id=\"content\" class=\"mw-body\" role=\"main\">\\n\\t<a id=\"top\"></a>\\n\\t<div id=\"siteNotice\"><!-- CentralNotice --></div>\\n\\t<div class=\"mw-indicators\">\\n\\t</div>\\n\\t<h1 id=\"firstHeading\" class=\"firstHeading mw-first-heading\">Catatos</h1>\\n\\t<div id=\"bodyContent\" class=\"vector-body\">\\n\\t\\t<div id=\"siteSub\" class=\"noprint\">From Wikipedia, the free encyclopedia</div>\\n\\t\\t<div id=\"contentSub\"></div>\\n\\t\\t<div id=\"contentSub2\"></div>\\n\\t\\t\\n\\t\\t<div id=\"jump-to-nav\"></div>\\n\\t\\t<a class=\"mw-jump-link\" href=\"#mw-head\">Jump to navigation</a>\\n\\t\\t<a class=\"mw-jump-link\" href=\"#searchInput\">Jump to search</a>\\n\\t\\t<div id=\"mw-content-text\" class=\"mw-body-content mw-content-ltr\" lang=\"en\" dir=\"ltr\"><div class=\"mw-parser-output\"><div class=\"shortdescription nomobile noexcerpt noprint searchaux\" style=\"display:none\">Angolan fried caterpillar dish</div>\\n<p><b>Catatos</b> is a traditional <a href=\"/wiki/Angolan_cuisine\" title=\"Angolan cuisine\">Angolan dish</a> made with fried caterpillars and garlic.<sup id=\"cite_ref-1\" class=\"reference\"><a href=\"#cite_note-1\">&#91;1&#93;</a></sup> It is often served over rice.<sup id=\"cite_ref-2\" class=\"reference\"><a href=\"#cite_note-2\">&#91;2&#93;</a></sup> The dish is a specialty of the <a href=\"/wiki/U%C3%ADge_Province\" title=\"Uíge Province\">Uíge Province</a> in northwestern <a href=\"/wiki/Angola\" title=\"Angola\">Angola</a>.<sup id=\"cite_ref-:0_3-0\" class=\"reference\"><a href=\"#cite_note-:0-3\">&#91;3&#93;</a></sup>\\n</p>\\n<div class=\"thumb tright\"><div class=\"thumbinner\" style=\"width:222px;\"><a href=\"/wiki/File:Edible_insects_of_Northern_Angola_(10.3897-afrinvertebr.58.21083)_Figure_2.jpg\" class=\"image\"><img alt=\"\" src=\"//upload.wikimedia.org/wikipedia/commons/thumb/a/a9/Edible_insects_of_Northern_Angola_%2810.3897-afrinvertebr.58.21083%29_Figure_2.jpg/220px-Edible_insects_of_Northern_Angola_%2810.3897-afrinvertebr.58.21083%29_Figure_2.jpg\" decoding=\"async\" width=\"220\" height=\"333\" class=\"thumbimage\" srcset=\"//upload.wikimedia.org/wikipedia/commons/thumb/a/a9/Edible_insects_of_Northern_Angola_%2810.3897-afrinvertebr.58.21083%29_Figure_2.jpg/330px-Edible_insects_of_Northern_Angola_%2810.3897-afrinvertebr.58.21083%29_Figure_2.jpg 1.5x, //upload.wikimedia.org/wikipedia/commons/thumb/a/a9/Edible_insects_of_Northern_Angola_%2810.3897-afrinvertebr.58.21083%29_Figure_2.jpg/440px-Edible_insects_of_Northern_Angola_%2810.3897-afrinvertebr.58.21083%29_Figure_2.jpg 2x\" data-file-width=\"1451\" data-file-height=\"2197\" /></a>  <div class=\"thumbcaption\"><div class=\"magnify\"><a href=\"/wiki/File:Edible_insects_of_Northern_Angola_(10.3897-afrinvertebr.58.21083)_Figure_2.jpg\" class=\"internal\" title=\"Enlarge\"></a></div>Larval (left) and adult (right) forms of edible moths from Northern Angola: (in descending order) <i><a href=\"/wiki/Cirina_forda\" title=\"Cirina forda\">Cirina forda</a></i>, <i><a href=\"/wiki/Imbrasia_epimethea\" title=\"Imbrasia epimethea\">Imbrasia epimethea</a></i>, <i><a href=\"/wiki/Imbrasia_obscura\" title=\"Imbrasia obscura\">Imbrasia obscura</a></i>, <i>Imbrasia truncata</i>.</div></div></div>\\n<div id=\"toc\" class=\"toc\" role=\"navigation\" aria-labelledby=\"mw-toc-heading\"><input type=\"checkbox\" role=\"button\" id=\"toctogglecheckbox\" class=\"toctogglecheckbox\" style=\"display:none\" /><div class=\"toctitle\" lang=\"en\" dir=\"ltr\"><h2 id=\"mw-toc-heading\">Contents</h2><span class=\"toctogglespan\"><label class=\"toctogglelabel\" for=\"toctogglecheckbox\"></label></span></div>\\n<ul>\\n<li class=\"toclevel-1 tocsection-1\"><a href=\"#Background\"><span class=\"tocnumber\">1</span> <span class=\"toctext\">Background</span></a></li>\\n<li class=\"toclevel-1 tocsection-2\"><a href=\"#Preparation\"><span class=\"tocnumber\">2</span> <span class=\"toctext\">Preparation</span></a></li>\\n<li class=\"toclevel-1 tocsection-3\"><a href=\"#Nutritional_value\"><span class=\"tocnumber\">3</span> <span class=\"toctext\">Nutritional value</span></a></li>\\n<li class=\"toclevel-1 tocsection-4\"><a href=\"#References\"><span class=\"tocnumber\">4</span> <span class=\"toctext\">References</span></a></li>\\n</ul>\\n</div>\\n\\n<h2><span class=\"mw-headline\" id=\"Background\">Background</span><span class=\"mw-editsection\"><span class=\"mw-editsection-bracket\">[</span><a href=\"/w/index.php?title=Catatos&amp;action=edit&amp;section=1\" title=\"Edit section: Background\">edit</a><span class=\"mw-editsection-bracket\">]</span></span></h2>\\n<p>The consumption of insects is an ancient indigenous tradition in many parts of the world, including southern Africa, due to their high nutritious value.<sup id=\"cite_ref-4\" class=\"reference\"><a href=\"#cite_note-4\">&#91;4&#93;</a></sup><sup id=\"cite_ref-5\" class=\"reference\"><a href=\"#cite_note-5\">&#91;5&#93;</a></sup> A number of edible insects, including caterpillars and other larvae, are eaten in the <a href=\"/wiki/U%C3%ADge_Province\" title=\"Uíge Province\">Uíge Province</a> of Angola where they play a substantial role in rural diet.<sup id=\"cite_ref-:3_6-0\" class=\"reference\"><a href=\"#cite_note-:3-6\">&#91;6&#93;</a></sup> Of these, the <a href=\"/wiki/Mopane_worm\" class=\"mw-redirect\" title=\"Mopane worm\">mopane worm</a> (<i>Gonimbrasia belina</i>), a type of caterpillar, is one of the most widely consumed species.<sup id=\"cite_ref-7\" class=\"reference\"><a href=\"#cite_note-7\">&#91;7&#93;</a></sup> Approximately 9.5 billion mopane worms are harvested yearly in southern Africa.<sup id=\"cite_ref-8\" class=\"reference\"><a href=\"#cite_note-8\">&#91;8&#93;</a></sup> Other caterpillar species traditionally eaten in Angola include the larvae of the <i><a href=\"/wiki/Imbrasia_epimethea\" title=\"Imbrasia epimethea\">Imbrasia epimethea</a></i>,<sup id=\"cite_ref-:4_9-0\" class=\"reference\"><a href=\"#cite_note-:4-9\">&#91;9&#93;</a></sup> <a href=\"/wiki/Imbrasia\" title=\"Imbrasia\"><i>Imbrasia ertli</i></a> and <i><a href=\"/wiki/Usta_terpsichore\" title=\"Usta terpsichore\">Usta terpsichore</a></i>.<sup id=\"cite_ref-:2_10-0\" class=\"reference\"><a href=\"#cite_note-:2-10\">&#91;10&#93;</a></sup>\\n</p><p>Traditional methods of gathering and preparation vary depending on the species. Children are often sent to gather them from the trees, while adults gather them in the fields. Sometimes, trees may be cut down and split to gather the caterpillars inside. Caterpillars are washed in water, and their <a href=\"/wiki/Digestive_tract\" class=\"mw-redirect\" title=\"Digestive tract\">digestive tract</a> may be removed as part of the cleaning process. <a href=\"/wiki/Urticating_hair\" title=\"Urticating hair\">Urticating hairs</a> are singed off, if present.<sup id=\"cite_ref-:3_6-1\" class=\"reference\"><a href=\"#cite_note-:3-6\">&#91;6&#93;</a></sup> Catatos, a traditional Uíge dish, is made by frying caterpillars with garlic.<sup id=\"cite_ref-:0_3-1\" class=\"reference\"><a href=\"#cite_note-:0-3\">&#91;3&#93;</a></sup>\\n</p>\\n<h2><span class=\"mw-headline\" id=\"Preparation\">Preparation</span><span class=\"mw-editsection\"><span class=\"mw-editsection-bracket\">[</span><a href=\"/w/index.php?title=Catatos&amp;action=edit&amp;section=2\" title=\"Edit section: Preparation\">edit</a><span class=\"mw-editsection-bracket\">]</span></span></h2>\\n<p>The caterpillars are fried together with garlic. Other ingredients, such as onion, tomatoes and pepper may be added for flavoring. The caterpillars take on a tender yet crunchy texture,<sup id=\"cite_ref-:1_11-0\" class=\"reference\"><a href=\"#cite_note-:1-11\">&#91;11&#93;</a></sup> and their taste has been compared to <a href=\"/wiki/Prawn\" title=\"Prawn\">prawn</a>s.<sup id=\"cite_ref-:0_3-2\" class=\"reference\"><a href=\"#cite_note-:0-3\">&#91;3&#93;</a></sup> It is usually served over rice or <a href=\"/wiki/Funge\" title=\"Funge\">funge</a>. <a href=\"/wiki/Hot_sauce\" title=\"Hot sauce\">Hot sauce</a> may also be added.<sup id=\"cite_ref-:1_11-1\" class=\"reference\"><a href=\"#cite_note-:1-11\">&#91;11&#93;</a></sup>\\n</p>\\n<h2><span class=\"mw-headline\" id=\"Nutritional_value\">Nutritional value</span><span class=\"mw-editsection\"><span class=\"mw-editsection-bracket\">[</span><a href=\"/w/index.php?title=Catatos&amp;action=edit&amp;section=3\" title=\"Edit section: Nutritional value\">edit</a><span class=\"mw-editsection-bracket\">]</span></span></h2>\\n<p>Caterpillars are high in protein, vitamins and minerals, including iron.<sup id=\"cite_ref-12\" class=\"reference\"><a href=\"#cite_note-12\">&#91;12&#93;</a></sup> A study published in 2017 found that <i>Imbrasia epimethea</i> larvae had a comparable amount of protein to <a href=\"/wiki/Tuna\" title=\"Tuna\">tuna</a>, <a href=\"/wiki/Chicken\" title=\"Chicken\">chicken</a> and <a href=\"/wiki/Beef\" title=\"Beef\">beef</a>, but lower levels of <a href=\"/wiki/Essential_amino_acid\" title=\"Essential amino acid\">essential amino acids</a>. They are rich in <a href=\"/wiki/Polyunsaturated_fatty_acid\" title=\"Polyunsaturated fatty acid\">polyunsaturated fatty acids</a>. The study also found that cooking did not significantly impact nutritional value, making them a viable alternative to traditional meats.<sup id=\"cite_ref-:4_9-1\" class=\"reference\"><a href=\"#cite_note-:4-9\">&#91;9&#93;</a></sup> Mopane caterpillars have 31&#160;mg of iron per 100&#160;mg of dry weight, compared to 6&#160;mg of iron per 100&#160;mg of dry weight for beef.<sup id=\"cite_ref-13\" class=\"reference\"><a href=\"#cite_note-13\">&#91;13&#93;</a></sup>\\n</p>\\n<h2><span class=\"mw-headline\" id=\"References\">References</span><span class=\"mw-editsection\"><span class=\"mw-editsection-bracket\">[</span><a href=\"/w/index.php?title=Catatos&amp;action=edit&amp;section=4\" title=\"Edit section: References\">edit</a><span class=\"mw-editsection-bracket\">]</span></span></h2>\\n<div class=\"mw-references-wrap mw-references-columns\"><ol class=\"references\">\\n<li id=\"cite_note-1\"><span class=\"mw-cite-backlink\"><b><a href=\"#cite_ref-1\">^</a></b></span> <span class=\"reference-text\"><style data-mw-deduplicate=\"TemplateStyles:r1067248974\">.mw-parser-output cite.citation{font-style:inherit;word-wrap:break-word}.mw-parser-output .citation q{quotes:\"\\\\\"\"\"\\\\\"\"\"\\'\"\"\\'\"}.mw-parser-output .citation:target{background-color:rgba(0,127,255,0.133)}.mw-parser-output .id-lock-free a,.mw-parser-output .citation .cs1-lock-free a{background:linear-gradient(transparent,transparent),url(\"//upload.wikimedia.org/wikipedia/commons/6/65/Lock-green.svg\")right 0.1em center/9px no-repeat}.mw-parser-output .id-lock-limited a,.mw-parser-output .id-lock-registration a,.mw-parser-output .citation .cs1-lock-limited a,.mw-parser-output .citation .cs1-lock-registration a{background:linear-gradient(transparent,transparent),url(\"//upload.wikimedia.org/wikipedia/commons/d/d6/Lock-gray-alt-2.svg\")right 0.1em center/9px no-repeat}.mw-parser-output .id-lock-subscription a,.mw-parser-output .citation .cs1-lock-subscription a{background:linear-gradient(transparent,transparent),url(\"//upload.wikimedia.org/wikipedia/commons/a/aa/Lock-red-alt-2.svg\")right 0.1em center/9px no-repeat}.mw-parser-output .cs1-ws-icon a{background:linear-gradient(transparent,transparent),url(\"//upload.wikimedia.org/wikipedia/commons/4/4c/Wikisource-logo.svg\")right 0.1em center/12px no-repeat}.mw-parser-output .cs1-code{color:inherit;background:inherit;border:none;padding:inherit}.mw-parser-output .cs1-hidden-error{display:none;color:#d33}.mw-parser-output .cs1-visible-error{color:#d33}.mw-parser-output .cs1-maint{display:none;color:#3a3;margin-left:0.3em}.mw-parser-output .cs1-format{font-size:95%}.mw-parser-output .cs1-kern-left{padding-left:0.2em}.mw-parser-output .cs1-kern-right{padding-right:0.2em}.mw-parser-output .citation .mw-selflink{font-weight:inherit}</style><cite id=\"CITEREFPhilpott2016\" class=\"citation book cs1\">Philpott, Don (2016-10-20). <a rel=\"nofollow\" class=\"external text\" href=\"https://books.google.com/books?id=3dIbDQAAQBAJ\"><i>The World of Wine and Food: A Guide to Varieties, Tastes, History, and Pairings</i></a>. Rowman &amp; Littlefield. p.&#160;285. <a href=\"/wiki/ISBN_(identifier)\" class=\"mw-redirect\" title=\"ISBN (identifier)\">ISBN</a>&#160;<a href=\"/wiki/Special:BookSources/978-1-4422-6804-3\" title=\"Special:BookSources/978-1-4422-6804-3\"><bdi>978-1-4422-6804-3</bdi></a>.</cite><span title=\"ctx_ver=Z39.88-2004&amp;rft_val_fmt=info%3Aofi%2Ffmt%3Akev%3Amtx%3Abook&amp;rft.genre=book&amp;rft.btitle=The+World+of+Wine+and+Food%3A+A+Guide+to+Varieties%2C+Tastes%2C+History%2C+and+Pairings&amp;rft.pages=285&amp;rft.pub=Rowman+%26+Littlefield&amp;rft.date=2016-10-20&amp;rft.isbn=978-1-4422-6804-3&amp;rft.aulast=Philpott&amp;rft.aufirst=Don&amp;rft_id=https%3A%2F%2Fbooks.google.com%2Fbooks%3Fid%3D3dIbDQAAQBAJ&amp;rfr_id=info%3Asid%2Fen.wikipedia.org%3ACatatos\" class=\"Z3988\"></span></span>\\n</li>\\n<li id=\"cite_note-2\"><span class=\"mw-cite-backlink\"><b><a href=\"#cite_ref-2\">^</a></b></span> <span class=\"reference-text\"><link rel=\"mw-deduplicated-inline-style\" href=\"mw-data:TemplateStyles:r1067248974\"/><cite id=\"CITEREFJames2018\" class=\"citation book cs1\">James, W. Martin (2018-03-01). <a rel=\"nofollow\" class=\"external text\" href=\"https://www.google.com/books/edition/Historical_Dictionary_of_Angola/ZtJKDwAAQBAJ?hl=en&amp;gbpv=1&amp;dq=catatos&amp;pg=PA105&amp;printsec=frontcover\"><i>Historical Dictionary of Angola</i></a>. Rowman &amp; Littlefield. <a href=\"/wiki/ISBN_(identifier)\" class=\"mw-redirect\" title=\"ISBN (identifier)\">ISBN</a>&#160;<a href=\"/wiki/Special:BookSources/978-1-5381-1123-9\" title=\"Special:BookSources/978-1-5381-1123-9\"><bdi>978-1-5381-1123-9</bdi></a>.</cite><span title=\"ctx_ver=Z39.88-2004&amp;rft_val_fmt=info%3Aofi%2Ffmt%3Akev%3Amtx%3Abook&amp;rft.genre=book&amp;rft.btitle=Historical+Dictionary+of+Angola&amp;rft.pub=Rowman+%26+Littlefield&amp;rft.date=2018-03-01&amp;rft.isbn=978-1-5381-1123-9&amp;rft.aulast=James&amp;rft.aufirst=W.+Martin&amp;rft_id=https%3A%2F%2Fwww.google.com%2Fbooks%2Fedition%2FHistorical_Dictionary_of_Angola%2FZtJKDwAAQBAJ%3Fhl%3Den%26gbpv%3D1%26dq%3Dcatatos%26pg%3DPA105%26printsec%3Dfrontcover&amp;rfr_id=info%3Asid%2Fen.wikipedia.org%3ACatatos\" class=\"Z3988\"></span></span>\\n</li>\\n<li id=\"cite_note-:0-3\"><span class=\"mw-cite-backlink\">^ <a href=\"#cite_ref-:0_3-0\"><sup><i><b>a</b></i></sup></a> <a href=\"#cite_ref-:0_3-1\"><sup><i><b>b</b></i></sup></a> <a href=\"#cite_ref-:0_3-2\"><sup><i><b>c</b></i></sup></a></span> <span class=\"reference-text\"><link rel=\"mw-deduplicated-inline-style\" href=\"mw-data:TemplateStyles:r1067248974\"/><cite id=\"CITEREFSteadRorisonScafidi2013\" class=\"citation book cs1\">Stead, Mike; Rorison, Sean; Scafidi, Oscar (2013). <a rel=\"nofollow\" class=\"external text\" href=\"https://books.google.com/books?id=0jqQRmcjxLYC\"><i>Angola</i></a>. Bradt Travel Guides. pp.&#160;93–94. <a href=\"/wiki/ISBN_(identifier)\" class=\"mw-redirect\" title=\"ISBN (identifier)\">ISBN</a>&#160;<a href=\"/wiki/Special:BookSources/978-1-84162-443-3\" title=\"Special:BookSources/978-1-84162-443-3\"><bdi>978-1-84162-443-3</bdi></a>.</cite><span title=\"ctx_ver=Z39.88-2004&amp;rft_val_fmt=info%3Aofi%2Ffmt%3Akev%3Amtx%3Abook&amp;rft.genre=book&amp;rft.btitle=Angola&amp;rft.pages=93-94&amp;rft.pub=Bradt+Travel+Guides&amp;rft.date=2013&amp;rft.isbn=978-1-84162-443-3&amp;rft.aulast=Stead&amp;rft.aufirst=Mike&amp;rft.au=Rorison%2C+Sean&amp;rft.au=Scafidi%2C+Oscar&amp;rft_id=https%3A%2F%2Fbooks.google.com%2Fbooks%3Fid%3D0jqQRmcjxLYC&amp;rfr_id=info%3Asid%2Fen.wikipedia.org%3ACatatos\" class=\"Z3988\"></span></span>\\n</li>\\n<li id=\"cite_note-4\"><span class=\"mw-cite-backlink\"><b><a href=\"#cite_ref-4\">^</a></b></span> <span class=\"reference-text\"><link rel=\"mw-deduplicated-inline-style\" href=\"mw-data:TemplateStyles:r1067248974\"/><cite id=\"CITEREFHlongwaneSlotowMunyai2020\" class=\"citation journal cs1\">Hlongwane, Zabentungwa T.; Slotow, Rob; Munyai, Thinandavha C. (2020-12-31). <a rel=\"nofollow\" class=\"external text\" href=\"//www.ncbi.nlm.nih.gov/pmc/articles/PMC7824724\">\"Indigenous Knowledge about Consumption of Edible Insects in South Africa\"</a>. <i>Insects</i>. <b>12</b> (1): 22. <a href=\"/wiki/Doi_(identifier)\" class=\"mw-redirect\" title=\"Doi (identifier)\">doi</a>:<span class=\"cs1-lock-free\" title=\"Freely accessible\"><a rel=\"nofollow\" class=\"external text\" href=\"https://doi.org/10.3390%2Finsects12010022\">10.3390/insects12010022</a></span>. <a href=\"/wiki/ISSN_(identifier)\" class=\"mw-redirect\" title=\"ISSN (identifier)\">ISSN</a>&#160;<a rel=\"nofollow\" class=\"external text\" href=\"//www.worldcat.org/issn/2075-4450\">2075-4450</a>. <a href=\"/wiki/PMC_(identifier)\" class=\"mw-redirect\" title=\"PMC (identifier)\">PMC</a>&#160;<span class=\"cs1-lock-free\" title=\"Freely accessible\"><a rel=\"nofollow\" class=\"external text\" href=\"//www.ncbi.nlm.nih.gov/pmc/articles/PMC7824724\">7824724</a></span>. <a href=\"/wiki/PMID_(identifier)\" class=\"mw-redirect\" title=\"PMID (identifier)\">PMID</a>&#160;<a rel=\"nofollow\" class=\"external text\" href=\"//pubmed.ncbi.nlm.nih.gov/33396313\">33396313</a>.</cite><span title=\"ctx_ver=Z39.88-2004&amp;rft_val_fmt=info%3Aofi%2Ffmt%3Akev%3Amtx%3Ajournal&amp;rft.genre=article&amp;rft.jtitle=Insects&amp;rft.atitle=Indigenous+Knowledge+about+Consumption+of+Edible+Insects+in+South+Africa&amp;rft.volume=12&amp;rft.issue=1&amp;rft.pages=22&amp;rft.date=2020-12-31&amp;rft_id=%2F%2Fwww.ncbi.nlm.nih.gov%2Fpmc%2Farticles%2FPMC7824724%23id-name%3DPMC&amp;rft.issn=2075-4450&amp;rft_id=info%3Apmid%2F33396313&amp;rft_id=info%3Adoi%2F10.3390%2Finsects12010022&amp;rft.aulast=Hlongwane&amp;rft.aufirst=Zabentungwa+T.&amp;rft.au=Slotow%2C+Rob&amp;rft.au=Munyai%2C+Thinandavha+C.&amp;rft_id=%2F%2Fwww.ncbi.nlm.nih.gov%2Fpmc%2Farticles%2FPMC7824724&amp;rfr_id=info%3Asid%2Fen.wikipedia.org%3ACatatos\" class=\"Z3988\"></span></span>\\n</li>\\n<li id=\"cite_note-5\"><span class=\"mw-cite-backlink\"><b><a href=\"#cite_ref-5\">^</a></b></span> <span class=\"reference-text\"><link rel=\"mw-deduplicated-inline-style\" href=\"mw-data:TemplateStyles:r1067248974\"/><cite id=\"CITEREFKouřimskáAdámková2016\" class=\"citation journal cs1\">Kouřimská, Lenka; Adámková, Anna (2016-10-01). <a rel=\"nofollow\" class=\"external text\" href=\"https://www.sciencedirect.com/science/article/pii/S2352364616300013\">\"Nutritional and sensory quality of edible insects\"</a>. <i>NFS Journal</i>. <b>4</b>: 22–26. <a href=\"/wiki/Doi_(identifier)\" class=\"mw-redirect\" title=\"Doi (identifier)\">doi</a>:<a rel=\"nofollow\" class=\"external text\" href=\"https://doi.org/10.1016%2Fj.nfs.2016.07.001\">10.1016/j.nfs.2016.07.001</a>. <a href=\"/wiki/ISSN_(identifier)\" class=\"mw-redirect\" title=\"ISSN (identifier)\">ISSN</a>&#160;<a rel=\"nofollow\" class=\"external text\" href=\"//www.worldcat.org/issn/2352-3646\">2352-3646</a>.</cite><span title=\"ctx_ver=Z39.88-2004&amp;rft_val_fmt=info%3Aofi%2Ffmt%3Akev%3Amtx%3Ajournal&amp;rft.genre=article&amp;rft.jtitle=NFS+Journal&amp;rft.atitle=Nutritional+and+sensory+quality+of+edible+insects&amp;rft.volume=4&amp;rft.pages=22-26&amp;rft.date=2016-10-01&amp;rft_id=info%3Adoi%2F10.1016%2Fj.nfs.2016.07.001&amp;rft.issn=2352-3646&amp;rft.aulast=Kou%C5%99imsk%C3%A1&amp;rft.aufirst=Lenka&amp;rft.au=Ad%C3%A1mkov%C3%A1%2C+Anna&amp;rft_id=https%3A%2F%2Fwww.sciencedirect.com%2Fscience%2Farticle%2Fpii%2FS2352364616300013&amp;rfr_id=info%3Asid%2Fen.wikipedia.org%3ACatatos\" class=\"Z3988\"></span></span>\\n</li>\\n<li id=\"cite_note-:3-6\"><span class=\"mw-cite-backlink\">^ <a href=\"#cite_ref-:3_6-0\"><sup><i><b>a</b></i></sup></a> <a href=\"#cite_ref-:3_6-1\"><sup><i><b>b</b></i></sup></a></span> <span class=\"reference-text\"><link rel=\"mw-deduplicated-inline-style\" href=\"mw-data:TemplateStyles:r1067248974\"/><cite id=\"CITEREFLautenschlägerNeinhuisMoniziMandombe2017\" class=\"citation journal cs1\">Lautenschläger, Thea; Neinhuis, Christoph; Monizi, Mawunu; Mandombe, José Lau; Förster, Anke; Henle, Thomas; Nuss, Matthias (2017-12-08). <a rel=\"nofollow\" class=\"external text\" href=\"https://dx.doi.org/10.3897/afrinvertebr.58.21083\">\"Edible insects of Northern Angola\"</a>. <i>African Invertebrates</i>. <b>58</b> (2): 55–82. <a href=\"/wiki/Doi_(identifier)\" class=\"mw-redirect\" title=\"Doi (identifier)\">doi</a>:<a rel=\"nofollow\" class=\"external text\" href=\"https://doi.org/10.3897%2Fafrinvertebr.58.21083\">10.3897/afrinvertebr.58.21083</a>. <a href=\"/wiki/ISSN_(identifier)\" class=\"mw-redirect\" title=\"ISSN (identifier)\">ISSN</a>&#160;<a rel=\"nofollow\" class=\"external text\" href=\"//www.worldcat.org/issn/2305-2562\">2305-2562</a>.</cite><span title=\"ctx_ver=Z39.88-2004&amp;rft_val_fmt=info%3Aofi%2Ffmt%3Akev%3Amtx%3Ajournal&amp;rft.genre=article&amp;rft.jtitle=African+Invertebrates&amp;rft.atitle=Edible+insects+of+Northern+Angola&amp;rft.volume=58&amp;rft.issue=2&amp;rft.pages=55-82&amp;rft.date=2017-12-08&amp;rft_id=info%3Adoi%2F10.3897%2Fafrinvertebr.58.21083&amp;rft.issn=2305-2562&amp;rft.aulast=Lautenschl%C3%A4ger&amp;rft.aufirst=Thea&amp;rft.au=Neinhuis%2C+Christoph&amp;rft.au=Monizi%2C+Mawunu&amp;rft.au=Mandombe%2C+Jos%C3%A9+Lau&amp;rft.au=F%C3%B6rster%2C+Anke&amp;rft.au=Henle%2C+Thomas&amp;rft.au=Nuss%2C+Matthias&amp;rft_id=http%3A%2F%2Fdx.doi.org%2F10.3897%2Fafrinvertebr.58.21083&amp;rfr_id=info%3Asid%2Fen.wikipedia.org%3ACatatos\" class=\"Z3988\"></span></span>\\n</li>\\n<li id=\"cite_note-7\"><span class=\"mw-cite-backlink\"><b><a href=\"#cite_ref-7\">^</a></b></span> <span class=\"reference-text\"><link rel=\"mw-deduplicated-inline-style\" href=\"mw-data:TemplateStyles:r1067248974\"/><cite id=\"CITEREFIllgnerNel2000\" class=\"citation journal cs1\">Illgner, Peter; Nel, Etienne (2000). <a rel=\"nofollow\" class=\"external text\" href=\"https://www.jstor.org/stable/823035\">\"The Geography of Edible Insects in Sub-Saharan Africa: A Study of the Mopane Caterpillar\"</a>. <i>The Geographical Journal</i>. <b>166</b> (4): 336–351. <a href=\"/wiki/Doi_(identifier)\" class=\"mw-redirect\" title=\"Doi (identifier)\">doi</a>:<a rel=\"nofollow\" class=\"external text\" href=\"https://doi.org/10.1111%2Fj.1475-4959.2000.tb00035.x\">10.1111/j.1475-4959.2000.tb00035.x</a>. <a href=\"/wiki/ISSN_(identifier)\" class=\"mw-redirect\" title=\"ISSN (identifier)\">ISSN</a>&#160;<a rel=\"nofollow\" class=\"external text\" href=\"//www.worldcat.org/issn/0016-7398\">0016-7398</a>. <a href=\"/wiki/JSTOR_(identifier)\" class=\"mw-redirect\" title=\"JSTOR (identifier)\">JSTOR</a>&#160;<a rel=\"nofollow\" class=\"external text\" href=\"//www.jstor.org/stable/823035\">823035</a>.</cite><span title=\"ctx_ver=Z39.88-2004&amp;rft_val_fmt=info%3Aofi%2Ffmt%3Akev%3Amtx%3Ajournal&amp;rft.genre=article&amp;rft.jtitle=The+Geographical+Journal&amp;rft.atitle=The+Geography+of+Edible+Insects+in+Sub-Saharan+Africa%3A+A+Study+of+the+Mopane+Caterpillar&amp;rft.volume=166&amp;rft.issue=4&amp;rft.pages=336-351&amp;rft.date=2000&amp;rft.issn=0016-7398&amp;rft_id=%2F%2Fwww.jstor.org%2Fstable%2F823035%23id-name%3DJSTOR&amp;rft_id=info%3Adoi%2F10.1111%2Fj.1475-4959.2000.tb00035.x&amp;rft.aulast=Illgner&amp;rft.aufirst=Peter&amp;rft.au=Nel%2C+Etienne&amp;rft_id=https%3A%2F%2Fwww.jstor.org%2Fstable%2F823035&amp;rfr_id=info%3Asid%2Fen.wikipedia.org%3ACatatos\" class=\"Z3988\"></span></span>\\n</li>\\n<li id=\"cite_note-8\"><span class=\"mw-cite-backlink\"><b><a href=\"#cite_ref-8\">^</a></b></span> <span class=\"reference-text\"><link rel=\"mw-deduplicated-inline-style\" href=\"mw-data:TemplateStyles:r1067248974\"/><cite class=\"citation web cs1\"><a rel=\"nofollow\" class=\"external text\" href=\"https://pressoffice.mg.co.za/northwestuniversity/content/KBpdg7pzXAWqLEew\">\"Putting edible insects on the menu\"</a>. <i>Mail &amp; Guardian</i>. 2020-08-18<span class=\"reference-accessdate\">. Retrieved <span class=\"nowrap\">2022-02-22</span></span>.</cite><span title=\"ctx_ver=Z39.88-2004&amp;rft_val_fmt=info%3Aofi%2Ffmt%3Akev%3Amtx%3Ajournal&amp;rft.genre=unknown&amp;rft.jtitle=Mail+%26+Guardian&amp;rft.atitle=Putting+edible+insects+on+the+menu&amp;rft.date=2020-08-18&amp;rft_id=https%3A%2F%2Fpressoffice.mg.co.za%2Fnorthwestuniversity%2Fcontent%2FKBpdg7pzXAWqLEew&amp;rfr_id=info%3Asid%2Fen.wikipedia.org%3ACatatos\" class=\"Z3988\"></span></span>\\n</li>\\n<li id=\"cite_note-:4-9\"><span class=\"mw-cite-backlink\">^ <a href=\"#cite_ref-:4_9-0\"><sup><i><b>a</b></i></sup></a> <a href=\"#cite_ref-:4_9-1\"><sup><i><b>b</b></i></sup></a></span> <span class=\"reference-text\"><link rel=\"mw-deduplicated-inline-style\" href=\"mw-data:TemplateStyles:r1067248974\"/><cite id=\"CITEREFLautenschlägerNeinhuisKikongoHenle2017\" class=\"citation journal cs1\">Lautenschläger, Thea; Neinhuis, Christoph; Kikongo, Eduardo; Henle, Thomas; Förster, Anke (2017-05-01). <a rel=\"nofollow\" class=\"external text\" href=\"https://doi.org/10.1007/s00217-016-2791-0\">\"Impact of different preparations on the nutritional value of the edible caterpillar Imbrasia epimethea from northern Angola\"</a>. <i>European Food Research and Technology</i>. <b>243</b> (5): 769–778. <a href=\"/wiki/Doi_(identifier)\" class=\"mw-redirect\" title=\"Doi (identifier)\">doi</a>:<a rel=\"nofollow\" class=\"external text\" href=\"https://doi.org/10.1007%2Fs00217-016-2791-0\">10.1007/s00217-016-2791-0</a>. <a href=\"/wiki/ISSN_(identifier)\" class=\"mw-redirect\" title=\"ISSN (identifier)\">ISSN</a>&#160;<a rel=\"nofollow\" class=\"external text\" href=\"//www.worldcat.org/issn/1438-2385\">1438-2385</a>. <a href=\"/wiki/S2CID_(identifier)\" class=\"mw-redirect\" title=\"S2CID (identifier)\">S2CID</a>&#160;<a rel=\"nofollow\" class=\"external text\" href=\"https://api.semanticscholar.org/CorpusID:88723134\">88723134</a>.</cite><span title=\"ctx_ver=Z39.88-2004&amp;rft_val_fmt=info%3Aofi%2Ffmt%3Akev%3Amtx%3Ajournal&amp;rft.genre=article&amp;rft.jtitle=European+Food+Research+and+Technology&amp;rft.atitle=Impact+of+different+preparations+on+the+nutritional+value+of+the+edible+caterpillar+Imbrasia+epimethea+from+northern+Angola&amp;rft.volume=243&amp;rft.issue=5&amp;rft.pages=769-778&amp;rft.date=2017-05-01&amp;rft_id=https%3A%2F%2Fapi.semanticscholar.org%2FCorpusID%3A88723134%23id-name%3DS2CID&amp;rft.issn=1438-2385&amp;rft_id=info%3Adoi%2F10.1007%2Fs00217-016-2791-0&amp;rft.aulast=Lautenschl%C3%A4ger&amp;rft.aufirst=Thea&amp;rft.au=Neinhuis%2C+Christoph&amp;rft.au=Kikongo%2C+Eduardo&amp;rft.au=Henle%2C+Thomas&amp;rft.au=F%C3%B6rster%2C+Anke&amp;rft_id=https%3A%2F%2Fdoi.org%2F10.1007%2Fs00217-016-2791-0&amp;rfr_id=info%3Asid%2Fen.wikipedia.org%3ACatatos\" class=\"Z3988\"></span></span>\\n</li>\\n<li id=\"cite_note-:2-10\"><span class=\"mw-cite-backlink\"><b><a href=\"#cite_ref-:2_10-0\">^</a></b></span> <span class=\"reference-text\"><link rel=\"mw-deduplicated-inline-style\" href=\"mw-data:TemplateStyles:r1067248974\"/><cite id=\"CITEREFOliveirade_Carvalhode_SousaSimão1976\" class=\"citation journal cs1\">Oliveira, J. F. Santos; de Carvalho, J. Passos; de Sousa, R. F. X. Bruno; Simão, M. Madalena (1976-01-01). <a rel=\"nofollow\" class=\"external text\" href=\"https://doi.org/10.1080/03670244.1976.9990450\">\"The nutritional value of four species of insects consumed in Angola\"</a>. <i>Ecology of Food and Nutrition</i>. <b>5</b> (2): 91–97. <a href=\"/wiki/Doi_(identifier)\" class=\"mw-redirect\" title=\"Doi (identifier)\">doi</a>:<a rel=\"nofollow\" class=\"external text\" href=\"https://doi.org/10.1080%2F03670244.1976.9990450\">10.1080/03670244.1976.9990450</a>. <a href=\"/wiki/ISSN_(identifier)\" class=\"mw-redirect\" title=\"ISSN (identifier)\">ISSN</a>&#160;<a rel=\"nofollow\" class=\"external text\" href=\"//www.worldcat.org/issn/0367-0244\">0367-0244</a>.</cite><span title=\"ctx_ver=Z39.88-2004&amp;rft_val_fmt=info%3Aofi%2Ffmt%3Akev%3Amtx%3Ajournal&amp;rft.genre=article&amp;rft.jtitle=Ecology+of+Food+and+Nutrition&amp;rft.atitle=The+nutritional+value+of+four+species+of+insects+consumed+in+Angola&amp;rft.volume=5&amp;rft.issue=2&amp;rft.pages=91-97&amp;rft.date=1976-01-01&amp;rft_id=info%3Adoi%2F10.1080%2F03670244.1976.9990450&amp;rft.issn=0367-0244&amp;rft.aulast=Oliveira&amp;rft.aufirst=J.+F.+Santos&amp;rft.au=de+Carvalho%2C+J.+Passos&amp;rft.au=de+Sousa%2C+R.+F.+X.+Bruno&amp;rft.au=Sim%C3%A3o%2C+M.+Madalena&amp;rft_id=https%3A%2F%2Fdoi.org%2F10.1080%2F03670244.1976.9990450&amp;rfr_id=info%3Asid%2Fen.wikipedia.org%3ACatatos\" class=\"Z3988\"></span></span>\\n</li>\\n<li id=\"cite_note-:1-11\"><span class=\"mw-cite-backlink\">^ <a href=\"#cite_ref-:1_11-0\"><sup><i><b>a</b></i></sup></a> <a href=\"#cite_ref-:1_11-1\"><sup><i><b>b</b></i></sup></a></span> <span class=\"reference-text\"><link rel=\"mw-deduplicated-inline-style\" href=\"mw-data:TemplateStyles:r1067248974\"/><cite class=\"citation web cs1\"><a rel=\"nofollow\" class=\"external text\" href=\"https://www.tasteatlas.com/catatos\">\"Catatos | Traditional Insect Dish From Uíge Province | TasteAtlas\"</a>. <i>www.tasteatlas.com</i><span class=\"reference-accessdate\">. Retrieved <span class=\"nowrap\">2022-02-22</span></span>.</cite><span title=\"ctx_ver=Z39.88-2004&amp;rft_val_fmt=info%3Aofi%2Ffmt%3Akev%3Amtx%3Ajournal&amp;rft.genre=unknown&amp;rft.jtitle=www.tasteatlas.com&amp;rft.atitle=Catatos+%7C+Traditional+Insect+Dish+From+U%C3%ADge+Province+%7C+TasteAtlas&amp;rft_id=https%3A%2F%2Fwww.tasteatlas.com%2Fcatatos&amp;rfr_id=info%3Asid%2Fen.wikipedia.org%3ACatatos\" class=\"Z3988\"></span></span>\\n</li>\\n<li id=\"cite_note-12\"><span class=\"mw-cite-backlink\"><b><a href=\"#cite_ref-12\">^</a></b></span> <span class=\"reference-text\"><link rel=\"mw-deduplicated-inline-style\" href=\"mw-data:TemplateStyles:r1067248974\"/><cite id=\"CITEREFHuis2003\" class=\"citation journal cs1\">Huis, A. van (September 2003). <a rel=\"nofollow\" class=\"external text\" href=\"https://www.cambridge.org/core/journals/international-journal-of-tropical-insect-science/article/abs/insects-as-food-in-subsaharan-africa/D4ED5C530A2601FA08AF4F2FBE50BE83\">\"Insects as Food in sub-Saharan Africa\"</a>. <i>International Journal of Tropical Insect Science</i>. <b>23</b> (3): 163–185. <a href=\"/wiki/Doi_(identifier)\" class=\"mw-redirect\" title=\"Doi (identifier)\">doi</a>:<a rel=\"nofollow\" class=\"external text\" href=\"https://doi.org/10.1017%2FS1742758400023572\">10.1017/S1742758400023572</a>. <a href=\"/wiki/ISSN_(identifier)\" class=\"mw-redirect\" title=\"ISSN (identifier)\">ISSN</a>&#160;<a rel=\"nofollow\" class=\"external text\" href=\"//www.worldcat.org/issn/0191-9040\">0191-9040</a>.</cite><span title=\"ctx_ver=Z39.88-2004&amp;rft_val_fmt=info%3Aofi%2Ffmt%3Akev%3Amtx%3Ajournal&amp;rft.genre=article&amp;rft.jtitle=International+Journal+of+Tropical+Insect+Science&amp;rft.atitle=Insects+as+Food+in+sub-Saharan+Africa&amp;rft.volume=23&amp;rft.issue=3&amp;rft.pages=163-185&amp;rft.date=2003-09&amp;rft_id=info%3Adoi%2F10.1017%2FS1742758400023572&amp;rft.issn=0191-9040&amp;rft.aulast=Huis&amp;rft.aufirst=A.+van&amp;rft_id=https%3A%2F%2Fwww.cambridge.org%2Fcore%2Fjournals%2Finternational-journal-of-tropical-insect-science%2Farticle%2Fabs%2Finsects-as-food-in-subsaharan-africa%2FD4ED5C530A2601FA08AF4F2FBE50BE83&amp;rfr_id=info%3Asid%2Fen.wikipedia.org%3ACatatos\" class=\"Z3988\"></span></span>\\n</li>\\n<li id=\"cite_note-13\"><span class=\"mw-cite-backlink\"><b><a href=\"#cite_ref-13\">^</a></b></span> <span class=\"reference-text\"><link rel=\"mw-deduplicated-inline-style\" href=\"mw-data:TemplateStyles:r1067248974\"/><cite id=\"CITEREFMarc_Lallanilla2014\" class=\"citation web cs1\">Marc Lallanilla (2014-03-06). <a rel=\"nofollow\" class=\"external text\" href=\"https://www.livescience.com/43901-eating-insects-bugs-entomophagy.html\">\"7 Insects You\\'ll Be Eating in the Future\"</a>. <i>livescience.com</i><span class=\"reference-accessdate\">. Retrieved <span class=\"nowrap\">2022-02-22</span></span>.</cite><span title=\"ctx_ver=Z39.88-2004&amp;rft_val_fmt=info%3Aofi%2Ffmt%3Akev%3Amtx%3Ajournal&amp;rft.genre=unknown&amp;rft.jtitle=livescience.com&amp;rft.atitle=7+Insects+You%27ll+Be+Eating+in+the+Future&amp;rft.date=2014-03-06&amp;rft.au=Marc+Lallanilla&amp;rft_id=https%3A%2F%2Fwww.livescience.com%2F43901-eating-insects-bugs-entomophagy.html&amp;rfr_id=info%3Asid%2Fen.wikipedia.org%3ACatatos\" class=\"Z3988\"></span></span>\\n</li>\\n</ol></div>\\n<!-- \\nNewPP limit report\\nParsed by mw1447\\nCached time: 20220304233355\\nCache expiry: 1814400\\nReduced expiry: false\\nComplications: [vary‐revision‐sha1]\\nCPU time usage: 0.304 seconds\\nReal time usage: 0.351 seconds\\nPreprocessor visited node count: 804/1000000\\nPost‐expand include size: 28076/2097152 bytes\\nTemplate argument size: 339/2097152 bytes\\nHighest expansion depth: 8/100\\nExpensive parser function count: 0/500\\nUnstrip recursion depth: 1/20\\nUnstrip post‐expand size: 43166/5000000 bytes\\nLua time usage: 0.197/10.000 seconds\\nLua memory usage: 5469313/52428800 bytes\\nNumber of Wikibase entities loaded: 0/400\\n-->\\n<!--\\nTransclusion expansion time report (%,ms,calls,template)\\n100.00%  301.834      1 -total\\n 41.00%  123.740      3 Template:Cite_book\\n 23.98%   72.386      1 Template:Short_description\\n 22.31%   67.336      7 Template:Cite_journal\\n 12.89%   38.909      1 Template:Pagetype\\n  6.32%   19.080      2 Template:Main_other\\n  5.32%   16.050      3 Template:Cite_web\\n  5.30%   15.993      1 Template:SDcat\\n  1.03%    3.097      1 Template:Short_description/lowercasecheck\\n-->\\n\\n<!-- Saved in parser cache with key enwiki:pcache:idhash:70137643-0!canonical and timestamp 20220304233355 and revision id 1075293430. Serialized with JSON.\\n -->\\n</div><noscript><img src=\"//en.wikipedia.org/wiki/Special:CentralAutoLogin/start?type=1x1\" alt=\"\" title=\"\" width=\"1\" height=\"1\" style=\"border: none; position: absolute;\" /></noscript>\\n<div class=\"printfooter\">Retrieved from \"<a dir=\"ltr\" href=\"https://en.wikipedia.org/w/index.php?title=Catatos&amp;oldid=1075293430\">https://en.wikipedia.org/w/index.php?title=Catatos&amp;oldid=1075293430</a>\"</div></div>\\n\\t\\t<div id=\"catlinks\" class=\"catlinks\" data-mw=\"interface\"><div id=\"mw-normal-catlinks\" class=\"mw-normal-catlinks\"><a href=\"/wiki/Help:Category\" title=\"Help:Category\">Categories</a>: <ul><li><a href=\"/wiki/Category:Angolan_cuisine\" title=\"Category:Angolan cuisine\">Angolan cuisine</a></li><li><a href=\"/wiki/Category:Insects_as_food\" title=\"Category:Insects as food\">Insects as food</a></li></ul></div><div id=\"mw-hidden-catlinks\" class=\"mw-hidden-catlinks mw-hidden-cats-hidden\">Hidden categories: <ul><li><a href=\"/wiki/Category:Articles_with_short_description\" title=\"Category:Articles with short description\">Articles with short description</a></li><li><a href=\"/wiki/Category:Short_description_matches_Wikidata\" title=\"Category:Short description matches Wikidata\">Short description matches Wikidata</a></li></ul></div></div>\\n\\t</div>\\n</div>\\n<div id=\\'mw-data-after-content\\'>\\n\\t<div class=\"read-more-container\"></div>\\n</div>\\n\\n<div id=\"mw-navigation\">\\n\\t<h2>Navigation menu</h2>\\n\\t<div id=\"mw-head\">\\n\\t\\t\\n<nav id=\"p-personal\" class=\"mw-portlet mw-portlet-personal vector-user-menu-legacy vector-menu\" aria-labelledby=\"p-personal-label\" role=\"navigation\" \\n\\t >\\n\\t<h3 id=\"p-personal-label\" aria-label=\"\" class=\"vector-menu-heading\">\\n\\t\\t<span class=\"vector-menu-heading-label\">Personal tools</span>\\n\\t</h3>\\n\\t<div class=\"vector-menu-content\">\\n\\t\\t\\n\\t\\t<ul class=\"vector-menu-content-list\"><li id=\"pt-anonuserpage\" class=\"mw-list-item\"><span>Not logged in</span></li><li id=\"pt-anontalk\" class=\"mw-list-item\"><a href=\"/wiki/Special:MyTalk\" title=\"Discussion about edits from this IP address [n]\" accesskey=\"n\"><span>Talk</span></a></li><li id=\"pt-anoncontribs\" class=\"mw-list-item\"><a href=\"/wiki/Special:MyContributions\" title=\"A list of edits made from this IP address [y]\" accesskey=\"y\"><span>Contributions</span></a></li><li id=\"pt-createaccount\" class=\"mw-list-item\"><a href=\"/w/index.php?title=Special:CreateAccount&amp;returnto=Catatos\" title=\"You are encouraged to create an account and log in; however, it is not mandatory\"><span>Create account</span></a></li><li id=\"pt-login\" class=\"mw-list-item\"><a href=\"/w/index.php?title=Special:UserLogin&amp;returnto=Catatos\" title=\"You&#039;re encouraged to log in; however, it&#039;s not mandatory. [o]\" accesskey=\"o\"><span>Log in</span></a></li></ul>\\n\\t\\t\\n\\t</div>\\n</nav>\\n\\n\\t\\t<div id=\"left-navigation\">\\n\\t\\t\\t\\n<nav id=\"p-namespaces\" class=\"mw-portlet mw-portlet-namespaces vector-menu vector-menu-tabs\" aria-labelledby=\"p-namespaces-label\" role=\"navigation\" \\n\\t >\\n\\t<h3 id=\"p-namespaces-label\" aria-label=\"\" class=\"vector-menu-heading\">\\n\\t\\t<span class=\"vector-menu-heading-label\">Namespaces</span>\\n\\t</h3>\\n\\t<div class=\"vector-menu-content\">\\n\\t\\t\\n\\t\\t<ul class=\"vector-menu-content-list\"><li id=\"ca-nstab-main\" class=\"selected mw-list-item\"><a href=\"/wiki/Catatos\" title=\"View the content page [c]\" accesskey=\"c\"><span>Article</span></a></li><li id=\"ca-talk\" class=\"mw-list-item\"><a href=\"/wiki/Talk:Catatos\" rel=\"discussion\" title=\"Discuss improvements to the content page [t]\" accesskey=\"t\"><span>Talk</span></a></li></ul>\\n\\t\\t\\n\\t</div>\\n</nav>\\n\\n\\t\\t\\t\\n<nav id=\"p-variants\" class=\"mw-portlet mw-portlet-variants emptyPortlet vector-menu-dropdown-noicon vector-menu vector-menu-dropdown\" aria-labelledby=\"p-variants-label\" role=\"navigation\" \\n\\t >\\n\\t<input type=\"checkbox\"\\n\\t\\tid=\"p-variants-checkbox\"\\n\\t\\trole=\"button\"\\n\\t\\taria-haspopup=\"true\"\\n\\t\\tdata-event-name=\"ui.dropdown-p-variants\"\\n\\t\\tclass=\"vector-menu-checkbox\" aria-labelledby=\"p-variants-label\" />\\n\\t<h3 id=\"p-variants-label\" aria-label=\"Change language variant\" class=\"vector-menu-heading\">\\n\\t\\t<span class=\"vector-menu-heading-label\">English</span>\\n\\t\\t\\t<span class=\"vector-menu-checkbox-expanded\">expanded</span>\\n\\t\\t\\t<span class=\"vector-menu-checkbox-collapsed\">collapsed</span>\\n\\t</h3>\\n\\t<div class=\"vector-menu-content\">\\n\\t\\t\\n\\t\\t<ul class=\"vector-menu-content-list\"></ul>\\n\\t\\t\\n\\t</div>\\n</nav>\\n\\n\\t\\t</div>\\n\\t\\t<div id=\"right-navigation\">\\n\\t\\t\\t\\n<nav id=\"p-views\" class=\"mw-portlet mw-portlet-views vector-menu vector-menu-tabs\" aria-labelledby=\"p-views-label\" role=\"navigation\" \\n\\t >\\n\\t<h3 id=\"p-views-label\" aria-label=\"\" class=\"vector-menu-heading\">\\n\\t\\t<span class=\"vector-menu-heading-label\">Views</span>\\n\\t</h3>\\n\\t<div class=\"vector-menu-content\">\\n\\t\\t\\n\\t\\t<ul class=\"vector-menu-content-list\"><li id=\"ca-view\" class=\"selected mw-list-item\"><a href=\"/wiki/Catatos\"><span>Read</span></a></li><li id=\"ca-edit\" class=\"mw-list-item\"><a href=\"/w/index.php?title=Catatos&amp;action=edit\" title=\"Edit this page [e]\" accesskey=\"e\"><span>Edit</span></a></li><li id=\"ca-history\" class=\"mw-list-item\"><a href=\"/w/index.php?title=Catatos&amp;action=history\" title=\"Past revisions of this page [h]\" accesskey=\"h\"><span>View history</span></a></li></ul>\\n\\t\\t\\n\\t</div>\\n</nav>\\n\\n\\t\\t\\t\\n<nav id=\"p-cactions\" class=\"mw-portlet mw-portlet-cactions emptyPortlet vector-menu-dropdown-noicon vector-menu vector-menu-dropdown\" aria-labelledby=\"p-cactions-label\" role=\"navigation\"  title=\"More options\"\\n\\t >\\n\\t<input type=\"checkbox\"\\n\\t\\tid=\"p-cactions-checkbox\"\\n\\t\\trole=\"button\"\\n\\t\\taria-haspopup=\"true\"\\n\\t\\tdata-event-name=\"ui.dropdown-p-cactions\"\\n\\t\\tclass=\"vector-menu-checkbox\" aria-labelledby=\"p-cactions-label\" />\\n\\t<h3 id=\"p-cactions-label\" aria-label=\"\" class=\"vector-menu-heading\">\\n\\t\\t<span class=\"vector-menu-heading-label\">More</span>\\n\\t\\t\\t<span class=\"vector-menu-checkbox-expanded\">expanded</span>\\n\\t\\t\\t<span class=\"vector-menu-checkbox-collapsed\">collapsed</span>\\n\\t</h3>\\n\\t<div class=\"vector-menu-content\">\\n\\t\\t\\n\\t\\t<ul class=\"vector-menu-content-list\"></ul>\\n\\t\\t\\n\\t</div>\\n</nav>\\n\\n\\t\\t\\t\\n<div id=\"p-search\" role=\"search\" class=\"vector-search-box-vue  vector-search-box-show-thumbnail vector-search-box-auto-expand-width vector-search-box\">\\n\\t<div>\\n\\t\\t\\t<h3 >\\n\\t\\t\\t\\t<label for=\"searchInput\">Search</label>\\n\\t\\t\\t</h3>\\n\\t\\t<form action=\"/w/index.php\" id=\"searchform\"\\n\\t\\t\\tclass=\"vector-search-box-form\">\\n\\t\\t\\t<div id=\"simpleSearch\"\\n\\t\\t\\t\\tclass=\"vector-search-box-inner\"\\n\\t\\t\\t\\t data-search-loc=\"header-navigation\">\\n\\t\\t\\t\\t<input class=\"vector-search-box-input\"\\n\\t\\t\\t\\t\\t type=\"search\" name=\"search\" placeholder=\"Search Wikipedia\" aria-label=\"Search Wikipedia\" autocapitalize=\"sentences\" title=\"Search Wikipedia [f]\" accesskey=\"f\" id=\"searchInput\"\\n\\t\\t\\t\\t/>\\n\\t\\t\\t\\t<input type=\"hidden\" name=\"title\" value=\"Special:Search\"/>\\n\\t\\t\\t\\t<input id=\"mw-searchButton\"\\n\\t\\t\\t\\t\\t class=\"searchButton mw-fallbackSearchButton\" type=\"submit\" name=\"fulltext\" title=\"Search Wikipedia for this text\" value=\"Search\" />\\n\\t\\t\\t\\t<input id=\"searchButton\"\\n\\t\\t\\t\\t\\t class=\"searchButton\" type=\"submit\" name=\"go\" title=\"Go to a page with this exact name if it exists\" value=\"Go\" />\\n\\t\\t\\t</div>\\n\\t\\t</form>\\n\\t</div>\\n</div>\\n\\n\\t\\t</div>\\n\\t</div>\\n\\t\\n\\n<div id=\"mw-panel\">\\n\\t<div id=\"p-logo\" role=\"banner\">\\n\\t\\t<a class=\"mw-wiki-logo\" href=\"/wiki/Main_Page\"\\n\\t\\t\\ttitle=\"Visit the main page\"></a>\\n\\t</div>\\n\\t\\n<nav id=\"p-navigation\" class=\"mw-portlet mw-portlet-navigation vector-menu vector-menu-portal portal\" aria-labelledby=\"p-navigation-label\" role=\"navigation\" \\n\\t >\\n\\t<h3 id=\"p-navigation-label\" aria-label=\"\" class=\"vector-menu-heading\">\\n\\t\\t<span class=\"vector-menu-heading-label\">Navigation</span>\\n\\t</h3>\\n\\t<div class=\"vector-menu-content\">\\n\\t\\t\\n\\t\\t<ul class=\"vector-menu-content-list\"><li id=\"n-mainpage-description\" class=\"mw-list-item\"><a href=\"/wiki/Main_Page\" icon=\"home\" title=\"Visit the main page [z]\" accesskey=\"z\"><span>Main page</span></a></li><li id=\"n-contents\" class=\"mw-list-item\"><a href=\"/wiki/Wikipedia:Contents\" title=\"Guides to browsing Wikipedia\"><span>Contents</span></a></li><li id=\"n-currentevents\" class=\"mw-list-item\"><a href=\"/wiki/Portal:Current_events\" title=\"Articles related to current events\"><span>Current events</span></a></li><li id=\"n-randompage\" class=\"mw-list-item\"><a href=\"/wiki/Special:Random\" icon=\"die\" title=\"Visit a randomly selected article [x]\" accesskey=\"x\"><span>Random article</span></a></li><li id=\"n-aboutsite\" class=\"mw-list-item\"><a href=\"/wiki/Wikipedia:About\" title=\"Learn about Wikipedia and how it works\"><span>About Wikipedia</span></a></li><li id=\"n-contactpage\" class=\"mw-list-item\"><a href=\"//en.wikipedia.org/wiki/Wikipedia:Contact_us\" title=\"How to contact Wikipedia\"><span>Contact us</span></a></li><li id=\"n-sitesupport\" class=\"mw-list-item\"><a href=\"https://donate.wikimedia.org/wiki/Special:FundraiserRedirector?utm_source=donate&amp;utm_medium=sidebar&amp;utm_campaign=C13_en.wikipedia.org&amp;uselang=en\" title=\"Support us by donating to the Wikimedia Foundation\"><span>Donate</span></a></li></ul>\\n\\t\\t\\n\\t</div>\\n</nav>\\n\\n\\t\\n<nav id=\"p-interaction\" class=\"mw-portlet mw-portlet-interaction vector-menu vector-menu-portal portal\" aria-labelledby=\"p-interaction-label\" role=\"navigation\" \\n\\t >\\n\\t<h3 id=\"p-interaction-label\" aria-label=\"\" class=\"vector-menu-heading\">\\n\\t\\t<span class=\"vector-menu-heading-label\">Contribute</span>\\n\\t</h3>\\n\\t<div class=\"vector-menu-content\">\\n\\t\\t\\n\\t\\t<ul class=\"vector-menu-content-list\"><li id=\"n-help\" class=\"mw-list-item\"><a href=\"/wiki/Help:Contents\" icon=\"help\" title=\"Guidance on how to use and edit Wikipedia\"><span>Help</span></a></li><li id=\"n-introduction\" class=\"mw-list-item\"><a href=\"/wiki/Help:Introduction\" title=\"Learn how to edit Wikipedia\"><span>Learn to edit</span></a></li><li id=\"n-portal\" class=\"mw-list-item\"><a href=\"/wiki/Wikipedia:Community_portal\" title=\"The hub for editors\"><span>Community portal</span></a></li><li id=\"n-recentchanges\" class=\"mw-list-item\"><a href=\"/wiki/Special:RecentChanges\" icon=\"recentChanges\" title=\"A list of recent changes to Wikipedia [r]\" accesskey=\"r\"><span>Recent changes</span></a></li><li id=\"n-upload\" class=\"mw-list-item\"><a href=\"/wiki/Wikipedia:File_Upload_Wizard\" title=\"Add images or other media for use on Wikipedia\"><span>Upload file</span></a></li></ul>\\n\\t\\t\\n\\t</div>\\n</nav>\\n\\n<nav id=\"p-tb\" class=\"mw-portlet mw-portlet-tb vector-menu vector-menu-portal portal\" aria-labelledby=\"p-tb-label\" role=\"navigation\" \\n\\t >\\n\\t<h3 id=\"p-tb-label\" aria-label=\"\" class=\"vector-menu-heading\">\\n\\t\\t<span class=\"vector-menu-heading-label\">Tools</span>\\n\\t</h3>\\n\\t<div class=\"vector-menu-content\">\\n\\t\\t\\n\\t\\t<ul class=\"vector-menu-content-list\"><li id=\"t-whatlinkshere\" class=\"mw-list-item\"><a href=\"/wiki/Special:WhatLinksHere/Catatos\" title=\"List of all English Wikipedia pages containing links to this page [j]\" accesskey=\"j\"><span>What links here</span></a></li><li id=\"t-recentchangeslinked\" class=\"mw-list-item\"><a href=\"/wiki/Special:RecentChangesLinked/Catatos\" rel=\"nofollow\" title=\"Recent changes in pages linked from this page [k]\" accesskey=\"k\"><span>Related changes</span></a></li><li id=\"t-upload\" class=\"mw-list-item\"><a href=\"/wiki/Wikipedia:File_Upload_Wizard\" title=\"Upload files [u]\" accesskey=\"u\"><span>Upload file</span></a></li><li id=\"t-specialpages\" class=\"mw-list-item\"><a href=\"/wiki/Special:SpecialPages\" title=\"A list of all special pages [q]\" accesskey=\"q\"><span>Special pages</span></a></li><li id=\"t-permalink\" class=\"mw-list-item\"><a href=\"/w/index.php?title=Catatos&amp;oldid=1075293430\" title=\"Permanent link to this revision of this page\"><span>Permanent link</span></a></li><li id=\"t-info\" class=\"mw-list-item\"><a href=\"/w/index.php?title=Catatos&amp;action=info\" title=\"More information about this page\"><span>Page information</span></a></li><li id=\"t-cite\" class=\"mw-list-item\"><a href=\"/w/index.php?title=Special:CiteThisPage&amp;page=Catatos&amp;id=1075293430&amp;wpFormIdentifier=titleform\" title=\"Information on how to cite this page\"><span>Cite this page</span></a></li><li id=\"t-wikibase\" class=\"mw-list-item\"><a href=\"https://www.wikidata.org/wiki/Special:EntityPage/Q111084204\" title=\"Structured data on this page hosted by Wikidata [g]\" accesskey=\"g\"><span>Wikidata item</span></a></li></ul>\\n\\t\\t\\n\\t</div>\\n</nav>\\n\\n<nav id=\"p-coll-print_export\" class=\"mw-portlet mw-portlet-coll-print_export vector-menu vector-menu-portal portal\" aria-labelledby=\"p-coll-print_export-label\" role=\"navigation\" \\n\\t >\\n\\t<h3 id=\"p-coll-print_export-label\" aria-label=\"\" class=\"vector-menu-heading\">\\n\\t\\t<span class=\"vector-menu-heading-label\">Print/export</span>\\n\\t</h3>\\n\\t<div class=\"vector-menu-content\">\\n\\t\\t\\n\\t\\t<ul class=\"vector-menu-content-list\"><li id=\"coll-download-as-rl\" class=\"mw-list-item\"><a href=\"/w/index.php?title=Special:DownloadAsPdf&amp;page=Catatos&amp;action=show-download-screen\" title=\"Download this page as a PDF file\"><span>Download as PDF</span></a></li><li id=\"t-print\" class=\"mw-list-item\"><a href=\"/w/index.php?title=Catatos&amp;printable=yes\" title=\"Printable version of this page [p]\" accesskey=\"p\"><span>Printable version</span></a></li></ul>\\n\\t\\t\\n\\t</div>\\n</nav>\\n\\n\\t\\n<nav id=\"p-lang\" class=\"mw-portlet mw-portlet-lang vector-menu vector-menu-portal portal\" aria-labelledby=\"p-lang-label\" role=\"navigation\" \\n\\t >\\n\\t<h3 id=\"p-lang-label\" aria-label=\"\" class=\"vector-menu-heading\">\\n\\t\\t<span class=\"vector-menu-heading-label\">Languages</span>\\n\\t</h3>\\n\\t<div class=\"vector-menu-content\">\\n\\t\\t\\n\\t\\t<ul class=\"vector-menu-content-list\"><li class=\"interlanguage-link interwiki-pt mw-list-item\"><a href=\"https://pt.wikipedia.org/wiki/Catato\" title=\"Catato – Portuguese\" lang=\"pt\" hreflang=\"pt\" class=\"interlanguage-link-target\"><span>Português</span></a></li></ul>\\n\\t\\t<div class=\"after-portlet after-portlet-lang\"><span class=\"wb-langlinks-edit wb-langlinks-link\"><a href=\"https://www.wikidata.org/wiki/Special:EntityPage/Q111084204#sitelinks-wikipedia\" title=\"Edit interlanguage links\" class=\"wbc-editpage\">Edit links</a></span></div>\\n\\t</div>\\n</nav>\\n\\n</div>\\n\\n</div>\\n\\n<footer id=\"footer\" class=\"mw-footer\" role=\"contentinfo\" >\\n\\t<ul id=\"footer-info\">\\n\\t<li id=\"footer-info-lastmod\"> This page was last edited on 4 March 2022, at 23:33<span class=\"anonymous-show\">&#160;(UTC)</span>.</li>\\n\\t<li id=\"footer-info-copyright\">Text is available under the <a rel=\"license\" href=\"//en.wikipedia.org/wiki/Wikipedia:Text_of_Creative_Commons_Attribution-ShareAlike_3.0_Unported_License\">Creative Commons Attribution-ShareAlike License 3.0</a><a rel=\"license\" href=\"//creativecommons.org/licenses/by-sa/3.0/\" style=\"display:none;\"></a>;\\nadditional terms may apply.  By using this site, you agree to the <a href=\"//foundation.wikimedia.org/wiki/Terms_of_Use\">Terms of Use</a> and <a href=\"//foundation.wikimedia.org/wiki/Privacy_policy\">Privacy Policy</a>. Wikipedia® is a registered trademark of the <a href=\"//www.wikimediafoundation.org/\">Wikimedia Foundation, Inc.</a>, a non-profit organization.</li>\\n</ul>\\n\\n\\t<ul id=\"footer-places\">\\n\\t<li id=\"footer-places-privacy\"><a href=\"https://foundation.wikimedia.org/wiki/Privacy_policy\" class=\"extiw\" title=\"wmf:Privacy policy\">Privacy policy</a></li>\\n\\t<li id=\"footer-places-about\"><a href=\"/wiki/Wikipedia:About\" title=\"Wikipedia:About\">About Wikipedia</a></li>\\n\\t<li id=\"footer-places-disclaimer\"><a href=\"/wiki/Wikipedia:General_disclaimer\" title=\"Wikipedia:General disclaimer\">Disclaimers</a></li>\\n\\t<li id=\"footer-places-contact\"><a href=\"//en.wikipedia.org/wiki/Wikipedia:Contact_us\">Contact Wikipedia</a></li>\\n\\t<li id=\"footer-places-mobileview\"><a href=\"//en.m.wikipedia.org/w/index.php?title=Catatos&amp;mobileaction=toggle_view_mobile\" class=\"noprint stopMobileRedirectToggle\">Mobile view</a></li>\\n\\t<li id=\"footer-places-developers\"><a href=\"https://www.mediawiki.org/wiki/Special:MyLanguage/How_to_contribute\">Developers</a></li>\\n\\t<li id=\"footer-places-statslink\"><a href=\"https://stats.wikimedia.org/#/en.wikipedia.org\">Statistics</a></li>\\n\\t<li id=\"footer-places-cookiestatement\"><a href=\"https://foundation.wikimedia.org/wiki/Cookie_statement\">Cookie statement</a></li>\\n</ul>\\n\\n\\t<ul id=\"footer-icons\" class=\"noprint\">\\n\\t<li id=\"footer-copyrightico\"><a href=\"https://wikimediafoundation.org/\"><img src=\"/static/images/footer/wikimedia-button.png\" srcset=\"/static/images/footer/wikimedia-button-1.5x.png 1.5x, /static/images/footer/wikimedia-button-2x.png 2x\" width=\"88\" height=\"31\" alt=\"Wikimedia Foundation\" loading=\"lazy\" /></a></li>\\n\\t<li id=\"footer-poweredbyico\"><a href=\"https://www.mediawiki.org/\"><img src=\"/static/images/footer/poweredby_mediawiki_88x31.png\" alt=\"Powered by MediaWiki\" srcset=\"/static/images/footer/poweredby_mediawiki_132x47.png 1.5x, /static/images/footer/poweredby_mediawiki_176x62.png 2x\" width=\"88\" height=\"31\" loading=\"lazy\"/></a></li>\\n</ul>\\n\\n</footer>\\n\\n<script>(RLQ=window.RLQ||[]).push(function(){mw.config.set({\"wgPageParseReport\":{\"limitreport\":{\"cputime\":\"0.304\",\"walltime\":\"0.351\",\"ppvisitednodes\":{\"value\":804,\"limit\":1000000},\"postexpandincludesize\":{\"value\":28076,\"limit\":2097152},\"templateargumentsize\":{\"value\":339,\"limit\":2097152},\"expansiondepth\":{\"value\":8,\"limit\":100},\"expensivefunctioncount\":{\"value\":0,\"limit\":500},\"unstrip-depth\":{\"value\":1,\"limit\":20},\"unstrip-size\":{\"value\":43166,\"limit\":5000000},\"entityaccesscount\":{\"value\":0,\"limit\":400},\"timingprofile\":[\"100.00%  301.834      1 -total\",\" 41.00%  123.740      3 Template:Cite_book\",\" 23.98%   72.386      1 Template:Short_description\",\" 22.31%   67.336      7 Template:Cite_journal\",\" 12.89%   38.909      1 Template:Pagetype\",\"  6.32%   19.080      2 Template:Main_other\",\"  5.32%   16.050      3 Template:Cite_web\",\"  5.30%   15.993      1 Template:SDcat\",\"  1.03%    3.097      1 Template:Short_description/lowercasecheck\"]},\"scribunto\":{\"limitreport-timeusage\":{\"value\":\"0.197\",\"limit\":\"10.000\"},\"limitreport-memusage\":{\"value\":5469313,\"limit\":52428800}},\"cachereport\":{\"origin\":\"mw1447\",\"timestamp\":\"20220304233355\",\"ttl\":1814400,\"transientcontent\":false}}});});</script>\\n<script type=\"application/ld+json\">{\"@context\":\"https:\\\\/\\\\/schema.org\",\"@type\":\"Article\",\"name\":\"Catatos\",\"url\":\"https:\\\\/\\\\/en.wikipedia.org\\\\/wiki\\\\/Catatos\",\"sameAs\":\"http:\\\\/\\\\/www.wikidata.org\\\\/entity\\\\/Q111084204\",\"mainEntity\":\"http:\\\\/\\\\/www.wikidata.org\\\\/entity\\\\/Q111084204\",\"author\":{\"@type\":\"Organization\",\"name\":\"Contributors to Wikimedia projects\"},\"publisher\":{\"@type\":\"Organization\",\"name\":\"Wikimedia Foundation, Inc.\",\"logo\":{\"@type\":\"ImageObject\",\"url\":\"https:\\\\/\\\\/www.wikimedia.org\\\\/static\\\\/images\\\\/wmf-hor-googpub.png\"}},\"datePublished\":\"2022-02-22T08:29:20Z\",\"dateModified\":\"2022-03-04T23:33:55Z\",\"image\":\"https:\\\\/\\\\/upload.wikimedia.org\\\\/wikipedia\\\\/commons\\\\/a\\\\/a9\\\\/Edible_insects_of_Northern_Angola_%2810.3897-afrinvertebr.58.21083%29_Figure_2.jpg\",\"headline\":\"Angolan fried caterpillar dish\"}</script>\\n<script>(RLQ=window.RLQ||[]).push(function(){mw.config.set({\"wgBackendResponseTime\":97,\"wgHostname\":\"mw1442\"});});</script>\\n</body>\\n</html>'"
      ]
     },
     "execution_count": 18,
     "metadata": {},
     "output_type": "execute_result"
    }
   ],
   "source": [
    "page.text"
   ]
  },
  {
   "cell_type": "code",
   "execution_count": 20,
   "metadata": {},
   "outputs": [],
   "source": [
    "page2 = requests.get('https://www.google.com/search?q=pandas&newwindow=1&sxsrf=APq-WBto3htT8_3i-BzDSHeAVLB8UM6kEQ%3A1646398680727&source=hp&ei=2AwiYqrJKYvP-Qb31L8g&iflsig=AHkkrS4AAAAAYiIa6EoCNGoDn5Jj7voz4eDzhlheo_YG&oq=&gs_lcp=Cgdnd3Mtd2l6EAEYADIHCCMQ6gIQJzIHCCMQ6gIQJzIHCCMQ6gIQJzIHCCMQ6gIQJzIHCCMQ6gIQJzIHCCMQ6gIQJzIHCCMQ6gIQJzIHCCMQ6gIQJzIHCCMQ6gIQJzIHCCMQ6gIQJ1AAWABgiA5oAXAAeACAAQCIAQCSAQCYAQCwAQo&sclient=gws-wiz')"
   ]
  },
  {
   "cell_type": "code",
   "execution_count": 21,
   "metadata": {},
   "outputs": [
    {
     "data": {
      "text/plain": [
       "<Response [200]>"
      ]
     },
     "execution_count": 21,
     "metadata": {},
     "output_type": "execute_result"
    }
   ],
   "source": [
    "page2"
   ]
  },
  {
   "cell_type": "code",
   "execution_count": 22,
   "metadata": {},
   "outputs": [],
   "source": [
    "import random"
   ]
  },
  {
   "cell_type": "code",
   "execution_count": null,
   "metadata": {},
   "outputs": [],
   "source": []
  }
 ],
 "metadata": {
  "interpreter": {
   "hash": "3c2a4be17033db99e330745b79299328aef13830ff12594a5e1dd606863de531"
  },
  "kernelspec": {
   "display_name": "Python 3.9.9 ('base')",
   "language": "python",
   "name": "python3"
  },
  "language_info": {
   "codemirror_mode": {
    "name": "ipython",
    "version": 3
   },
   "file_extension": ".py",
   "mimetype": "text/x-python",
   "name": "python",
   "nbconvert_exporter": "python",
   "pygments_lexer": "ipython3",
   "version": "3.9.9"
  },
  "orig_nbformat": 4
 },
 "nbformat": 4,
 "nbformat_minor": 2
}
