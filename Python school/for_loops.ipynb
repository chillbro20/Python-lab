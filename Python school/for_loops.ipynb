{
 "cells": [
  {
   "cell_type": "code",
   "execution_count": 6,
   "metadata": {},
   "outputs": [
    {
     "name": "stdout",
     "output_type": "stream",
     "text": [
      "Banana\n",
      "Mango\n",
      "Grapes\n",
      "Apple\n"
     ]
    }
   ],
   "source": [
    "fruites =['Banana', 'Mango','Grapes', 'Apple']\n",
    "for item in  fruites:\n",
    "    print(item)"
   ]
  },
  {
   "cell_type": "markdown",
   "metadata": {},
   "source": [
    "**RANGE FUNCTION**"
   ]
  },
  {
   "cell_type": "code",
   "execution_count": 9,
   "metadata": {},
   "outputs": [
    {
     "name": "stdout",
     "output_type": "stream",
     "text": [
      "0 1 2 3 4 5 6 7 8 9 "
     ]
    }
   ],
   "source": [
    "# i = [1,2,3,4,34,2,4,5]\n",
    "for i in range(10):\n",
    "    print("
   ]
  },
  {
   "cell_type": "code",
   "execution_count": 1,
   "metadata": {},
   "outputs": [
    {
     "name": "stdout",
     "output_type": "stream",
     "text": [
      "8\n"
     ]
    }
   ],
   "source": [
    "a=int(8.8)\n",
    "print(a)\n",
    "\n"
   ]
  },
  {
   "cell_type": "code",
   "execution_count": 12,
   "metadata": {},
   "outputs": [
    {
     "name": "stdout",
     "output_type": "stream",
     "text": [
      "9\n"
     ]
    },
    {
     "data": {
      "text/plain": [
       "2"
      ]
     },
     "execution_count": 12,
     "metadata": {},
     "output_type": "execute_result"
    }
   ],
   "source": [
    "a=float(input(\"enter the number\"))\n",
    "c=int(a)+.5\n",
    "if a>c :\n",
    "    print(int(a)+1)\n",
    "else:\n",
    "    print(int(a))\n",
    "round(2.4)"
   ]
  },
  {
   "cell_type": "code",
   "execution_count": 2,
   "metadata": {},
   "outputs": [
    {
     "name": "stdout",
     "output_type": "stream",
     "text": [
      "6\n"
     ]
    }
   ],
   "source": [
    "\n",
    "# Python3 program to find maximum product by breaking  \n",
    "# the Integer  \n",
    "    \n",
    "# method return x^a in log(a) time  \n",
    "def power(x, a):  \n",
    "   \n",
    "    res = 1;  \n",
    "    while (a): \n",
    "        if (a & 1):  \n",
    "            res = res * x;  \n",
    "        x = x * x;  \n",
    "        a >>= 1; \n",
    "          \n",
    "    return res;  \n",
    "    \n",
    "# Method returns maximum product obtained by  \n",
    "# breaking N  \n",
    "def breakInteger(N): \n",
    "    #  base case 2 = 1 + 1  \n",
    "    if (N == 2):  \n",
    "        return 1;  \n",
    "    \n",
    "    #  base case 3 = 2 + 1  \n",
    "    if (N == 3):  \n",
    "        return 2;  \n",
    "    \n",
    "    maxProduct=0;  \n",
    "    \n",
    "    #  breaking based on mod with 3  \n",
    "    if(N % 3==0):  \n",
    "        # If divides evenly, then break into all 3  \n",
    "        maxProduct = power(3, int(N/3));  \n",
    "        return maxProduct;  \n",
    "    elif(N%3==1): \n",
    "        # If division gives mod as 1, then break as  \n",
    "        # 4 + power of 3 for remaining part  \n",
    "        maxProduct = 2 * 2 * power(3, int(N/3) - 1);  \n",
    "        return maxProduct; \n",
    "    elif(N%3==2): \n",
    "        # If division gives mod as 2, then break as  \n",
    "        # 2 + power of 3 for remaining part \n",
    "        maxProduct = 2 * power(3, int(N/3)); \n",
    "        return maxProduct; \n",
    "       \n",
    "    \n",
    "#  Driver code to test above methods  \n",
    "  \n",
    "   \n",
    "maxProduct = breakInteger(5);  \n",
    "print(maxProduct);  \n",
    "      "
   ]
  },
  {
   "cell_type": "code",
   "execution_count": null,
   "metadata": {},
   "outputs": [],
   "source": []
  }
 ],
 "metadata": {
  "interpreter": {
   "hash": "3c2a4be17033db99e330745b79299328aef13830ff12594a5e1dd606863de531"
  },
  "kernelspec": {
   "display_name": "Python 3.9.9 ('base')",
   "language": "python",
   "name": "python3"
  },
  "language_info": {
   "codemirror_mode": {
    "name": "ipython",
    "version": 3
   },
   "file_extension": ".py",
   "mimetype": "text/x-python",
   "name": "python",
   "nbconvert_exporter": "python",
   "pygments_lexer": "ipython3",
   "version": "3.9.9"
  },
  "orig_nbformat": 4
 },
 "nbformat": 4,
 "nbformat_minor": 2
}
