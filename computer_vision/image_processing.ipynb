{
 "cells": [
  {
   "cell_type": "markdown",
   "metadata": {},
   "source": [
    "# install the library\n",
    "``` cmd\n",
    "pip install opencv-contrib-python pillow\n",
    "```"
   ]
  },
  {
   "cell_type": "markdown",
   "metadata": {},
   "source": [
    "- load the image\n",
    "- view the details\n",
    "- convert to grayscale(b/w)\n",
    "- convert to rgb\n",
    "- resize\n",
    "- rotate\n",
    "- save\n",
    "- merge\n",
    "- crop\n",
    "- blur"
   ]
  },
  {
   "cell_type": "code",
   "execution_count": 1,
   "metadata": {},
   "outputs": [],
   "source": [
    "import cv2"
   ]
  },
  {
   "cell_type": "code",
   "execution_count": 2,
   "metadata": {},
   "outputs": [
    {
     "data": {
      "text/plain": [
       "array([[[112,  51,  95],\n",
       "        [ 85,  41,  72],\n",
       "        [ 63,  48,  52],\n",
       "        ...,\n",
       "        [210,  37, 141],\n",
       "        [150,  50, 110],\n",
       "        [ 92,  29,  68]],\n",
       "\n",
       "       [[ 72,  14,  55],\n",
       "        [ 47,   3,  32],\n",
       "        [ 36,  18,  25],\n",
       "        ...,\n",
       "        [179,  24, 121],\n",
       "        [109,  22,  78],\n",
       "        [ 69,  15,  50]],\n",
       "\n",
       "       [[ 65,  15,  49],\n",
       "        [ 43,   2,  29],\n",
       "        [ 42,  18,  30],\n",
       "        ...,\n",
       "        [138,  18,  99],\n",
       "        [ 68,   6,  54],\n",
       "        [ 48,  14,  44]],\n",
       "\n",
       "       ...,\n",
       "\n",
       "       [[ 22,   8,  19],\n",
       "        [ 17,  10,  15],\n",
       "        [ 13,  14,  12],\n",
       "        ...,\n",
       "        [103,   3,  55],\n",
       "        [ 60,   5,  32],\n",
       "        [ 41,   8,  23]],\n",
       "\n",
       "       [[ 19,  12,  17],\n",
       "        [ 16,  11,  13],\n",
       "        [ 12,  12,  12],\n",
       "        ...,\n",
       "        [130,   6,  66],\n",
       "        [ 80,   4,  45],\n",
       "        [ 54,   2,  32]],\n",
       "\n",
       "       [[ 16,  17,  15],\n",
       "        [ 12,  12,  12],\n",
       "        [  9,   8,  10],\n",
       "        ...,\n",
       "        [149,   8,  75],\n",
       "        [ 98,   5,  56],\n",
       "        [ 69,   0,  41]]], dtype=uint8)"
      ]
     },
     "execution_count": 2,
     "metadata": {},
     "output_type": "execute_result"
    }
   ],
   "source": [
    "cv2.imread('ppt5.jpg')"
   ]
  },
  {
   "cell_type": "code",
   "execution_count": 3,
   "metadata": {},
   "outputs": [
    {
     "name": "stdout",
     "output_type": "stream",
     "text": [
      "[[[112  51  95]\n",
      "  [ 85  41  72]\n",
      "  [ 63  48  52]\n",
      "  ...\n",
      "  [210  37 141]\n",
      "  [150  50 110]\n",
      "  [ 92  29  68]]\n",
      "\n",
      " [[ 72  14  55]\n",
      "  [ 47   3  32]\n",
      "  [ 36  18  25]\n",
      "  ...\n",
      "  [179  24 121]\n",
      "  [109  22  78]\n",
      "  [ 69  15  50]]\n",
      "\n",
      " [[ 65  15  49]\n",
      "  [ 43   2  29]\n",
      "  [ 42  18  30]\n",
      "  ...\n",
      "  [138  18  99]\n",
      "  [ 68   6  54]\n",
      "  [ 48  14  44]]\n",
      "\n",
      " ...\n",
      "\n",
      " [[ 22   8  19]\n",
      "  [ 17  10  15]\n",
      "  [ 13  14  12]\n",
      "  ...\n",
      "  [103   3  55]\n",
      "  [ 60   5  32]\n",
      "  [ 41   8  23]]\n",
      "\n",
      " [[ 19  12  17]\n",
      "  [ 16  11  13]\n",
      "  [ 12  12  12]\n",
      "  ...\n",
      "  [130   6  66]\n",
      "  [ 80   4  45]\n",
      "  [ 54   2  32]]\n",
      "\n",
      " [[ 16  17  15]\n",
      "  [ 12  12  12]\n",
      "  [  9   8  10]\n",
      "  ...\n",
      "  [149   8  75]\n",
      "  [ 98   5  56]\n",
      "  [ 69   0  41]]]\n"
     ]
    }
   ],
   "source": [
    "im1 = cv2.imread('ppt5.jpg')\n",
    "print(im1)"
   ]
  },
  {
   "cell_type": "code",
   "execution_count": 4,
   "metadata": {},
   "outputs": [],
   "source": [
    "cv2.imshow('image window',im1)\n",
    "cv2.waitKey(0)\n",
    "cv2.destroyAllWindows()"
   ]
  },
  {
   "cell_type": "code",
   "execution_count": 5,
   "metadata": {},
   "outputs": [
    {
     "data": {
      "text/plain": [
       "(4565, 3652, 3)"
      ]
     },
     "execution_count": 5,
     "metadata": {},
     "output_type": "execute_result"
    }
   ],
   "source": [
    "im2 = cv2.imread('pic2.png')\n",
    "im2.shape"
   ]
  },
  {
   "cell_type": "code",
   "execution_count": 6,
   "metadata": {},
   "outputs": [
    {
     "data": {
      "text/plain": [
       "array([[[27, 27, 26],\n",
       "        [29, 29, 28],\n",
       "        [30, 31, 30],\n",
       "        ...,\n",
       "        [10, 11, 12],\n",
       "        [10, 11, 12],\n",
       "        [10, 11, 12]],\n",
       "\n",
       "       [[27, 27, 26],\n",
       "        [29, 29, 28],\n",
       "        [30, 31, 30],\n",
       "        ...,\n",
       "        [10, 11, 12],\n",
       "        [10, 11, 12],\n",
       "        [10, 11, 12]],\n",
       "\n",
       "       [[27, 28, 27],\n",
       "        [28, 29, 28],\n",
       "        [28, 29, 28],\n",
       "        ...,\n",
       "        [10, 11, 12],\n",
       "        [10, 11, 12],\n",
       "        [10, 11, 12]],\n",
       "\n",
       "       ...,\n",
       "\n",
       "       [[28, 26, 11],\n",
       "        [28, 26, 11],\n",
       "        [29, 27, 12],\n",
       "        ...,\n",
       "        [60, 60, 59],\n",
       "        [60, 60, 59],\n",
       "        [60, 60, 59]],\n",
       "\n",
       "       [[28, 26, 11],\n",
       "        [28, 26, 11],\n",
       "        [29, 27, 12],\n",
       "        ...,\n",
       "        [61, 61, 61],\n",
       "        [61, 61, 61],\n",
       "        [61, 61, 61]],\n",
       "\n",
       "       [[28, 26, 11],\n",
       "        [28, 26, 11],\n",
       "        [29, 27, 12],\n",
       "        ...,\n",
       "        [61, 61, 61],\n",
       "        [61, 61, 61],\n",
       "        [61, 61, 61]]], dtype=uint8)"
      ]
     },
     "execution_count": 6,
     "metadata": {},
     "output_type": "execute_result"
    }
   ],
   "source": [
    "cv2.cvtColor(im2,cv2.COLOR_BGR2XYZ)"
   ]
  },
  {
   "cell_type": "code",
   "execution_count": 7,
   "metadata": {},
   "outputs": [],
   "source": [
    "gray_im2 = cv2.cvtColor(im2,cv2.COLOR_BGR2XYZ)\n",
    "cv2.imshow(\"gray\",gray_im2)\n",
    "cv2.waitKey(0)\n",
    "cv2.destroyAllWindows()"
   ]
  },
  {
   "cell_type": "code",
   "execution_count": 8,
   "metadata": {},
   "outputs": [],
   "source": [
    "gray_im1 = cv2.cvtColor(im1,cv2.COLOR_BGR2XYZ)\n",
    "cv2.imshow(\"gray\",gray_im1)\n",
    "cv2.waitKey(0)\n",
    "cv2.destroyAllWindows()"
   ]
  },
  {
   "cell_type": "code",
   "execution_count": 9,
   "metadata": {},
   "outputs": [],
   "source": [
    "halved_im1 = cv2.resize(im1,(0,0),fx=0.5, fy=0.5)\n",
    "cv2.imshow(\"halved\", halved_im1)\n",
    "cv2.waitKey(0)\n",
    "cv2.destroyAllWindows()"
   ]
  },
  {
   "cell_type": "code",
   "execution_count": 10,
   "metadata": {},
   "outputs": [],
   "source": [
    "halved_im2 = cv2.resize(im2,(0,0),fx=0.2, fy=0.1)\n",
    "cv2.imshow(\"halved\", halved_im2)\n",
    "cv2.waitKey(0)\n",
    "cv2.destroyAllWindows()"
   ]
  },
  {
   "cell_type": "code",
   "execution_count": 11,
   "metadata": {},
   "outputs": [
    {
     "data": {
      "text/plain": [
       "(200, 200, 3)"
      ]
     },
     "execution_count": 11,
     "metadata": {},
     "output_type": "execute_result"
    }
   ],
   "source": [
    "cv2.resize(im2,(200,200)).shape"
   ]
  },
  {
   "cell_type": "markdown",
   "metadata": {},
   "source": [
    "- VideoCapture"
   ]
  },
  {
   "cell_type": "code",
   "execution_count": 12,
   "metadata": {},
   "outputs": [],
   "source": [
    "cam = cv2.VideoCapture(0)\n",
    "while True:\n",
    "    staus,frame = cam.read()\n",
    "    cv2.imshow('frame',frame)\n",
    "    if cv2.waitKey(1) == 27:\n",
    "        break\n",
    "cam.release()\n",
    "cv2.destroyAllWindows()\n",
    "\n",
    "\n",
    "\n",
    "\n"
   ]
  },
  {
   "cell_type": "markdown",
   "metadata": {},
   "source": [
    "- Video Play \n",
    "    - Link---> https://docs.opencv.org/4.x/d6/d00/tutorial_py_root.html"
   ]
  },
  {
   "cell_type": "code",
   "execution_count": null,
   "metadata": {},
   "outputs": [],
   "source": [
    "cam = cv2.VideoCapture(r\"E:\\Amna Save\\VID_20201211_122312668.mp4\")\n",
    "while True:\n",
    "    status, frame = cam.read()\n",
    "    if not status:\n",
    "        break\n",
    "    cv2.imshow('frame', frame)\n",
    "    if cv2.waitKey(1) == 27:\n",
    "        break\n",
    "cam.release()\n",
    "cv2.destroyAllWindows()"
   ]
  }
 ],
 "metadata": {
  "interpreter": {
   "hash": "3c2a4be17033db99e330745b79299328aef13830ff12594a5e1dd606863de531"
  },
  "kernelspec": {
   "display_name": "Python 3.9.9 ('base')",
   "language": "python",
   "name": "python3"
  },
  "language_info": {
   "codemirror_mode": {
    "name": "ipython",
    "version": 3
   },
   "file_extension": ".py",
   "mimetype": "text/x-python",
   "name": "python",
   "nbconvert_exporter": "python",
   "pygments_lexer": "ipython3",
   "version": "3.9.9"
  },
  "orig_nbformat": 4
 },
 "nbformat": 4,
 "nbformat_minor": 2
}
