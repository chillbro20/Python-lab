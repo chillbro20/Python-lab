{
 "cells": [
  {
   "cell_type": "markdown",
   "metadata": {},
   "source": [
    "# install the library\n",
    "``` cmd\n",
    "pip install opencv-contrib-python pillow\n",
    "```"
   ]
  },
  {
   "cell_type": "markdown",
   "metadata": {},
   "source": [
    "- load the image\n",
    "- view the details\n",
    "- convert to grayscale(b/w)\n",
    "- convert to rgb\n",
    "- resize\n",
    "- rotate\n",
    "- save\n",
    "- merge\n",
    "- crop\n",
    "- blur"
   ]
  },
  {
   "cell_type": "code",
   "execution_count": 2,
   "metadata": {},
   "outputs": [],
   "source": [
    "import cv2"
   ]
  },
  {
   "cell_type": "code",
   "execution_count": null,
   "metadata": {},
   "outputs": [],
   "source": [
    "cv2.imread('ppt5.jpg')"
   ]
  },
  {
   "cell_type": "code",
   "execution_count": null,
   "metadata": {},
   "outputs": [],
   "source": [
    "im1 = cv2.imread('ppt5.jpg')\n",
    "print(im1)"
   ]
  },
  {
   "cell_type": "code",
   "execution_count": 13,
   "metadata": {},
   "outputs": [],
   "source": [
    "cv2.imshow('image window',im1)\n",
    "cv2.waitKey(0)\n",
    "cv2.destroyAllWindows()"
   ]
  },
  {
   "cell_type": "code",
   "execution_count": 6,
   "metadata": {},
   "outputs": [
    {
     "data": {
      "text/plain": [
       "(4565, 3652, 3)"
      ]
     },
     "execution_count": 6,
     "metadata": {},
     "output_type": "execute_result"
    }
   ],
   "source": [
    "im2 = cv2.imread('pic2.png')\n",
    "im2.shape"
   ]
  },
  {
   "cell_type": "code",
   "execution_count": null,
   "metadata": {},
   "outputs": [],
   "source": [
    "cv2.cvtColor(im2,cv2.COLOR_BGR2XYZ)"
   ]
  },
  {
   "cell_type": "code",
   "execution_count": 14,
   "metadata": {},
   "outputs": [],
   "source": [
    "gray_im2 = cv2.cvtColor(im2,cv2.COLOR_BGR2XYZ)\n",
    "cv2.imshow(\"gray\",gray_im2)\n",
    "cv2.waitKey(0)\n",
    "cv2.destroyAllWindows()"
   ]
  },
  {
   "cell_type": "code",
   "execution_count": 15,
   "metadata": {},
   "outputs": [],
   "source": [
    "gray_im1 = cv2.cvtColor(im1,cv2.COLOR_BGR2XYZ)\n",
    "cv2.imshow(\"gray\",gray_im1)\n",
    "cv2.waitKey(0)\n",
    "cv2.destroyAllWindows()"
   ]
  },
  {
   "cell_type": "code",
   "execution_count": 17,
   "metadata": {},
   "outputs": [],
   "source": [
    "halved_im1 = cv2.resize(im1,(0,0),fx=0.5, fy=0.5)\n",
    "cv2.imshow(\"halved\", halved_im1)\n",
    "cv2.waitKey(0)\n",
    "cv2.destroyAllWindows()"
   ]
  },
  {
   "cell_type": "code",
   "execution_count": 26,
   "metadata": {},
   "outputs": [],
   "source": [
    "halved_im2 = cv2.resize(im2,(0,0),fx=0.2, fy=0.1)\n",
    "cv2.imshow(\"halved\", halved_im2)\n",
    "cv2.waitKey(0)\n",
    "cv2.destroyAllWindows()"
   ]
  },
  {
   "cell_type": "code",
   "execution_count": 27,
   "metadata": {},
   "outputs": [
    {
     "data": {
      "text/plain": [
       "(200, 200, 3)"
      ]
     },
     "execution_count": 27,
     "metadata": {},
     "output_type": "execute_result"
    }
   ],
   "source": [
    "cv2.resize(im2,(200,200)).shape"
   ]
  },
  {
   "cell_type": "code",
   "execution_count": 28,
   "metadata": {},
   "outputs": [
    {
     "ename": "AttributeError",
     "evalue": "module 'cv2' has no attribute 'waitkey'",
     "output_type": "error",
     "traceback": [
      "\u001b[1;31m---------------------------------------------------------------------------\u001b[0m",
      "\u001b[1;31mAttributeError\u001b[0m                            Traceback (most recent call last)",
      "\u001b[1;32md:\\Python lab\\computer_vision\\image_processing.ipynb Cell 14'\u001b[0m in \u001b[0;36m<module>\u001b[1;34m\u001b[0m\n\u001b[0;32m      <a href='vscode-notebook-cell:/d%3A/Python%20lab/computer_vision/image_processing.ipynb#ch0000013?line=2'>3</a>\u001b[0m staus,frame \u001b[39m=\u001b[39m cam\u001b[39m.\u001b[39mread()\n\u001b[0;32m      <a href='vscode-notebook-cell:/d%3A/Python%20lab/computer_vision/image_processing.ipynb#ch0000013?line=3'>4</a>\u001b[0m cv2\u001b[39m.\u001b[39mimshow(\u001b[39m'\u001b[39m\u001b[39mframe\u001b[39m\u001b[39m'\u001b[39m,frame)\n\u001b[1;32m----> <a href='vscode-notebook-cell:/d%3A/Python%20lab/computer_vision/image_processing.ipynb#ch0000013?line=4'>5</a>\u001b[0m \u001b[39mif\u001b[39;00m cv2\u001b[39m.\u001b[39;49mwaitkey(\u001b[39m1\u001b[39m) \u001b[39m==\u001b[39m \u001b[39m27\u001b[39m:\n\u001b[0;32m      <a href='vscode-notebook-cell:/d%3A/Python%20lab/computer_vision/image_processing.ipynb#ch0000013?line=5'>6</a>\u001b[0m     \u001b[39mbreak\u001b[39;00m\n\u001b[0;32m      <a href='vscode-notebook-cell:/d%3A/Python%20lab/computer_vision/image_processing.ipynb#ch0000013?line=6'>7</a>\u001b[0m cam\u001b[39m.\u001b[39mrelease()\n",
      "\u001b[1;31mAttributeError\u001b[0m: module 'cv2' has no attribute 'waitkey'"
     ]
    }
   ],
   "source": [
    "cam = cv2.VideoCapture(0)\n",
    "while True:\n",
    "    staus,frame = cam.read()\n",
    "    cv2.imshow('frame',frame)\n",
    "    if cv2.waitkey(1) == 27:\n",
    "        break\n",
    "    cam.release()\n",
    "    cv2.destroyAllWindows()\n"
   ]
  },
  {
   "cell_type": "code",
   "execution_count": null,
   "metadata": {},
   "outputs": [],
   "source": []
  }
 ],
 "metadata": {
  "interpreter": {
   "hash": "3c2a4be17033db99e330745b79299328aef13830ff12594a5e1dd606863de531"
  },
  "kernelspec": {
   "display_name": "Python 3.9.9 ('base')",
   "language": "python",
   "name": "python3"
  },
  "language_info": {
   "codemirror_mode": {
    "name": "ipython",
    "version": 3
   },
   "file_extension": ".py",
   "mimetype": "text/x-python",
   "name": "python",
   "nbconvert_exporter": "python",
   "pygments_lexer": "ipython3",
   "version": "3.9.9"
  },
  "orig_nbformat": 4
 },
 "nbformat": 4,
 "nbformat_minor": 2
}
