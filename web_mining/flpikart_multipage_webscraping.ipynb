{
 "cells": [
  {
   "cell_type": "code",
   "execution_count": 1,
   "metadata": {},
   "outputs": [],
   "source": [
    "import requests\n",
    "import pandas as pd\n",
    "from bs4 import BeautifulSoup"
   ]
  },
  {
   "cell_type": "code",
   "execution_count": 2,
   "metadata": {},
   "outputs": [],
   "source": [
    "query = 'bag'\n",
    "page = 1\n",
    "datalist = [] # empty"
   ]
  },
  {
   "cell_type": "code",
   "execution_count": 3,
   "metadata": {},
   "outputs": [],
   "source": [
    "\n",
    "link = f'https://www.flipkart.com/search?q={query}&page={page}'"
   ]
  },
  {
   "cell_type": "code",
   "execution_count": 5,
   "metadata": {},
   "outputs": [],
   "source": [
    "def getpage(link):\n",
    "    try:\n",
    "        page = requests.get(link)\n",
    "        print('data loaded')\n",
    "        return BeautifulSoup(page.text,'lxml')\n",
    "    except Exception as error:\n",
    "        print('Error',error)"
   ]
  },
  {
   "cell_type": "code",
   "execution_count": 6,
   "metadata": {},
   "outputs": [],
   "source": [
    "def extract(pagedata):\n",
    "    cards =  soup.find_all('div',{'class':'_1xHGtK _373qXS'})\n",
    "    size = len(cards)\n",
    "    if size > 0: # if products are found\n",
    "        for pr in cards: # pr is single product\n",
    "            name = pr.find('a',{'class':'s1Q9rs'}).text\n",
    "            price = pr.find('div',{'class':'_30jeq3'}).text[1:] # start from 2 char\n",
    "            try: \n",
    "                rating = pr.find('div',{'class':'_3LWZlK'}).text\n",
    "            except:\n",
    "                rating = 0\n",
    "            datalist.append({\n",
    "                'name':name,\n",
    "                'price':price,\n",
    "                'rating':rating\n",
    "            })\n",
    "        return True\n",
    "    else:\n",
    "        print('no product found')\n",
    "        return False"
   ]
  },
  {
   "cell_type": "code",
   "execution_count": null,
   "metadata": {},
   "outputs": [],
   "source": []
  }
 ],
 "metadata": {
  "interpreter": {
   "hash": "3c2a4be17033db99e330745b79299328aef13830ff12594a5e1dd606863de531"
  },
  "kernelspec": {
   "display_name": "Python 3.9.9 ('base')",
   "language": "python",
   "name": "python3"
  },
  "language_info": {
   "codemirror_mode": {
    "name": "ipython",
    "version": 3
   },
   "file_extension": ".py",
   "mimetype": "text/x-python",
   "name": "python",
   "nbconvert_exporter": "python",
   "pygments_lexer": "ipython3",
   "version": "3.9.9"
  },
  "orig_nbformat": 4
 },
 "nbformat": 4,
 "nbformat_minor": 2
}
