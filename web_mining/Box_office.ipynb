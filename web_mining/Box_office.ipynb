{
 "cells": [
  {
   "cell_type": "code",
   "execution_count": 5,
   "metadata": {},
   "outputs": [],
   "source": [
    "import requests\n",
    "from bs4 import BeautifulSoup\n",
    "import pandas as pd"
   ]
  },
  {
   "cell_type": "code",
   "execution_count": 6,
   "metadata": {},
   "outputs": [
    {
     "name": "stdout",
     "output_type": "stream",
     "text": [
      "data is loaded\n"
     ]
    }
   ],
   "source": [
    "page = \"https://www.imdb.com/chart/boxoffice/?ref_=nv_ch_cht\"\n",
    "response = requests.get(page)\n",
    "soup = BeautifulSoup(response.text,'lxml')\n",
    "print('data is loaded')"
   ]
  },
  {
   "cell_type": "code",
   "execution_count": 7,
   "metadata": {},
   "outputs": [],
   "source": [
    "target=soup.find('table',attrs={'class':'chart'}).tbody"
   ]
  },
  {
   "cell_type": "code",
   "execution_count": 8,
   "metadata": {},
   "outputs": [
    {
     "data": {
      "text/plain": [
       "10"
      ]
     },
     "execution_count": 8,
     "metadata": {},
     "output_type": "execute_result"
    }
   ],
   "source": [
    "rows= target.find_all('tr')\n",
    "len(rows)"
   ]
  },
  {
   "cell_type": "code",
   "execution_count": null,
   "metadata": {},
   "outputs": [],
   "source": [
    "movies = []\n",
    "for  row in rows:\n",
    "    title = row.find (\"td\",attrs={'class':'titleColumn'})\n",
    "    weekend = row.find (\"td\",attrs={'class':'ratingColumn'})\n",
    "    gross = row.find_all (\"td\",attrs={'class':'ratingColumn'})[-1]\n",
    "    week = row.find (\"td\",attrs={'class':'weeksColumn'})\n",
    "    print(title.text.strip())\n",
    "    print(weekend.text.strip())\n",
    "    print(gross.text.strip())\n",
    "    print(week.text.strip())\n",
    "\n",
    "    \n",
    "\n"
   ]
  },
  {
   "cell_type": "code",
   "execution_count": null,
   "metadata": {},
   "outputs": [],
   "source": [
    "movies = []\n",
    "for  row in rows:\n",
    "    title = row.find (\"td\",attrs={'class':'titleColumn'})\n",
    "    weekend = row.find (\"td\",attrs={'class':'ratingColumn'})\n",
    "    gross = row.find_all (\"td\",attrs={'class':'ratingColumn'})[-1]\n",
    "    week = row.find (\"td\",attrs={'class':'weeksColumn'})\n",
    "    movies.append({\n",
    "        'title':title.text.strip(),\n",
    "        'weekend':weekend.text.strip(),\n",
    "        'gross':gross.text.strip(),\n",
    "        'week':week.text.strip()\n",
    "    })\n",
    "\n",
    "data = pd.DataFrame(movies)\n",
    "data\n",
    "    \n",
    "\n"
   ]
  },
  {
   "cell_type": "code",
   "execution_count": 1,
   "metadata": {},
   "outputs": [
    {
     "ename": "NameError",
     "evalue": "name 'rows' is not defined",
     "output_type": "error",
     "traceback": [
      "\u001b[1;31m---------------------------------------------------------------------------\u001b[0m",
      "\u001b[1;31mNameError\u001b[0m                                 Traceback (most recent call last)",
      "\u001b[1;32md:\\Python lab\\web_mining\\Box_office.ipynb Cell 7'\u001b[0m in \u001b[0;36m<module>\u001b[1;34m\u001b[0m\n\u001b[0;32m      <a href='vscode-notebook-cell:/d%3A/Python%20lab/web_mining/Box_office.ipynb#ch0000006?line=0'>1</a>\u001b[0m movies \u001b[39m=\u001b[39m []\n\u001b[1;32m----> <a href='vscode-notebook-cell:/d%3A/Python%20lab/web_mining/Box_office.ipynb#ch0000006?line=1'>2</a>\u001b[0m \u001b[39mfor\u001b[39;00m row \u001b[39min\u001b[39;00m rows:\n\u001b[0;32m      <a href='vscode-notebook-cell:/d%3A/Python%20lab/web_mining/Box_office.ipynb#ch0000006?line=2'>3</a>\u001b[0m     title \u001b[39m=\u001b[39m row\u001b[39m.\u001b[39mfind(\u001b[39m'\u001b[39m\u001b[39mtd\u001b[39m\u001b[39m'\u001b[39m,attrs\u001b[39m=\u001b[39m{\u001b[39m'\u001b[39m\u001b[39mclass\u001b[39m\u001b[39m'\u001b[39m:\u001b[39m'\u001b[39m\u001b[39mtitleColumn\u001b[39m\u001b[39m'\u001b[39m})\n\u001b[0;32m      <a href='vscode-notebook-cell:/d%3A/Python%20lab/web_mining/Box_office.ipynb#ch0000006?line=3'>4</a>\u001b[0m     weekend \u001b[39m=\u001b[39m row\u001b[39m.\u001b[39mfind( \u001b[39m'\u001b[39m\u001b[39mtd\u001b[39m\u001b[39m'\u001b[39m,attrs\u001b[39m=\u001b[39m{\u001b[39m'\u001b[39m\u001b[39mclass\u001b[39m\u001b[39m'\u001b[39m:\u001b[39m'\u001b[39m\u001b[39mratingColumn\u001b[39m\u001b[39m'\u001b[39m})\n",
      "\u001b[1;31mNameError\u001b[0m: name 'rows' is not defined"
     ]
    }
   ],
   "source": [
    "movies = []\n",
    "for row in rows:\n",
    "    title = row.find('td',attrs={'class':'titleColumn'})\n",
    "    weekend = row.find( 'td',attrs={'class':'ratingColumn'})\n",
    "    gross = row.find_all('td',attrs={'class':'ratingColumn'})[-1]\n",
    "    week = row.find('td',attrs={'class':'weeksColumn'})\n",
    "    movies.append({\n",
    "        'title':title.text.strip(),\n",
    "        'weekend':weekend.text.strip(),\n",
    "        'gross':gross.text.strip(),\n",
    "        'week':week.text.strip()\n",
    "    })\n",
    "\n",
    "data = pd.DataFrame(movies)\n",
    "data.to_csv('box_office.csv',index=False)"
   ]
  },
  {
   "cell_type": "code",
   "execution_count": null,
   "metadata": {},
   "outputs": [],
   "source": []
  }
 ],
 "metadata": {
  "interpreter": {
   "hash": "3c2a4be17033db99e330745b79299328aef13830ff12594a5e1dd606863de531"
  },
  "kernelspec": {
   "display_name": "Python 3.9.9 ('base')",
   "language": "python",
   "name": "python3"
  },
  "language_info": {
   "codemirror_mode": {
    "name": "ipython",
    "version": 3
   },
   "file_extension": ".py",
   "mimetype": "text/x-python",
   "name": "python",
   "nbconvert_exporter": "python",
   "pygments_lexer": "ipython3",
   "version": "3.9.9"
  },
  "orig_nbformat": 4
 },
 "nbformat": 4,
 "nbformat_minor": 2
}
