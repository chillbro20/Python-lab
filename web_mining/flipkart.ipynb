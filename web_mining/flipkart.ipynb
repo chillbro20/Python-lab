{
 "cells": [
  {
   "cell_type": "code",
   "execution_count": 14,
   "metadata": {},
   "outputs": [
    {
     "name": "stdout",
     "output_type": "stream",
     "text": [
      "flipkart.com?page=1\n",
      "flipkart.com?page=2\n",
      "flipkart.com?page=3\n",
      "flipkart.com?page=4\n",
      "flipkart.com?page=5\n",
      "flipkart.com?page=6\n",
      "flipkart.com?page=7\n",
      "flipkart.com?page=8\n",
      "flipkart.com?page=9\n",
      "flipkart.com?page=10\n"
     ]
    }
   ],
   "source": [
    "for i in range(10):\n",
    "    print(f'flipkart.com?page={i+1}')"
   ]
  },
  {
   "cell_type": "code",
   "execution_count": null,
   "metadata": {},
   "outputs": [],
   "source": []
  },
  {
   "cell_type": "code",
   "execution_count": null,
   "metadata": {},
   "outputs": [],
   "source": []
  }
 ],
 "metadata": {
  "interpreter": {
   "hash": "3c2a4be17033db99e330745b79299328aef13830ff12594a5e1dd606863de531"
  },
  "kernelspec": {
   "display_name": "Python 3.9.9 ('base')",
   "language": "python",
   "name": "python3"
  },
  "language_info": {
   "codemirror_mode": {
    "name": "ipython",
    "version": 3
   },
   "file_extension": ".py",
   "mimetype": "text/x-python",
   "name": "python",
   "nbconvert_exporter": "python",
   "pygments_lexer": "ipython3",
   "version": "3.9.9"
  },
  "orig_nbformat": 4
 },
 "nbformat": 4,
 "nbformat_minor": 2
}
